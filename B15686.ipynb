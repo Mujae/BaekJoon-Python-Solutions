{
 "cells": [
  {
   "cell_type": "markdown",
   "id": "9a909702-d0e0-4a46-b45e-45bdfe759018",
   "metadata": {},
   "source": [
    "B15686 치킨 배달  "
   ]
  },
  {
   "cell_type": "code",
   "execution_count": 1,
   "id": "053b11a3-7632-40b7-b7fd-8052332f10d1",
   "metadata": {},
   "outputs": [
    {
     "ename": "ValueError",
     "evalue": "not enough values to unpack (expected 2, got 0)",
     "output_type": "error",
     "traceback": [
      "\u001b[1;31m---------------------------------------------------------------------------\u001b[0m",
      "\u001b[1;31mValueError\u001b[0m                                Traceback (most recent call last)",
      "Input \u001b[1;32mIn [1]\u001b[0m, in \u001b[0;36m<cell line: 5>\u001b[1;34m()\u001b[0m\n\u001b[0;32m      2\u001b[0m \u001b[38;5;28minput\u001b[39m \u001b[38;5;241m=\u001b[39m sys\u001b[38;5;241m.\u001b[39mstdin\u001b[38;5;241m.\u001b[39mreadline\n\u001b[0;32m      3\u001b[0m \u001b[38;5;28;01mfrom\u001b[39;00m \u001b[38;5;21;01mitertools\u001b[39;00m \u001b[38;5;28;01mimport\u001b[39;00m combinations\n\u001b[1;32m----> 5\u001b[0m n,m \u001b[38;5;241m=\u001b[39m \u001b[38;5;28mmap\u001b[39m(\u001b[38;5;28mint\u001b[39m,\u001b[38;5;28minput\u001b[39m()\u001b[38;5;241m.\u001b[39msplit())\n\u001b[0;32m      6\u001b[0m li\u001b[38;5;241m=\u001b[39m[]\u001b[38;5;66;03m#맵을 받을 리스트\u001b[39;00m\n\u001b[0;32m      7\u001b[0m li2\u001b[38;5;241m=\u001b[39m[]\u001b[38;5;66;03m#1(집)을 받을 리스트\u001b[39;00m\n",
      "\u001b[1;31mValueError\u001b[0m: not enough values to unpack (expected 2, got 0)"
     ]
    }
   ],
   "source": [
    "import sys\n",
    "input = sys.stdin.readline\n",
    "from itertools import combinations\n",
    "\n",
    "n,m = map(int,input().split())\n",
    "li=[]#맵을 받을 리스트\n",
    "li2=[]#1(집)을 받을 리스트\n",
    "li3=[]#2(치킨집)을 받을 리스트\n",
    "\n",
    "for i in range(n):\n",
    "    li.append(list(map(int,input().split())))\n",
    "    for j in range(n):#1과 2 체크\n",
    "        if li[i][j]==1:\n",
    "            li2.append((i,j))\n",
    "        elif li[i][j]==2:\n",
    "            li3.append((i,j))\n",
    "\n",
    "li3=list(combinations(li3,m))#치킨집 조합\n",
    "l=len(li3)\n",
    "li4=[0]*l#결과를 저장해나갈 리스트\n",
    "\n",
    "for k, w in li2:#1\n",
    "    for i in range(l):#2 반복횟수\n",
    "        mi=9999\n",
    "        for j in li3[i]:#2\n",
    "            mi=min(mi, abs(k-j[0])+abs(w-j[1]))\n",
    "        li4[i]+=mi\n",
    "print(min(li4))#최솟값 출력"
   ]
  }
 ],
 "metadata": {
  "kernelspec": {
   "display_name": "Python 3 (ipykernel)",
   "language": "python",
   "name": "python3"
  },
  "language_info": {
   "codemirror_mode": {
    "name": "ipython",
    "version": 3
   },
   "file_extension": ".py",
   "mimetype": "text/x-python",
   "name": "python",
   "nbconvert_exporter": "python",
   "pygments_lexer": "ipython3",
   "version": "3.9.12"
  }
 },
 "nbformat": 4,
 "nbformat_minor": 5
}
