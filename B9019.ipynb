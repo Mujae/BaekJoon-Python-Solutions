{
  "nbformat": 4,
  "nbformat_minor": 0,
  "metadata": {
    "colab": {
      "provenance": []
    },
    "kernelspec": {
      "name": "python3",
      "display_name": "Python 3"
    },
    "language_info": {
      "name": "python"
    }
  },
  "cells": [
    {
      "cell_type": "markdown",
      "source": [
        "# DSLR\n",
        "D S L R  \n",
        "0~10000 십진수  \n",
        "D는 n을 두 배로 하고 9999보다 크면 10000으로  나눈 나머지를 취함 (2n mod 10000)\n",
        "\n",
        "S는 n에서 1을 뺀 것을 저장 0이 되면 9999를 저장  \n",
        "\n",
        "L은 n의 각 자릿수를 왼편으로 회전  \n",
        "R은 각 자릿수를 오른편으로 회전  \n",
        "\n"
      ],
      "metadata": {
        "id": "QxQoTZZFYyH5"
      }
    },
    {
      "cell_type": "code",
      "execution_count": null,
      "metadata": {
        "id": "ufXZ7Tt7YvqF"
      },
      "outputs": [],
      "source": [
        "import sys\n",
        "input = sys.stdin.readline\n",
        "t=int(input()) #테스트 케이스\n",
        "from collections import deque\n",
        "li=[2, 4, 8, 16, 32, 64, 128, 256, 512, 1024, 2048, 4096, 9192]\n",
        "for _ in range(t):\n",
        "    a, b = map(int,input().split())#a를 b로 만드는 것이 목표\n",
        "    sb=str(b)\n",
        "    l=len(sb)\n",
        "    if l!=4:\n",
        "        sb=\" \"*(4-l)+sb\n",
        "    s=list()\n",
        "    while a!=b:\n",
        "        g=0\n",
        "        sa=str(a)\n",
        "        l2=len(sa)\n",
        "        que=deque()\n",
        "        for i in range(l2):\n",
        "            que.append(sa[i])\n",
        "        for i in range(l2):\n",
        "            que.rotate(1)\n",
        "            c=''\n",
        "            for j in range(l2):\n",
        "                c+=que[j]\n",
        "            a=int(c)             \n",
        "            if a==b:\n",
        "                g=i+1\n",
        "                break\n",
        "        if g>0:\n",
        "            if g<3:\n",
        "                for _ in range(g):\n",
        "                    s.append('R')\n",
        "            else:\n",
        "                for _ in range(4-g):\n",
        "                    s.append('L')\n",
        "            break\n",
        "        if int(b/a) in li:\n",
        "            while a!=b:\n",
        "                a*=2\n",
        "                s.append('D')\n",
        "            break\n",
        "        if a-1==-1:\n",
        "            a=9999\n",
        "        else:\n",
        "            a-=1\n",
        "        s.append('S')\n",
        " \n",
        "    for i in range(len(s)):\n",
        "        print(s[i], end=\"\")\n",
        "    print()"
      ]
    },
    {
      "cell_type": "markdown",
      "source": [
        "내일은 BFS로 풀어봄.."
      ],
      "metadata": {
        "id": "hbT4XO6f8ax3"
      }
    },
    {
      "cell_type": "code",
      "source": [
        "import sys\n",
        "from collections import deque\n",
        "\n",
        "input = sys.stdin.readline\n",
        "t=int(input()) #테스트 케이스\n",
        "\n",
        "def getL(n):\n",
        "    d1 = n//1000\n",
        "    d2 = (n%1000)//100\n",
        "    d3 = (n%100) //10\n",
        "    d4 = (n%10)\n",
        "    return d2*1000 + d3*100 + d4*10 + d1\n",
        "def getR(n):\n",
        "    d1 = n//1000\n",
        "    d2 = (n%1000)//100\n",
        "    d3 = (n%100) //10\n",
        "    d4 = (n%10)\n",
        "    return d4*1000 + d1*100 + d2*10 + d3\n",
        "def bfs():#bfs로 돌려야 그나마 이미 방문했던 숫자들을 방문 안해서 시간이 단축됨\n",
        "    v = [0]*10000\n",
        "    a, b = map(int,input().split())#a를 b로 만드는 것이 목표\n",
        "    que = deque([(a, '')])\n",
        "    v[a] = 1\n",
        "    while que:\n",
        "        sa, st = que.popleft()\n",
        "        if sa == b:\n",
        "            return st\n",
        "        li = (sa*2%10000, sa-1 if sa != 0 else 9999, getL(sa), getR(sa))\n",
        "        for i in range(4):\n",
        "            if v[li[i]]==0:\n",
        "                v[li[i]]=1\n",
        "                que.append((li[i], st+al[i]))#글자 추가\n",
        "    \n",
        "al=(\"D\", \"S\", \"L\", \"R\")\n",
        "for _ in range(t):\n",
        "    print(bfs())\n",
        "    "
      ],
      "metadata": {
        "id": "ouGgcGwAY-Ls"
      },
      "execution_count": null,
      "outputs": []
    },
    {
      "cell_type": "markdown",
      "source": [
        "python으로는 시간초과가 되지만 pypy로는 통과할 수 있는 코드  \n",
        "코드 요약: 한 반복문 마다 D S L R에 대한 값들을 따로 저장하고 다음 반복으로  \n",
        "그러다 b와 같아지면 그 방법이 제일 빠른 방법이니깐 return하고 출력"
      ],
      "metadata": {
        "id": "1JjkhVPsI9bq"
      }
    },
    {
      "cell_type": "code",
      "source": [],
      "metadata": {
        "id": "K_WwoOKo8cXz"
      },
      "execution_count": null,
      "outputs": []
    }
  ]
}