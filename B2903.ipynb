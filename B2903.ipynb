{
 "cells": [
  {
   "cell_type": "markdown",
   "id": "0b352151",
   "metadata": {},
   "source": [
    "B2903"
   ]
  },
  {
   "cell_type": "code",
   "execution_count": 10,
   "id": "2703b267",
   "metadata": {},
   "outputs": [
    {
     "name": "stdout",
     "output_type": "stream",
     "text": [
      "1\n",
      "1 3\n",
      "9\n"
     ]
    }
   ],
   "source": [
    "n=int(input())\n",
    "s=2\n",
    "c=2\n",
    "for i in range(n):\n",
    "    c=2**i\n",
    "    s+=c\n",
    "print(s**2)"
   ]
  }
 ],
 "metadata": {
  "kernelspec": {
   "display_name": "Python 3",
   "language": "python",
   "name": "python3"
  },
  "language_info": {
   "codemirror_mode": {
    "name": "ipython",
    "version": 3
   },
   "file_extension": ".py",
   "mimetype": "text/x-python",
   "name": "python",
   "nbconvert_exporter": "python",
   "pygments_lexer": "ipython3",
   "version": "3.8.8"
  }
 },
 "nbformat": 4,
 "nbformat_minor": 5
}
