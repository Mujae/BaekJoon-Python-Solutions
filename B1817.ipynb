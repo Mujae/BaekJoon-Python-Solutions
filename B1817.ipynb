{
 "cells": [
  {
   "cell_type": "markdown",
   "id": "2ce0aeb1-f646-4715-ac92-bcbd418301b7",
   "metadata": {},
   "source": [
    "B1817"
   ]
  },
  {
   "cell_type": "code",
   "execution_count": null,
   "id": "0865595f-2121-4908-aaa2-1b11e926e832",
   "metadata": {},
   "outputs": [],
   "source": [
    "import sys\n",
    "input = sys.stdin.readline\n",
    "\n",
    "n, m = map(int, input().split())\n",
    "\n",
    "if n==0:\n",
    "    print(0)\n",
    "else:\n",
    "    li=list(map(int, input().split()))\n",
    "    c=0\n",
    "    s=0\n",
    "    for i in range(n):\n",
    "        if s+li[i]>m:\n",
    "            c+=1\n",
    "            s=li[i]\n",
    "        else:\n",
    "            s+=li[i]\n",
    "    print(c+1)\n"
   ]
  }
 ],
 "metadata": {
  "kernelspec": {
   "display_name": "",
   "name": ""
  },
  "language_info": {
   "name": ""
  }
 },
 "nbformat": 4,
 "nbformat_minor": 5
}
