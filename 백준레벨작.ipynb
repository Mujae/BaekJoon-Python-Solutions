{
 "cells": [
  {
   "cell_type": "markdown",
   "id": "5fb182e6-f14e-446e-a92a-c128f6a2a89f",
   "metadata": {},
   "source": [
    "B1003"
   ]
  },
  {
   "cell_type": "code",
   "execution_count": null,
   "id": "dc1683d3-d03c-417b-b67a-3f3e21e95756",
   "metadata": {},
   "outputs": [
    {
     "name": "stdin",
     "output_type": "stream",
     "text": [
      " 3\n",
      " 3\n"
     ]
    },
    {
     "name": "stdout",
     "output_type": "stream",
     "text": [
      "1 2\n"
     ]
    }
   ],
   "source": [
    "n=int(input())\n",
    "li=[0,1]\n",
    "li2=[(1,0), (0,1)]\n",
    "\n",
    "for i in range(n):\n",
    "    s=int(input())\n",
    "    l=len(li)\n",
    "    if l-1>s:\n",
    "        print(li2[s][0], end=\" \")\n",
    "        print(li2[s][1])\n",
    "    else:\n",
    "        for i in range(l,s+1):\n",
    "            li.append(li[i-1]+li[i-2])\n",
    "            li2.append((li2[i-1][0]+li2[i-2][0],li2[i-1][1]+li2[i-2][1]))\n",
    "        print(li2[s][0], end=\" \")\n",
    "        print(li2[s][1])"
   ]
  },
  {
   "cell_type": "markdown",
   "id": "d6efcf0a-361b-46af-b4df-eb2c7f58537c",
   "metadata": {},
   "source": [
    "B18870"
   ]
  },
  {
   "cell_type": "code",
   "execution_count": 2,
   "id": "e1d1c544-00db-4108-8bac-7571ceaf3bc1",
   "metadata": {},
   "outputs": [
    {
     "name": "stdin",
     "output_type": "stream",
     "text": [
      " 5\n",
      " 2 4 -10 4 -9\n"
     ]
    },
    {
     "name": "stdout",
     "output_type": "stream",
     "text": [
      "2 3 0 3 1 "
     ]
    }
   ],
   "source": [
    "n=int(input())\n",
    "li=list(map(int, input().split()))\n",
    "\n",
    "\n",
    "slist=sorted(list(set(li)))\n",
    "\n",
    "dic={slist[i]:i for i in range(len(slist))}\n",
    "\n",
    "for i in range(n):\n",
    "    print(dic[li[i]], end=\" \")"
   ]
  }
 ],
 "metadata": {
  "kernelspec": {
   "display_name": "Python 3 (ipykernel)",
   "language": "python",
   "name": "python3"
  },
  "language_info": {
   "codemirror_mode": {
    "name": "ipython",
    "version": 3
   },
   "file_extension": ".py",
   "mimetype": "text/x-python",
   "name": "python",
   "nbconvert_exporter": "python",
   "pygments_lexer": "ipython3",
   "version": "3.9.12"
  }
 },
 "nbformat": 4,
 "nbformat_minor": 5
}
