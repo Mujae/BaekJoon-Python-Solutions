{
 "cells": [
  {
   "cell_type": "markdown",
   "id": "c217dd29-dcee-449d-91ed-a30e991ec700",
   "metadata": {},
   "source": [
    "도우넛 행성 B27211번  \n",
    "그래프에서 0으로 된 영역의 개수를 구하는 문제인데 도넛처럼 생겼다고  \n",
    "생각하여 범위를 초과해도 연결만 되어 있으면 같은 영역으로 취급하는 문제."
   ]
  },
  {
   "cell_type": "code",
   "execution_count": 4,
   "id": "28dbdd62-0779-41fa-b0fd-3cbd944afab9",
   "metadata": {},
   "outputs": [
    {
     "name": "stdin",
     "output_type": "stream",
     "text": [
      " 5 6\n",
      " 1 1 1 1 1 1\n",
      " 1 0 0 0 1 1\n",
      " 1 1 1 1 0 0\n",
      " 1 1 1 1 0 0\n",
      " 1 1 1 1 1 1\n"
     ]
    },
    {
     "name": "stdout",
     "output_type": "stream",
     "text": [
      "2\n"
     ]
    }
   ],
   "source": [
    "from collections import deque\n",
    "\n",
    "n, m = map(int, input().split())\n",
    "li=[]\n",
    "\n",
    "for i in range(n):\n",
    "    li.append(list(map(int, input().split())))\n",
    "    \n",
    "v=[[False]*m for _ in range(n)]\n",
    "q=deque()\n",
    "xd=[-1,1,0,0]\n",
    "yd=[0,0,-1,1]\n",
    "c=0\n",
    "\n",
    "for i in range(n):\n",
    "    for j in range(m):\n",
    "        if li[i][j]==0 and v[i][j]==False:\n",
    "            q.append((i,j))\n",
    "            while q: # bfs\n",
    "                x, y = q.popleft()\n",
    "                v[x][y]=True\n",
    "                for k in range(4):\n",
    "                    nx = x+xd[k]\n",
    "                    my = y+yd[k]\n",
    "\n",
    "                    if nx<0:\n",
    "                        nx=n-1\n",
    "                    elif nx>=n:\n",
    "                        nx=0\n",
    "                    elif my<0:\n",
    "                        my=m-1\n",
    "                    elif my>=m:\n",
    "                        my=0\n",
    "                    \n",
    "                    if li[nx][my]==1:\n",
    "                        continue\n",
    "                    elif li[nx][my]==0 and v[nx][my]==False:\n",
    "                        q.append((nx,my))\n",
    "            c+=1\n",
    "        \n",
    "print(c)"
   ]
  }
 ],
 "metadata": {
  "kernelspec": {
   "display_name": "Python 3 (ipykernel)",
   "language": "python",
   "name": "python3"
  },
  "language_info": {
   "codemirror_mode": {
    "name": "ipython",
    "version": 3
   },
   "file_extension": ".py",
   "mimetype": "text/x-python",
   "name": "python",
   "nbconvert_exporter": "python",
   "pygments_lexer": "ipython3",
   "version": "3.9.12"
  }
 },
 "nbformat": 4,
 "nbformat_minor": 5
}
