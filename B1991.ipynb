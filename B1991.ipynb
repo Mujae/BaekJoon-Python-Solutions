{
 "cells": [
  {
   "cell_type": "markdown",
   "id": "46016960-9254-4ba6-b12c-b9865c9d32db",
   "metadata": {},
   "source": [
    "B1991 트리순회 Chat GPT가 짜준 코드"
   ]
  },
  {
   "cell_type": "code",
   "execution_count": null,
   "id": "bda3912b-e500-4e92-91c8-23bef982d115",
   "metadata": {},
   "outputs": [],
   "source": [
    "class Node:\n",
    "    def __init__(self, data, left_node=None, right_node=None):\n",
    "        self.data = data\n",
    "        self.left_node = left_node\n",
    "        self.right_node = right_node\n",
    "\n",
    "class Tree:\n",
    "    def __init__(self):\n",
    "        self.root_node = None\n",
    "\n",
    "    def insert_node(self, data, left_data, right_data):\n",
    "        if self.root_node is None:\n",
    "            self.root_node = Node(data)\n",
    "        self.search_node(self.root_node, data, left_data, right_data)\n",
    "\n",
    "    def search_node(self, node, data, left_data, right_data):\n",
    "        if node is None:\n",
    "            return\n",
    "        elif node.data == data:\n",
    "            if left_data != '.':\n",
    "                node.left_node = Node(left_data)\n",
    "            if right_data != '.':\n",
    "                node.right_node = Node(right_data)\n",
    "        else:\n",
    "            self.search_node(node.left_node, data, left_data, right_data)\n",
    "            self.search_node(node.right_node, data, left_data, right_data)\n",
    "\n",
    "    def preorder_traversal(self, node):\n",
    "        if node is not None:\n",
    "            print(node.data, end='')\n",
    "            self.preorder_traversal(node.left_node)\n",
    "            self.preorder_traversal(node.right_node)\n",
    "\n",
    "    def inorder_traversal(self, node):\n",
    "        if node is not None:\n",
    "            self.inorder_traversal(node.left_node)\n",
    "            print(node.data, end='')\n",
    "            self.inorder_traversal(node.right_node)\n",
    "\n",
    "    def postorder_traversal(self, node):\n",
    "        if node is not None:\n",
    "            self.postorder_traversal(node.left_node)\n",
    "            self.postorder_traversal(node.right_node)\n",
    "            print(node.data, end='')\n",
    "\n",
    "tree = Tree()\n",
    "\n",
    "n = int(input())\n",
    "\n",
    "for i in range(n):\n",
    "    data, left_data, right_data = input().split()\n",
    "    tree.insert_node(data, left_data, right_data)\n",
    "\n",
    "tree.preorder_traversal(tree.root_node)\n",
    "print()\n",
    "tree.inorder_traversal(tree.root_node)\n",
    "print()\n",
    "tree.postorder_traversal(tree.root_node)\n"
   ]
  }
 ],
 "metadata": {
  "kernelspec": {
   "display_name": "Python 3 (ipykernel)",
   "language": "python",
   "name": "python3"
  },
  "language_info": {
   "name": ""
  }
 },
 "nbformat": 4,
 "nbformat_minor": 5
}
