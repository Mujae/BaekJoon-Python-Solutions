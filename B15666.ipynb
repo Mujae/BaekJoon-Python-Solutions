{
 "cells": [
  {
   "cell_type": "markdown",
   "id": "337c4ac4-623c-4cb6-adc8-402942bc869b",
   "metadata": {},
   "source": [
    "B15666 N과 M 마지막"
   ]
  },
  {
   "cell_type": "code",
   "execution_count": null,
   "id": "4939b101-2d8d-4613-8aa6-f8fd7bbc104e",
   "metadata": {},
   "outputs": [],
   "source": [
    "import sys\n",
    "input = sys.stdin.readline\n",
    "N, M = map(int, input().split())\n",
    "\n",
    "li=list(map(int, input().split()))\n",
    "\n",
    "stack=[]\n",
    "stack2=[]\n",
    "def dfs():\n",
    "    if len(stack) == M:\n",
    "        li2=[]\n",
    "        for i in stack:\n",
    "            li2.append(li[i])\n",
    "        stack2.append(li2)\n",
    "        return\n",
    "    for i in range(N):\n",
    "        if stack:\n",
    "            if li[i]>=li[stack[-1]]:#비내림차순을 위하여\n",
    "                stack.append(i)\n",
    "                dfs()\n",
    "                stack.pop()\n",
    "        else:\n",
    "            stack.append(i)\n",
    "            dfs()\n",
    "            stack.pop()\n",
    "\n",
    "dfs()\n",
    "re=sorted(list(set([tuple(o) for o in stack2])))\n",
    "for i in range(len(re)):\n",
    "    print(*re[i])"
   ]
  }
 ],
 "metadata": {
  "kernelspec": {
   "display_name": "Python 3 (ipykernel)",
   "language": "python",
   "name": "python3"
  },
  "language_info": {
   "codemirror_mode": {
    "name": "ipython",
    "version": 3
   },
   "file_extension": ".py",
   "mimetype": "text/x-python",
   "name": "python",
   "nbconvert_exporter": "python",
   "pygments_lexer": "ipython3",
   "version": "3.9.12"
  }
 },
 "nbformat": 4,
 "nbformat_minor": 5
}
