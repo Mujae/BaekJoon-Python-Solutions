{
 "cells": [
  {
   "cell_type": "markdown",
   "id": "123216a7-dca0-40c3-8cb3-bf21deb88d92",
   "metadata": {},
   "source": [
    "B1459 걷기"
   ]
  },
  {
   "cell_type": "code",
   "execution_count": null,
   "id": "418b4ebb-3850-44a5-9c87-5dde6be98124",
   "metadata": {},
   "outputs": [],
   "source": [
    "x,y, a, b= map(int, input().split())\n",
    "r = 0\n",
    "if 2*a <= b:\n",
    "    print((x+y)*a)\n",
    "else:\n",
    "    s = min(x, y)\n",
    "    r = s*b\n",
    "    c = abs(x-y)\n",
    "    if a > b:\n",
    "        if c % 2 == 0:\n",
    "            r += c * b\n",
    "        else:\n",
    "            r += (c-1)*b + a\n",
    "    else:\n",
    "        r += c*a\n",
    "    print(r)\n"
   ]
  }
 ],
 "metadata": {
  "kernelspec": {
   "display_name": "Python 3 (ipykernel)",
   "language": "python",
   "name": "python3"
  },
  "language_info": {
   "name": ""
  }
 },
 "nbformat": 4,
 "nbformat_minor": 5
}
