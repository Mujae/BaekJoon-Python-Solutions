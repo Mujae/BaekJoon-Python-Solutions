{
 "cells": [
  {
   "cell_type": "markdown",
   "id": "13dc2c12-dea3-4253-b68a-1fd9353a1533",
   "metadata": {},
   "source": [
    "# B27277 장기자랑  \n",
    "앞 사람이 잘하면 기가 죽기 때문에 $a_i$의 사람은 max(0, $a_i - a_{i-1}$)만큼 실력을 발휘함  그래서 최댓값은?"
   ]
  },
  {
   "cell_type": "code",
   "execution_count": 1,
   "id": "a9ecfdfd-24c4-4717-af3b-fc39b4c63328",
   "metadata": {},
   "outputs": [
    {
     "name": "stdin",
     "output_type": "stream",
     "text": [
      " 6\n",
      " 1 4 3 5 6 2\n"
     ]
    },
    {
     "name": "stdout",
     "output_type": "stream",
     "text": [
      "12\n"
     ]
    }
   ],
   "source": [
    "n=int(input()) #병사의 수\n",
    "li=list(map(int, input().split()))#각각의 장기자랑 능력치?\n",
    "li.append(0)#밑에서 1부터 시작하기 위한 0, 애초에 장기자랑 능력치 범위도 1이상임 넣어도 ㄱㅊ\n",
    "li.sort()#정렬해주시고\n",
    "s=li[-1]#max값 바로 합에 추가해주시고\n",
    "l=len(li)\n",
    "#그리디하게 생각하면 제일 큰 값을 앞에 둬서 절감없이 가고 그 다음부터는 차가 큰 사람들을\n",
    "#순서쌍으로 배치하면 최댓값이 나올거란 가정하에 진행함\n",
    "for i in range(1,l//2):\n",
    "    s+=li[-i-1]-li[i]\n",
    "print(s)"
   ]
  },
  {
   "cell_type": "markdown",
   "id": "81bc5da2-0232-45b7-b485-e32564b1ad03",
   "metadata": {},
   "source": [
    "good"
   ]
  }
 ],
 "metadata": {
  "kernelspec": {
   "display_name": "Python 3 (ipykernel)",
   "language": "python",
   "name": "python3"
  },
  "language_info": {
   "codemirror_mode": {
    "name": "ipython",
    "version": 3
   },
   "file_extension": ".py",
   "mimetype": "text/x-python",
   "name": "python",
   "nbconvert_exporter": "python",
   "pygments_lexer": "ipython3",
   "version": "3.9.12"
  }
 },
 "nbformat": 4,
 "nbformat_minor": 5
}
