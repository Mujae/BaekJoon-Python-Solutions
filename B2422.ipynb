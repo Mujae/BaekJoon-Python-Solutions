{
 "cells": [
  {
   "cell_type": "markdown",
   "id": "bd80a1c9-2baf-4b56-9e7e-97f4cb4ca843",
   "metadata": {},
   "source": [
    "B2422번"
   ]
  },
  {
   "cell_type": "code",
   "execution_count": null,
   "id": "f9efca14-113a-4e70-ae2e-8b39147bca95",
   "metadata": {},
   "outputs": [],
   "source": [
    "n,m = map(int,input().split())\n",
    "\n",
    "li=[[0]*n for _ in range(n)]\n",
    "\n",
    "for i in range(m):\n",
    "    a, b = map(int, input().split())\n",
    "    li[a-1][b-1]=1\n",
    "    li[b-1][a-1]=1\n",
    "\n",
    "c=0\n",
    "\n",
    "for i in range(n):\n",
    "    for j in range(i+1, n):\n",
    "        for k in range(j+1, n):\n",
    "            if not li[i][j] and not li[j][k] and not li[i][k]:\n",
    "                c+=1\n",
    "\n",
    "print(c)"
   ]
  }
 ],
 "metadata": {
  "kernelspec": {
   "display_name": "Python 3 (ipykernel)",
   "language": "python",
   "name": "python3"
  },
  "language_info": {
   "name": ""
  }
 },
 "nbformat": 4,
 "nbformat_minor": 5
}
