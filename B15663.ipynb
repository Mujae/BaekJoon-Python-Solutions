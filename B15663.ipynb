{
 "cells": [
  {
   "cell_type": "markdown",
   "id": "dbb91f2c-40d5-4cef-b61b-0e808095c67d",
   "metadata": {},
   "source": [
    "B15663  N과 M 9번"
   ]
  },
  {
   "cell_type": "code",
   "execution_count": null,
   "id": "1fd3517f-107a-4b38-9ced-6e0013b2d974",
   "metadata": {},
   "outputs": [],
   "source": [
    "import sys\n",
    "input = sys.stdin.readline\n",
    "N, M = map(int, input().split())\n",
    "\n",
    "li=list(map(int, input().split()))\n",
    "\n",
    "stack=[]\n",
    "stack2=[]\n",
    "def dfs():\n",
    "    if len(stack) == M:\n",
    "        li2=[]\n",
    "        for i in stack:\n",
    "            li2.append(li[i])\n",
    "        #여기서 li2가 stack2에 있는지 없는지 체크하면 시간초과가 떠서\n",
    "        stack2.append(li2)\n",
    "        return\n",
    "    for i in range(N):\n",
    "        if i not in stack:\n",
    "            stack.append(i)\n",
    "            dfs()\n",
    "            stack.pop()\n",
    "\n",
    "dfs()\n",
    "#여기서 set을 활용하여 문제를 해결함\n",
    "re=sorted(list(set([tuple(o) for o in stack2])))#set에는 list를 못 넣어서 tuple로 변환\n",
    "for i in range(len(re)):\n",
    "    print(*re[i])"
   ]
  }
 ],
 "metadata": {
  "kernelspec": {
   "display_name": "Python 3 (ipykernel)",
   "language": "python",
   "name": "python3"
  },
  "language_info": {
   "codemirror_mode": {
    "name": "ipython",
    "version": 3
   },
   "file_extension": ".py",
   "mimetype": "text/x-python",
   "name": "python",
   "nbconvert_exporter": "python",
   "pygments_lexer": "ipython3",
   "version": "3.9.12"
  }
 },
 "nbformat": 4,
 "nbformat_minor": 5
}
