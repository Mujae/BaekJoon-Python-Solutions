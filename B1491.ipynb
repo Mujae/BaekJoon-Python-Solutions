{
 "cells": [
  {
   "cell_type": "markdown",
   "id": "1b6dd321-7413-45b0-bb62-abac2f05ee95",
   "metadata": {},
   "source": [
    "B1491"
   ]
  },
  {
   "cell_type": "code",
   "execution_count": null,
   "id": "c59f5db3-5852-40a2-ac34-90de1372647d",
   "metadata": {},
   "outputs": [],
   "source": [
    "m, n = map(int, input().split())\n",
    "\n",
    "#오른쪽으로 바꿔\n",
    "\n",
    "li = [[0]*m for _ in range(n)]\n",
    "li2=[[0,1],[1,0],[0,-1], [-1,0]]\n",
    "j=0\n",
    "x,y=0,0\n",
    "c=0\n",
    "li[0][0]=1\n",
    "while True:\n",
    "    x+=li2[j][0]\n",
    "    y+=li2[j][1]\n",
    "    if x==n:\n",
    "        x-=1\n",
    "        j+=1\n",
    "    elif x==-1:\n",
    "        x+=1\n",
    "        j+=1\n",
    "    elif y==m:\n",
    "        y-=1\n",
    "        j+=1\n",
    "    elif y==-1:\n",
    "        y+=1\n",
    "        j+=1\n",
    "    elif li[x][y]==1:\n",
    "        x-=li2[j][0]\n",
    "        y-=li2[j][1]\n",
    "        li[x][y]=1\n",
    "        if j==3:\n",
    "            j=0\n",
    "        else:\n",
    "            j+=1\n",
    "        x+=li2[j][0]\n",
    "        y+=li2[j][1]\n",
    "    li[x][y]=1\n",
    "    c+=1\n",
    "\n",
    "    if c==n*m:\n",
    "        print(y, x)\n",
    "        break\n",
    "\n"
   ]
  },
  {
   "cell_type": "code",
   "execution_count": 18,
   "id": "94a55c6e-160e-451d-a2ea-d074962ab81c",
   "metadata": {},
   "outputs": [
    {
     "name": "stdin",
     "output_type": "stream",
     "text": [
      " 6 4\n"
     ]
    },
    {
     "name": "stdout",
     "output_type": "stream",
     "text": [
      "1 2\n"
     ]
    }
   ],
   "source": [
    "m, n = map(int, input().split())\n",
    "\n",
    "#오른쪽으로 바꿔\n",
    "\n",
    "li = [[0]*m for _ in range(n)]\n",
    "li2=[[0,1],[1,0],[0,-1], [-1,0]]\n",
    "if m ==1:\n",
    "    print(0, n-1)\n",
    "elif n==1:\n",
    "    print(m-1, 0)\n",
    "else:\n",
    "    j=0\n",
    "    x,y=0,0\n",
    "    w=1\n",
    "    while True:\n",
    "        if w == n*m:\n",
    "            break\n",
    "        li[x][y]=1\n",
    "        x+=li2[j][0]\n",
    "        y+=li2[j][1]\n",
    "        if 0<=x<n and 0<=y<m and li[x][y]==0:\n",
    "            w+=1\n",
    "        else:\n",
    "            x-=li2[j][0]\n",
    "            y-=li2[j][1]\n",
    "            if j==3:\n",
    "                j=0\n",
    "            else:\n",
    "                j+=1\n",
    "            \n",
    "\n",
    "    print(y, x)"
   ]
  },
  {
   "cell_type": "markdown",
   "id": "07b299e8-89b3-4835-8cd2-667b5590e972",
   "metadata": {},
   "source": [
    "이것도 pypy3에서 ㄷ통과"
   ]
  }
 ],
 "metadata": {
  "kernelspec": {
   "display_name": "Python 3 (ipykernel)",
   "language": "python",
   "name": "python3"
  },
  "language_info": {
   "codemirror_mode": {
    "name": "ipython",
    "version": 3
   },
   "file_extension": ".py",
   "mimetype": "text/x-python",
   "name": "python",
   "nbconvert_exporter": "python",
   "pygments_lexer": "ipython3",
   "version": "3.9.12"
  }
 },
 "nbformat": 4,
 "nbformat_minor": 5
}
