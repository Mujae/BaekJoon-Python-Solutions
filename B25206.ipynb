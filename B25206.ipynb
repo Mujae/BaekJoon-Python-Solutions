{
 "cells": [
  {
   "cell_type": "markdown",
   "id": "a1521bf9-fd90-42e0-b8da-1ca8c484ccf2",
   "metadata": {},
   "source": [
    "B25206"
   ]
  },
  {
   "cell_type": "code",
   "execution_count": null,
   "id": "16d10ac8-fecd-4773-bbd6-96ed00b664ba",
   "metadata": {},
   "outputs": [],
   "source": [
    "s=0\n",
    "q=0\n",
    "for _ in range(20):\n",
    "    a, b, c= input().rstrip().split()\n",
    "    if c[0]=='A':\n",
    "        if c[1]=='+':\n",
    "            s+=4.5*float(b)\n",
    "            q+=float(b)\n",
    "        else:\n",
    "            s+=4.0*float(b)\n",
    "            q+=float(b)\n",
    "    elif c[0]=='B':\n",
    "        if c[1]=='+':\n",
    "            s+=3.5*float(b)\n",
    "            q+=float(b)\n",
    "        else:\n",
    "            s+=3.0*float(b)\n",
    "            q+=float(b)\n",
    "    elif c[0]=='C':\n",
    "        if c[1]=='+':\n",
    "            s+=2.5*float(b)\n",
    "            q+=float(b)\n",
    "        else:\n",
    "            s+=2.0*float(b)\n",
    "            q+=float(b)\n",
    "\n",
    "    elif c[0]=='D':\n",
    "        if c[1]=='+':\n",
    "            s+=1.5*float(b)\n",
    "            q+=float(b)\n",
    "        else:\n",
    "            s+=1.0*float(b)\n",
    "            q+=float(b)\n",
    "    else:\n",
    "        if c[0]=='F':\n",
    "            q+=float(b)\n",
    "\n",
    "print(format(s/q, \".6f\"))\n",
    "        \n"
   ]
  }
 ],
 "metadata": {
  "kernelspec": {
   "display_name": "Python 3 (ipykernel)",
   "language": "python",
   "name": "python3"
  },
  "language_info": {
   "codemirror_mode": {
    "name": "ipython",
    "version": 3
   },
   "file_extension": ".py",
   "mimetype": "text/x-python",
   "name": "python",
   "nbconvert_exporter": "python",
   "pygments_lexer": "ipython3",
   "version": "3.9.12"
  }
 },
 "nbformat": 4,
 "nbformat_minor": 5
}
