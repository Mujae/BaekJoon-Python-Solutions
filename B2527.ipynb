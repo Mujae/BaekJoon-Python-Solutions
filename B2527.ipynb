{
 "cells": [
  {
   "cell_type": "markdown",
   "id": "6ce788c1-7408-4028-9b7f-5881340ed9cc",
   "metadata": {},
   "source": [
    "백준 프로필을 봤더니 기하학 부분이 제일 낮아 기하학 문제를 풀어봤다.\n",
    "B2527 직사각형\n",
    "처음에 맞는 방식으로 풀다가 뭔가 대각선 길이로 바꾸면 코드길이가 확 줄 것 같아서 시도했다가 시간 날린.. fxxk"
   ]
  },
  {
   "cell_type": "code",
   "execution_count": 1,
   "id": "2409d6c9-a532-4680-a430-63453bf0509b",
   "metadata": {},
   "outputs": [
    {
     "ename": "ValueError",
     "evalue": "not enough values to unpack (expected 8, got 0)",
     "output_type": "error",
     "traceback": [
      "\u001b[1;31m---------------------------------------------------------------------------\u001b[0m",
      "\u001b[1;31mValueError\u001b[0m                                Traceback (most recent call last)",
      "Input \u001b[1;32mIn [1]\u001b[0m, in \u001b[0;36m<cell line: 3>\u001b[1;34m()\u001b[0m\n\u001b[0;32m      2\u001b[0m \u001b[38;5;28minput\u001b[39m\u001b[38;5;241m=\u001b[39msys\u001b[38;5;241m.\u001b[39mstdin\u001b[38;5;241m.\u001b[39mreadline\n\u001b[0;32m      3\u001b[0m \u001b[38;5;28;01mfor\u001b[39;00m _ \u001b[38;5;129;01min\u001b[39;00m \u001b[38;5;28mrange\u001b[39m(\u001b[38;5;241m4\u001b[39m):\u001b[38;5;66;03m#총 4번의 비교\u001b[39;00m\n\u001b[1;32m----> 4\u001b[0m     x1,y1, x2,y2, a1,b1,a2,b2\u001b[38;5;241m=\u001b[39m \u001b[38;5;28mmap\u001b[39m(\u001b[38;5;28mint\u001b[39m, \u001b[38;5;28minput\u001b[39m()\u001b[38;5;241m.\u001b[39msplit())\n\u001b[0;32m      6\u001b[0m     \u001b[38;5;28;01mif\u001b[39;00m x1\u001b[38;5;241m>\u001b[39ma2 \u001b[38;5;129;01mor\u001b[39;00m x2\u001b[38;5;241m<\u001b[39ma1 \u001b[38;5;129;01mor\u001b[39;00m y1\u001b[38;5;241m>\u001b[39mb2 \u001b[38;5;129;01mor\u001b[39;00m y2\u001b[38;5;241m<\u001b[39mb1:\u001b[38;5;66;03m#분리되어 있을 때\u001b[39;00m\n\u001b[0;32m      7\u001b[0m         \u001b[38;5;28mprint\u001b[39m(\u001b[38;5;124m'\u001b[39m\u001b[38;5;124md\u001b[39m\u001b[38;5;124m'\u001b[39m)\n",
      "\u001b[1;31mValueError\u001b[0m: not enough values to unpack (expected 8, got 0)"
     ]
    }
   ],
   "source": [
    "import sys\n",
    "input=sys.stdin.readline\n",
    "for _ in range(4):#총 4번의 비교\n",
    "    x1,y1, x2,y2, a1,b1,a2,b2= map(int, input().split())\n",
    "\n",
    "    if x1>a2 or x2<a1 or y1>b2 or y2<b1:#분리되어 있을 때\n",
    "        print('d')\n",
    "    elif (x1==a2 or x2==a1) and (y1==b2 or y2==b1):#점에서 만날 때\n",
    "        print('c')\n",
    "    elif x1==a2 or x2==a1 or y1==b2 or y2==b1:#선분으로 접할 때\n",
    "        print('b')\n",
    "    else:#겹칠 때\n",
    "        print('a')"
   ]
  },
  {
   "cell_type": "markdown",
   "id": "4a382290-57dc-4b05-a34c-ed66cc98bbb8",
   "metadata": {},
   "source": [
    "오늘도 idle로 ㅋㅋ"
   ]
  }
 ],
 "metadata": {
  "kernelspec": {
   "display_name": "Python 3 (ipykernel)",
   "language": "python",
   "name": "python3"
  },
  "language_info": {
   "codemirror_mode": {
    "name": "ipython",
    "version": 3
   },
   "file_extension": ".py",
   "mimetype": "text/x-python",
   "name": "python",
   "nbconvert_exporter": "python",
   "pygments_lexer": "ipython3",
   "version": "3.9.12"
  }
 },
 "nbformat": 4,
 "nbformat_minor": 5
}
