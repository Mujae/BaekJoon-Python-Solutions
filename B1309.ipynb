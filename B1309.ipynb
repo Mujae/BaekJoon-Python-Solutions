{
 "cells": [
  {
   "cell_type": "markdown",
   "id": "022c8683-d72a-4f5a-9432-1f029ad2f9bb",
   "metadata": {},
   "source": [
    "B1309"
   ]
  },
  {
   "cell_type": "code",
   "execution_count": null,
   "id": "18e89883-f39d-430f-9423-fdd15a64ba07",
   "metadata": {},
   "outputs": [],
   "source": [
    "n = int(input())\n",
    "\n",
    "li=[]\n",
    "for i in range(n+1):\n",
    "    li.append([0,0,0])\n",
    "li[1][0]=1#왼\n",
    "li[1][1]=1#x\n",
    "li[1][2]=1#오\n",
    "\n",
    "for i in range(2, n+1):\n",
    "    li[i][0] = (li[i-1][1] + li[i-1][2])%9901\n",
    "    li[i][1] = (li[i-1][0]+li[i-1][2]+li[i-1][1])%9901\n",
    "    li[i][2] = (li[i-1][0] + li[i-1][1])%9901\n",
    "\n",
    "print(sum(li[n])%9901)    "
   ]
  }
 ],
 "metadata": {
  "kernelspec": {
   "display_name": "Python 3 (ipykernel)",
   "language": "python",
   "name": "python3"
  },
  "language_info": {
   "name": ""
  }
 },
 "nbformat": 4,
 "nbformat_minor": 5
}
