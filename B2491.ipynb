{
 "cells": [
  {
   "cell_type": "markdown",
   "id": "09ab9977-d672-48a7-bf73-4259dd1bb219",
   "metadata": {},
   "source": [
    "B2491"
   ]
  },
  {
   "cell_type": "code",
   "execution_count": null,
   "id": "82d76318-7bb7-4ef6-b1b7-8353cfbe196c",
   "metadata": {},
   "outputs": [],
   "source": [
    "import sys\n",
    "input = sys.stdin.readline\n",
    "\n",
    "n = int(input())\n",
    "\n",
    "li= list(map(int, input().split()))\n",
    "\n",
    "l1=0\n",
    "l2=0\n",
    "c=0\n",
    "ml=0\n",
    "for i in range(n):\n",
    "    if li[i]>=c:\n",
    "        l1+=1\n",
    "        ml=max(ml,l1)\n",
    "        \n",
    "    else:\n",
    "        l1=1\n",
    "    c=li[i]\n",
    "for i in range(n):\n",
    "    if li[i]<=c:\n",
    "        l2+=1\n",
    "        ml=max(ml,l2)\n",
    "        \n",
    "    else:\n",
    "        l2=1\n",
    "    c=li[i]\n",
    "\n",
    "print(ml)"
   ]
  }
 ],
 "metadata": {
  "kernelspec": {
   "display_name": "Python 3 (ipykernel)",
   "language": "python",
   "name": "python3"
  },
  "language_info": {
   "name": ""
  }
 },
 "nbformat": 4,
 "nbformat_minor": 5
}
