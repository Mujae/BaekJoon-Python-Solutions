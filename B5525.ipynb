{
 "cells": [
  {
   "cell_type": "markdown",
   "id": "64b9618b-59a8-4890-b24a-4a6741bc931c",
   "metadata": {},
   "source": [
    "B5525 IOIOI  \n",
    "$$IOI_n$$이 몇변나오냐 문제"
   ]
  },
  {
   "cell_type": "code",
   "execution_count": 2,
   "id": "106959c0-8eb6-4605-9ba5-98215006000c",
   "metadata": {},
   "outputs": [
    {
     "name": "stdin",
     "output_type": "stream",
     "text": [
      " 1\n",
      " 13\n",
      " OOIOIOIOIIOII\n"
     ]
    },
    {
     "name": "stdout",
     "output_type": "stream",
     "text": [
      "4\n"
     ]
    }
   ],
   "source": [
    "n = int(input())\n",
    "m = int(input())#문자열 길이\n",
    "s = input().rstrip()\n",
    "\n",
    "sc=0#길이\n",
    "l = 0 #스택 길이\n",
    "c=0 #개수\n",
    "i=0\n",
    "prei=0\n",
    "gal=0\n",
    "if n==1:\n",
    "    gal=3\n",
    "else:\n",
    "    gal=3+2*(n-1)\n",
    "while i<m:\n",
    "\n",
    "    if s[i]=='I':\n",
    "        if sc%2==0:\n",
    "            if sc==2:\n",
    "                prei=i\n",
    "                sc+=1\n",
    "            else:\n",
    "                sc+=1\n",
    "        else:\n",
    "            sc=1\n",
    "    else:\n",
    "        if sc%2==1:\n",
    "            sc+=1\n",
    "        else:\n",
    "            sc=0\n",
    "    if sc//gal==1:\n",
    "        c+=1\n",
    "        i=prei\n",
    "        sc=0\n",
    "    else:\n",
    "        i+=1\n",
    "        \n",
    "print(c)"
   ]
  },
  {
   "cell_type": "markdown",
   "id": "1f005a62-602b-4b57-8a5e-13693d456ebd",
   "metadata": {},
   "source": [
    "50점짜리"
   ]
  },
  {
   "cell_type": "code",
   "execution_count": 3,
   "id": "8c059b99-16c7-4946-9cc9-5db19a9d14c4",
   "metadata": {},
   "outputs": [
    {
     "name": "stdin",
     "output_type": "stream",
     "text": [
      " 1\n",
      " 13\n",
      " OOIOIOIOIIOII\n"
     ]
    },
    {
     "name": "stdout",
     "output_type": "stream",
     "text": [
      "4\n"
     ]
    }
   ],
   "source": [
    "n = int(input())\n",
    "m = int(input())#문자열 길이\n",
    "s = input().rstrip()\n",
    "\n",
    "c = 0\n",
    "i = 1\n",
    "sc =0\n",
    "while i < m - 1:\n",
    "    if s[i - 1] == \"I\" and s[i] == \"O\" and s[i + 1] == \"I\":\n",
    "        sc += 1#IOI 발견하면 go\n",
    "        if sc == n: #원하는만큼 숫자가 찼을 때\n",
    "            sc -= 1 #-1만 해주는 이유는 다음 2개가 OI면 또 가능하니깐\n",
    "            c += 1 \n",
    "        i += 2 #OI인지 확인하려고 +2\n",
    "        continue\n",
    "    i += 1 \n",
    "    sc = 0 \n",
    "print(c)"
   ]
  }
 ],
 "metadata": {
  "kernelspec": {
   "display_name": "Python 3 (ipykernel)",
   "language": "python",
   "name": "python3"
  },
  "language_info": {
   "codemirror_mode": {
    "name": "ipython",
    "version": 3
   },
   "file_extension": ".py",
   "mimetype": "text/x-python",
   "name": "python",
   "nbconvert_exporter": "python",
   "pygments_lexer": "ipython3",
   "version": "3.9.12"
  }
 },
 "nbformat": 4,
 "nbformat_minor": 5
}
