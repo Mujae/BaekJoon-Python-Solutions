{
 "cells": [
  {
   "cell_type": "markdown",
   "id": "e1b562e1-3a75-4306-9689-641d2f80a1f8",
   "metadata": {},
   "source": [
    "B13023 ABCDE"
   ]
  },
  {
   "cell_type": "code",
   "execution_count": null,
   "id": "f78d3a86-5d5d-4445-b7ab-c967bc52c5f3",
   "metadata": {},
   "outputs": [],
   "source": [
    "n, m = map(int, input().split())\n",
    "\n",
    "\n",
    "li=[[0]*n for _ in range(n)]\n",
    "li2=[0]*n\n",
    "for i in range(m):\n",
    "    a, b = map(int, input().split())\n",
    "    li[a][b]=1\n",
    "    li[b][a]=1\n",
    "li2[0]=0\n",
    "\n",
    "def go(s,t):#s는 탐방할 행, t는 카운트\n",
    "    print(s,t)\n",
    "    if t==n-1:\n",
    "        return True\n",
    "    c=0\n",
    "    for i in range(n):\n",
    "        if (li2[i]==0 and s!=i) and li[s][i]==1:\n",
    "            li2[i]=1\n",
    "            c+=1\n",
    "            go(li[s][i],t+1)\n",
    "    if c==0 and sum(li2)<n:\n",
    "        go(s+1,0)\n",
    "            \n",
    "    \n",
    "if go(0,0):\n",
    "    print(1)\n",
    "else:\n",
    "    print(0)\n",
    "        \n"
   ]
  }
 ],
 "metadata": {
  "kernelspec": {
   "display_name": "Python 3 (ipykernel)",
   "language": "python",
   "name": "python3"
  },
  "language_info": {
   "codemirror_mode": {
    "name": "ipython",
    "version": 3
   },
   "file_extension": ".py",
   "mimetype": "text/x-python",
   "name": "python",
   "nbconvert_exporter": "python",
   "pygments_lexer": "ipython3",
   "version": "3.9.12"
  }
 },
 "nbformat": 4,
 "nbformat_minor": 5
}
