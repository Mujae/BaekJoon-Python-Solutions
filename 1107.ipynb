{
 "cells": [
  {
   "cell_type": "markdown",
   "id": "ad9e2199-cc63-4945-9fc0-12a57bb2deef",
   "metadata": {},
   "source": [
    "# B1107 리모컨  \n",
    "길이 재시고  \n",
    "그다음에\n",
    "그만큼 뽑습니다. \n",
    "근데 이 숫자를 뽑는 곳에서 이 문제에서 빼라는 숫자들을 빼줘야합니다 y? 고장났거든  \n",
    "그르니깐 이제 0이면은 쓰지 못하고 1이면 쓸수 있다. 즉 stack에 넣을 수 있다. ->내 방법임  \n",
    "가까운 수는 어떻게 찾을거냐? abs로 절댓값을 계속 저장하고   \n",
    "나중에 min을 통해 최솟값을 찾아내고 이게 바로 필요한 최소 버튼이다.  \n",
    "0이면 1출력 100이면 0출력 +-1이면 1 뭐 이런식 "
   ]
  },
  {
   "cell_type": "code",
   "execution_count": 9,
   "id": "1832f16c-7162-4f30-ad28-81de8af7177d",
   "metadata": {},
   "outputs": [
    {
     "name": "stdin",
     "output_type": "stream",
     "text": [
      " 500000\n",
      " 8\n",
      " 0 2 3 4 6 7 8 9\n"
     ]
    },
    {
     "name": "stdout",
     "output_type": "stream",
     "text": [
      "8\n"
     ]
    }
   ],
   "source": [
    "n = int(input())\n",
    "l=len(str(n))\n",
    "li = [1]*10 #1이면 사용 가능 0이면 고장\n",
    "m = int(input()) #고장난 버튼 수\n",
    "if m>0:\n",
    "    li2=list(map(int,input().split()))\n",
    "    for i in range(m):\n",
    "        li[li2[i]]=0\n",
    "if n==100:\n",
    "    print(0)\n",
    "#위는 문제 조건들\n",
    "else:\n",
    "    mi=abs(100-n)\n",
    "    for i in range(1000001):#숫자 하나 빼고 다 제한 걸렸을 때를 대비해 제한숫자보다 한자리 크게\n",
    "        num = str(i)\n",
    "        c=0\n",
    "        l2=len(num)\n",
    "        for j in range(len(num)):\n",
    "            if li[int(num[j])]==0:\n",
    "                c+=1\n",
    "                break\n",
    "        if c==0:\n",
    "            mi= min(mi, abs(n-i)+l2)\n",
    "    print(mi)\n",
    "\n",
    "\n"
   ]
  }
 ],
 "metadata": {
  "kernelspec": {
   "display_name": "Python 3 (ipykernel)",
   "language": "python",
   "name": "python3"
  },
  "language_info": {
   "codemirror_mode": {
    "name": "ipython",
    "version": 3
   },
   "file_extension": ".py",
   "mimetype": "text/x-python",
   "name": "python",
   "nbconvert_exporter": "python",
   "pygments_lexer": "ipython3",
   "version": "3.9.12"
  }
 },
 "nbformat": 4,
 "nbformat_minor": 5
}
