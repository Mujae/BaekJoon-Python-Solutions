{
 "cells": [
  {
   "cell_type": "markdown",
   "id": "10cab6f4-dbf4-4909-b864-f57dc59eb921",
   "metadata": {},
   "source": [
    "B1431"
   ]
  },
  {
   "cell_type": "code",
   "execution_count": null,
   "id": "819f8ce0-6afc-4924-8212-2cd9b464dbef",
   "metadata": {},
   "outputs": [],
   "source": [
    "t = int(input())\n",
    "li = []\n",
    "for _ in range(t):\n",
    "    s = input()\n",
    "    num = 0\n",
    "    for c in s:\n",
    "        if c.isdigit():\n",
    "            num += int(c)\n",
    "    li.append([num , s])\n",
    "li.sort(key = lambda x : (len(x[1]), x[0],x[1]))\n",
    "for a, b in li:\n",
    "    print(b)"
   ]
  }
 ],
 "metadata": {
  "kernelspec": {
   "display_name": "Python 3 (ipykernel)",
   "language": "python",
   "name": "python3"
  },
  "language_info": {
   "codemirror_mode": {
    "name": "ipython",
    "version": 3
   },
   "file_extension": ".py",
   "mimetype": "text/x-python",
   "name": "python",
   "nbconvert_exporter": "python",
   "pygments_lexer": "ipython3",
   "version": "3.9.12"
  }
 },
 "nbformat": 4,
 "nbformat_minor": 5
}
