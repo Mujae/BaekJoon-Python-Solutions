{
 "cells": [
  {
   "cell_type": "markdown",
   "id": "ed2a4b87-bfcd-49c2-a885-3c5b2fcb81c1",
   "metadata": {},
   "source": [
    "B1680"
   ]
  },
  {
   "cell_type": "code",
   "execution_count": null,
   "id": "01ec4b0c-bd1e-48ed-89b8-9a68bad87621",
   "metadata": {},
   "outputs": [],
   "source": [
    "import sys\n",
    "\n",
    "input = sys.stdin.readline\n",
    "T = int(input())\n",
    "\n",
    "for _ in range(T):\n",
    "    w, n = map(int, input().split())\n",
    "    li=[]\n",
    "    s=0#용량\n",
    "    c=0#거리\n",
    "    bc=0#전체용량\n",
    "    bl=0#이전거리\n",
    "    for i in range(n):\n",
    "        li.append(list(map(int,input().split())))#거리, 용량\n",
    "        bc+=li[-1][1]\n",
    "    k=0\n",
    "    while bc==0:\n",
    "        if li[k][1]<0:\n",
    "            continue\n",
    "        else:\n",
    "            if li[k][1]+s<w:\n",
    "                s+=li[k][1]\n",
    "                bc+=li[k][1]\n",
    "                li[k][1]=0\n",
    "                c+=li[k][0]-bl\n",
    "                bl=li[k][0]\n",
    "                k+=1\n",
    "                \n",
    "            elif li[k][1]+s==w:\n",
    "                c+=li[k][0]*2\n",
    "                s=0\n",
    "                bc+=li[k][1]\n",
    "                bl=li[k][0]\n",
    "                li[k][1]=0\n",
    "                k+=1\n",
    "            else:\n",
    "                c+=li[k][0]*2\n",
    "                if li[k][1]==w:\n",
    "                    p3po987+7\n",
    "                else:\n",
    "        "
   ]
  }
 ],
 "metadata": {
  "kernelspec": {
   "display_name": "Python 3 (ipykernel)",
   "language": "python",
   "name": "python3"
  },
  "language_info": {
   "name": ""
  }
 },
 "nbformat": 4,
 "nbformat_minor": 5
}
