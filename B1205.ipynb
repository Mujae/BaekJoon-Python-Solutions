{
 "cells": [
  {
   "cell_type": "markdown",
   "id": "33f306dc-8fdb-4591-ba9f-9b78c78a432e",
   "metadata": {},
   "source": [
    "B1205  \n",
    "하나의 점수를 추가했을 때 제한(p)등 안에 들 수 있는 지 알아보고 들면 그 등수를 출력하는 문제"
   ]
  },
  {
   "cell_type": "code",
   "execution_count": null,
   "id": "c81974d0-7279-4aab-a53a-fb0ae053e2af",
   "metadata": {},
   "outputs": [],
   "source": [
    "n, m, p = map(int,input().split())\n",
    "if n==0:\n",
    "    print(1)\n",
    "else:\n",
    "    li = list(map(int,input().split()))\n",
    "    li.append(m)\n",
    "    li=sorted(li,reverse=True)\n",
    "    l=len(li)\n",
    "\n",
    "\n",
    "    for i in range(l):\n",
    "        if li[i]==m:\n",
    "            c=0\n",
    "            for j in range(i+1,l):\n",
    "                if li[i]==li[j]:\n",
    "                    c+=1\n",
    "            if i+c>=p:\n",
    "                print(-1)\n",
    "            else:\n",
    "                print(i+1)\n",
    "            break"
   ]
  }
 ],
 "metadata": {
  "kernelspec": {
   "display_name": "Python 3 (ipykernel)",
   "language": "python",
   "name": "python3"
  },
  "language_info": {
   "codemirror_mode": {
    "name": "ipython",
    "version": 3
   },
   "file_extension": ".py",
   "mimetype": "text/x-python",
   "name": "python",
   "nbconvert_exporter": "python",
   "pygments_lexer": "ipython3",
   "version": "3.9.12"
  }
 },
 "nbformat": 4,
 "nbformat_minor": 5
}
