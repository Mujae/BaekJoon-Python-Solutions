{
 "cells": [
  {
   "cell_type": "markdown",
   "id": "9d7b7f0e-7aa5-4262-874c-ea34780739bc",
   "metadata": {},
   "source": [
    "B1614"
   ]
  },
  {
   "cell_type": "code",
   "execution_count": null,
   "id": "79f49a6a-ce05-4d43-bae7-4bcb76649404",
   "metadata": {},
   "outputs": [],
   "source": [
    "a=int(input())\n",
    "b=int(input())\n",
    "#1234543212345 이런식으로 손가락 5개로 숫자를 세는 상황, a 손가락은 망가져서 b번밖에 못 쓰는 상황\n",
    "#조건분기로 해결\n",
    "if b==0:\n",
    "    print(a-1)\n",
    "else:\n",
    "    if a==1:\n",
    "        print(b*8)\n",
    "    elif a==2:\n",
    "        if b%2==0:\n",
    "            print(b*4 + 1)\n",
    "        else:\n",
    "            print(b*4 + 3)\n",
    "    elif a==3:\n",
    "        print(b*4 + 2)\n",
    "    elif a==4:\n",
    "        if b%2==0:\n",
    "            print(b*4 + 3)\n",
    "        else:\n",
    "            print(b*4 + 1)\n",
    "    else:\n",
    "        print(b*8 + 4)"
   ]
  }
 ],
 "metadata": {
  "kernelspec": {
   "display_name": "Python 3 (ipykernel)",
   "language": "python",
   "name": "python3"
  },
  "language_info": {
   "codemirror_mode": {
    "name": "ipython",
    "version": 3
   },
   "file_extension": ".py",
   "mimetype": "text/x-python",
   "name": "python",
   "nbconvert_exporter": "python",
   "pygments_lexer": "ipython3",
   "version": "3.9.12"
  }
 },
 "nbformat": 4,
 "nbformat_minor": 5
}
