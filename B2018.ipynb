{
 "cells": [
  {
   "cell_type": "markdown",
   "id": "9f7cc25f-45f0-4606-b072-82879303094c",
   "metadata": {},
   "source": [
    "B2018"
   ]
  },
  {
   "cell_type": "code",
   "execution_count": null,
   "id": "083f940e-6610-4449-a6a6-80322a62ccd9",
   "metadata": {},
   "outputs": [],
   "source": [
    "n = int(input())\n",
    "\n",
    "#계속 더하다가 더 커지면 뒤에서부터 빼, 같으면 +1하고 더해 j가 n이 되기 전까지\n",
    "# 작아지면 앞으로 더해야겠지?\n",
    "li= []\n",
    "i=0\n",
    "j=1\n",
    "c=0\n",
    "\n",
    "while j<n:\n",
    "    if sum(range(i,j+1))==n:\n",
    "        c+=1\n",
    "        i+=1\n",
    "        j+=1\n",
    "    elif sum(range(i,j+1))>n:\n",
    "        i+=1\n",
    "    else:\n",
    "        j+=1\n",
    "    if i>j:\n",
    "        break\n",
    "print(c+1)"
   ]
  }
 ],
 "metadata": {
  "kernelspec": {
   "display_name": "Python 3 (ipykernel)",
   "language": "python",
   "name": "python3"
  },
  "language_info": {
   "name": ""
  }
 },
 "nbformat": 4,
 "nbformat_minor": 5
}
