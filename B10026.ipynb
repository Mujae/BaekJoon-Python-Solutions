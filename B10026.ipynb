{
 "cells": [
  {
   "cell_type": "markdown",
   "id": "1119035b-7cc9-453e-ab6f-ea1bdfccdc69",
   "metadata": {},
   "source": [
    "적록색약 B10026  \n",
    "RGB 문자열들을 주고 적록색약이 없는 경우와 있는 경우 각각의 영역 개수를 구하는 문제  \n",
    "방법은 대략 두 가지  \n",
    "1. 적록색약이 없는 탐색에서 R과 G를 하나로 통합 후 적록색약 탐색\n",
    "2. 두 가지 함수를 만들거나 나처럼 반복문으로 탐색  \n",
    "\n",
    "시간이 오래 걸린 이유: 시간 초과(visited 관리를 제대로 못 함)"
   ]
  },
  {
   "cell_type": "code",
   "execution_count": 2,
   "id": "b10608c2-a872-4044-b8c2-b73adcb8eacd",
   "metadata": {},
   "outputs": [
    {
     "name": "stdin",
     "output_type": "stream",
     "text": [
      " 5\n",
      " RRRBB\n",
      " GGBBB\n",
      " BBBRR\n",
      " BBRRR\n",
      " RRRRR\n"
     ]
    },
    {
     "name": "stdout",
     "output_type": "stream",
     "text": [
      "4 3\n"
     ]
    }
   ],
   "source": [
    "from collections import deque\n",
    "import copy\n",
    "\n",
    "li=[]\n",
    "n=int(input())\n",
    "for i in range(n):\n",
    "    li.append(input().rstrip())\n",
    "\n",
    "que=deque() #bfs를 위한 덱\n",
    "c1=0 #제한 x일 때 영역 개수\n",
    "v=[[0]*n for _ in range(n)]#방문\n",
    "v2=copy.deepcopy(v)#2차방문\n",
    "#방향\n",
    "xd = [0, 1, 0, -1]\n",
    "yd = [1, 0, -1, 0]\n",
    "\n",
    "\n",
    "for j in range(n):\n",
    "    for k in range(n):\n",
    "        if v[j][k]==0:\n",
    "            que.append((j,k))\n",
    "\n",
    "            while que:\n",
    "                x, y = que.popleft()\n",
    "                v[x][y]=1\n",
    "                for i in range(4):\n",
    "                    nx=x+xd[i]\n",
    "                    ny=y+yd[i]\n",
    "                    if nx<0 or nx>=n or ny<0 or ny>=n:\n",
    "                        continue\n",
    "                    if v[nx][ny]==0:\n",
    "                        if li[nx][ny]==li[x][y]:\n",
    "                            que.append((nx,ny))\n",
    "                            v[nx][ny]=1 #여기서 미리 방문 체크를 해둬야 중복이 안일어남\n",
    "            c1+=1\n",
    "c2=0\n",
    "for j in range(n):\n",
    "    for k in range(n):\n",
    "        if v2[j][k]==0:\n",
    "            que.append((j,k))\n",
    "            while que:\n",
    "                x, y = que.popleft()\n",
    "                s=li[x][y]\n",
    "                v2[x][y]=1\n",
    "                for i in range(4):\n",
    "                    nx=x+xd[i]\n",
    "                    ny=y+yd[i]\n",
    "                    if nx<0 or nx>=n or ny<0 or ny>=n:\n",
    "                        continue\n",
    "                    if v2[nx][ny]==1:\n",
    "                        continue\n",
    "                    else:\n",
    "                        if li[nx][ny]!=s:\n",
    "                            if ((s=='R' and li[nx][ny]=='G') or (s=='G' and li[nx][ny]=='R')) and v2[nx][ny]==0:\n",
    "                                que.append((nx,ny))\n",
    "                        elif li[nx][ny]==s and v2[nx][ny]==0:\n",
    "                            que.append((nx,ny))\n",
    "                            v2[nx][ny]=1\n",
    "            c2+=1\n",
    "print(c1, end=\" \")\n",
    "print(c2)"
   ]
  },
  {
   "cell_type": "markdown",
   "id": "ea7c03ea-4341-42e7-9295-ef5bf0c6a45c",
   "metadata": {},
   "source": []
  }
 ],
 "metadata": {
  "kernelspec": {
   "display_name": "Python 3 (ipykernel)",
   "language": "python",
   "name": "python3"
  },
  "language_info": {
   "codemirror_mode": {
    "name": "ipython",
    "version": 3
   },
   "file_extension": ".py",
   "mimetype": "text/x-python",
   "name": "python",
   "nbconvert_exporter": "python",
   "pygments_lexer": "ipython3",
   "version": "3.9.12"
  }
 },
 "nbformat": 4,
 "nbformat_minor": 5
}
