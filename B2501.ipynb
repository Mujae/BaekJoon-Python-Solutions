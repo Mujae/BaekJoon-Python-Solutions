{
 "cells": [
  {
   "cell_type": "markdown",
   "id": "be352727-83f2-432b-b05b-5ca2ab43d433",
   "metadata": {},
   "source": [
    "B2501  \n",
    "약수 구하기"
   ]
  },
  {
   "cell_type": "code",
   "execution_count": null,
   "id": "c72f8264-f8fe-4d31-95c8-5097a2df7a0c",
   "metadata": {},
   "outputs": [],
   "source": [
    "n,k = map(int,input().split())\n",
    "for i in range(1,n+1):\n",
    "    if n % i == 0:\n",
    "        k -= 1\n",
    "    if k == 0:\n",
    "        print(i)\n",
    "        break\n",
    "else:\n",
    "    print(0)"
   ]
  }
 ],
 "metadata": {
  "kernelspec": {
   "display_name": "Python 3 (ipykernel)",
   "language": "python",
   "name": "python3"
  },
  "language_info": {
   "codemirror_mode": {
    "name": "ipython",
    "version": 3
   },
   "file_extension": ".py",
   "mimetype": "text/x-python",
   "name": "python",
   "nbconvert_exporter": "python",
   "pygments_lexer": "ipython3",
   "version": "3.9.12"
  }
 },
 "nbformat": 4,
 "nbformat_minor": 5
}
