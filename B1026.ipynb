{
 "cells": [
  {
   "cell_type": "markdown",
   "id": "854b26a7-ce0d-4c8b-b5cf-c080972ad496",
   "metadata": {},
   "source": [
    "B1026  \n",
    "길이가 n인 리스트 a, b가 주어지는데 a[0]*b[0] $\\dots$ a[n]*b[n]이 최소가 되게 해야하는 문제  \n",
    "문제에서 b배열은 바꾸지 말고 a배열만 바꿔서 하라 했지만 어림도 없지 바로 하나는 큰 순으로 정렬 하나는 작은순으로 정렬 하고 곱"
   ]
  },
  {
   "cell_type": "code",
   "execution_count": null,
   "id": "985ea2c5-79fb-4caa-a190-feea8f036aed",
   "metadata": {},
   "outputs": [],
   "source": [
    "n = int(input())#길이가 n인 리스트 a,b\n",
    "a = sorted(list(map(int, input().split())))\n",
    "b = sorted(list(map(int,input().split())), reverse=True)\n",
    "\n",
    "s=0\n",
    "for i in range(n):\n",
    "    s+=a[i]*b[i]\n",
    "print(s)\n"
   ]
  }
 ],
 "metadata": {
  "kernelspec": {
   "display_name": "Python 3 (ipykernel)",
   "language": "python",
   "name": "python3"
  },
  "language_info": {
   "codemirror_mode": {
    "name": "ipython",
    "version": 3
   },
   "file_extension": ".py",
   "mimetype": "text/x-python",
   "name": "python",
   "nbconvert_exporter": "python",
   "pygments_lexer": "ipython3",
   "version": "3.9.12"
  }
 },
 "nbformat": 4,
 "nbformat_minor": 5
}
