{
 "cells": [
  {
   "cell_type": "markdown",
   "id": "b7aa8d62-5b8e-470f-84b8-d6c0af354e6c",
   "metadata": {},
   "source": [
    "B2876"
   ]
  },
  {
   "cell_type": "code",
   "execution_count": null,
   "id": "8a2150d4-a6fc-4f83-a21f-a14ec67d7044",
   "metadata": {},
   "outputs": [],
   "source": [
    "import sys\n",
    "input = sys.stdin.readline\n",
    "\n",
    "N = int(input())\n",
    "li = [list(map(int, input().split())) for _ in range(N)]\n",
    "max_grade = {i:0 for i in range(1,6)}\n",
    "seq_grade = {i:0 for i in range(1,6)}\n",
    "\n",
    "for i in range(2):\n",
    "    seq_grade[li[0][i]] = 1\n",
    "    max_grade[li[0][i]] = 1\n",
    "for i in range(1,N):\n",
    "    if li[i][0] == li[i][1]:\n",
    "        li[i].pop()\n",
    "    for num in li[i]:\n",
    "        seq_grade[num] += 1\n",
    "        if num not in li[i-1]:\n",
    "            seq_grade[num] = 1\n",
    "        max_grade[num] = max(max_grade[num],seq_grade[num])\n",
    "\n",
    "max_cnt, max_num = 0, 0\n",
    "for check in max_grade:\n",
    "    if max_grade[check] > max_cnt:\n",
    "        max_cnt = max_grade[check]\n",
    "        max_num = check\n",
    "print(max_cnt,max_num)"
   ]
  }
 ],
 "metadata": {
  "kernelspec": {
   "display_name": "Python 3 (ipykernel)",
   "language": "python",
   "name": "python3"
  },
  "language_info": {
   "codemirror_mode": {
    "name": "ipython",
    "version": 3
   },
   "file_extension": ".py",
   "mimetype": "text/x-python",
   "name": "python",
   "nbconvert_exporter": "python",
   "pygments_lexer": "ipython3",
   "version": "3.9.12"
  }
 },
 "nbformat": 4,
 "nbformat_minor": 5
}
