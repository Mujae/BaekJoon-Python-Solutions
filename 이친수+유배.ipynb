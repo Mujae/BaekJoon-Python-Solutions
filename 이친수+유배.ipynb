{
 "cells": [
  {
   "cell_type": "markdown",
   "id": "f1da66e4-6d85-48ab-bef7-21b8aee3cfaf",
   "metadata": {},
   "source": [
    "# 이친수 문제"
   ]
  },
  {
   "cell_type": "code",
   "execution_count": 5,
   "id": "d2dbef53-a554-41e4-86d9-9a5231dee131",
   "metadata": {},
   "outputs": [
    {
     "name": "stdin",
     "output_type": "stream",
     "text": [
      " 4\n"
     ]
    },
    {
     "name": "stdout",
     "output_type": "stream",
     "text": [
      "3\n"
     ]
    }
   ],
   "source": [
    "n=int(input())\n",
    "if n<3:\n",
    "    print(1)\n",
    "else:\n",
    "    arr=[1,1]\n",
    "    for i in range(2, n):\n",
    "        arr.append(arr[i-1]+arr[i-2])\n",
    "    print(arr[-1])"
   ]
  },
  {
   "cell_type": "markdown",
   "id": "f72ccdfe-cc45-4a1f-8fc4-10a11f4a8835",
   "metadata": {},
   "source": [
    "B1012 유기농 빼추"
   ]
  },
  {
   "cell_type": "code",
   "execution_count": null,
   "id": "597d8e6d-8b0c-43ea-af65-df5eac27aa43",
   "metadata": {},
   "outputs": [],
   "source": [
    "from collections import deque\n",
    "T=int(input()) #테스트 개수\n",
    "que=deque()\n",
    "xd=[-1,1,0,0]\n",
    "yd=[0,0,-1,1]\n",
    "for _ in range(T):\n",
    "    c=0 #필요한 지렁이 개수\n",
    "    m,n,k=map(int, input().split()) #m은 가로길이, n은 세로길이, k는 배추 개수\n",
    "    bm=[[0]*m for o in range(n)] #배추맵\n",
    "    for i in range(k):\n",
    "        x, y= map(int, input().split())\n",
    "        bm[y][x]=1\n",
    "    for i in range(n):\n",
    "        for j in range(m):\n",
    "            if bm[i][j]==1:\n",
    "                que.append((j,i))\n",
    "                bm[i][j]=0\n",
    "                while que:\n",
    "                    x, y = que.popleft()\n",
    "                    for w in range(4): # 4방향 체크\n",
    "                        nx = x+xd[w]\n",
    "                        ny = y+yd[w]\n",
    "                        if nx<0 or nx>=m or ny<0 or ny>=n:\n",
    "                            continue\n",
    "                        if bm[ny][nx]==0:\n",
    "                            continue\n",
    "                        if bm[ny][nx]==1:\n",
    "                              bm[ny][nx]=0\n",
    "                              que.append((nx,ny))\n",
    "                         \n",
    "                c+=1\n",
    "    print(c)\n",
    "                \n"
   ]
  },
  {
   "cell_type": "markdown",
   "id": "80b89d33-4c0a-4be9-976c-4e8842fed862",
   "metadata": {},
   "source": [
    "혼자 행, 열 헷갈려서 20분 더 쓴듯..  \n",
    "실행은 길어서 생략 (idle로 함)"
   ]
  }
 ],
 "metadata": {
  "kernelspec": {
   "display_name": "Python 3 (ipykernel)",
   "language": "python",
   "name": "python3"
  },
  "language_info": {
   "codemirror_mode": {
    "name": "ipython",
    "version": 3
   },
   "file_extension": ".py",
   "mimetype": "text/x-python",
   "name": "python",
   "nbconvert_exporter": "python",
   "pygments_lexer": "ipython3",
   "version": "3.9.12"
  }
 },
 "nbformat": 4,
 "nbformat_minor": 5
}
