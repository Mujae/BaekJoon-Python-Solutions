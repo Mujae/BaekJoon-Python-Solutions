{
 "cells": [
  {
   "cell_type": "markdown",
   "id": "491af792-54e6-4e5a-9559-5e97c4a14eb4",
   "metadata": {},
   "source": [
    "B1213"
   ]
  },
  {
   "cell_type": "code",
   "execution_count": null,
   "id": "25f6c75f-2018-43f4-a3d7-aad51807da3f",
   "metadata": {},
   "outputs": [],
   "source": [
    "import sys\n",
    "input = sys.stdin.readline\n",
    "\n",
    "s = input().rstrip()\n",
    "li=[0]*26 #알파벳 개수\n",
    "for i in range(len(s)):\n",
    "    li[ord(s[i])-65]+=1\n",
    "c=0\n",
    "li2=[]#만들 알파벳\n",
    "od=0\n",
    "\n",
    "for i in range(26):\n",
    "    if li[i]%2==1:\n",
    "        c+=1\n",
    "        od=i\n",
    "        if li[i]>1:\n",
    "            li2.append(i)\n",
    "        if c>1:\n",
    "            break\n",
    "    elif li[i]>0:\n",
    "        li2.append(i)\n",
    "if c>1:\n",
    "    print(\"I\\'m Sorry Hansoo\")\n",
    "elif c==1:\n",
    "    for i in li2:\n",
    "        for j in range(li[i]//2):\n",
    "            print(chr(i+65), end=\"\")\n",
    "    print(chr(od+65),end=\"\")\n",
    "    for i in sorted(li2, reverse=True):\n",
    "        for j in range(li[i]//2):\n",
    "            print(chr(i+65), end=\"\")\n",
    "else:\n",
    "    for i in li2:\n",
    "        for j in range(li[i]//2):\n",
    "            print(chr(i+65), end=\"\")\n",
    "    for i in sorted(li2, reverse=True):\n",
    "        for j in range(li[i]//2):\n",
    "            print(chr(i+65), end=\"\")\n"
   ]
  }
 ],
 "metadata": {
  "kernelspec": {
   "display_name": "Python 3 (ipykernel)",
   "language": "python",
   "name": "python3"
  },
  "language_info": {
   "codemirror_mode": {
    "name": "ipython",
    "version": 3
   },
   "file_extension": ".py",
   "mimetype": "text/x-python",
   "name": "python",
   "nbconvert_exporter": "python",
   "pygments_lexer": "ipython3",
   "version": "3.9.12"
  }
 },
 "nbformat": 4,
 "nbformat_minor": 5
}
