{
 "cells": [
  {
   "cell_type": "markdown",
   "id": "9ed4fc64-f2ba-4bbd-a4bb-efbc522af723",
   "metadata": {},
   "source": [
    "# 미로 탐색 #그래프 문제\n",
    "NxM 크기의 배열로 표현되는 미이로  \n",
    "오랜만에 백준 풀려니 무서운.. 그런 st  \n",
    "그런데 문제를 딱 보니 그냥 visited랑 방문횟수만 잘 케어해주면 쉽게 성공할 느77ㅣㅁ을 받음  \n",
    "바로 go"
   ]
  },
  {
   "cell_type": "code",
   "execution_count": 1,
   "id": "5a7119bc-3cd0-445f-b3a4-4d7f0c054373",
   "metadata": {},
   "outputs": [
    {
     "name": "stdin",
     "output_type": "stream",
     "text": [
      " 7 7\n",
      " 1011111\n",
      " 1110001\n",
      " 1000001\n",
      " 1000001\n",
      " 1000001\n",
      " 1000001\n",
      " 1111111\n"
     ]
    },
    {
     "name": "stdout",
     "output_type": "stream",
     "text": [
      "13\n"
     ]
    }
   ],
   "source": [
    "import sys\n",
    "from collections import deque #bfs를 위한 queue\n",
    "\n",
    "N, M = map(int, input().split()) #쥬피터노트북에서 sys 안되는거 처음 알게 됨 ㄸ;\n",
    "\n",
    "li=[[0]*M for i in range(N)]\n",
    "for i in range(N):\n",
    "    s=input()\n",
    "    for j in range(M):\n",
    "        li[i][j]=int(s[j])\n",
    "\n",
    "\n",
    "que=deque()\n",
    "que.append((0,0))\n",
    "xd=[-1,1,0,0]\n",
    "yd=[0,0,-1,1]\n",
    "while que:\n",
    "    x, y = que.popleft()\n",
    "    for i in range(4): # 4방향 체크\n",
    "        nx = x+xd[i]\n",
    "        ny = y+yd[i]\n",
    "        \n",
    "        if nx<0 or nx>=N or ny<0 or ny>=M:\n",
    "            continue\n",
    "        \n",
    "        if li[nx][ny] ==0:\n",
    "            continue\n",
    "        \n",
    "        if li[nx][ny]==1:\n",
    "              li[nx][ny] = li[x][y]+1\n",
    "              que.append((nx,ny))\n",
    "print(li[-1][-1])\n"
   ]
  }
 ],
 "metadata": {
  "kernelspec": {
   "display_name": "Python 3 (ipykernel)",
   "language": "python",
   "name": "python3"
  },
  "language_info": {
   "codemirror_mode": {
    "name": "ipython",
    "version": 3
   },
   "file_extension": ".py",
   "mimetype": "text/x-python",
   "name": "python",
   "nbconvert_exporter": "python",
   "pygments_lexer": "ipython3",
   "version": "3.9.12"
  }
 },
 "nbformat": 4,
 "nbformat_minor": 5
}
