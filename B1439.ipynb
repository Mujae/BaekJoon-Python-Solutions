{
 "cells": [
  {
   "cell_type": "markdown",
   "id": "284950eb-26af-4218-a705-5ca76a490b9b",
   "metadata": {},
   "source": [
    "B1439"
   ]
  },
  {
   "cell_type": "code",
   "execution_count": null,
   "id": "ea3a6443-e5ba-4991-b542-b2bc1ebaf4d6",
   "metadata": {},
   "outputs": [],
   "source": [
    "import sys\n",
    "input = sys.stdin.readline\n",
    "s = str(input())\n",
    "\n",
    "\n",
    "li1 = s.split(\"1\")\n",
    "li2 = s.split(\"0\")\n",
    "c1 = 0\n",
    "c2 = 0\n",
    "\n",
    "for i in li1:\n",
    "    if \"0\" in i:\n",
    "        c1 += 1\n",
    "\n",
    "for i in li2:\n",
    "    if \"1\" in i:\n",
    "        c2 += 1\n",
    "\n",
    "print(min(c1, c2))"
   ]
  }
 ],
 "metadata": {
  "kernelspec": {
   "display_name": "Python 3 (ipykernel)",
   "language": "python",
   "name": "python3"
  },
  "language_info": {
   "codemirror_mode": {
    "name": "ipython",
    "version": 3
   },
   "file_extension": ".py",
   "mimetype": "text/x-python",
   "name": "python",
   "nbconvert_exporter": "python",
   "pygments_lexer": "ipython3",
   "version": "3.9.12"
  }
 },
 "nbformat": 4,
 "nbformat_minor": 5
}
