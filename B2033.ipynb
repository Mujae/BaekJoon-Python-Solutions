{
 "cells": [
  {
   "cell_type": "markdown",
   "id": "f5e5f99f-71cf-4c89-9f1b-b2ad921c1221",
   "metadata": {},
   "source": [
    "B2033"
   ]
  },
  {
   "cell_type": "code",
   "execution_count": null,
   "id": "bba5abec-2334-4f96-8b9f-45633ee63b4a",
   "metadata": {},
   "outputs": [],
   "source": [
    "N = int(input())\n",
    "a = 10\n",
    "while N > a:\n",
    "  if N % a >= a // 2:\n",
    "    N += a\n",
    "  N -= (N % a)\n",
    "  a *= 10\n",
    "print(N)"
   ]
  }
 ],
 "metadata": {
  "kernelspec": {
   "display_name": "Python 3 (ipykernel)",
   "language": "python",
   "name": "python3"
  },
  "language_info": {
   "name": ""
  }
 },
 "nbformat": 4,
 "nbformat_minor": 5
}
