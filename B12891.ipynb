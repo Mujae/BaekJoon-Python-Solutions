{
 "cells": [
  {
   "cell_type": "code",
   "execution_count": null,
   "id": "9d6f1834-48b2-4334-a84f-cc9704890e54",
   "metadata": {},
   "outputs": [],
   "source": [
    "B12891  DNA비밀번호\n",
    "쉬운 문자열인줄 알았는데 나름 시간관리 해야했던 문제"
   ]
  },
  {
   "cell_type": "code",
   "execution_count": null,
   "id": "0a01506e-0ad0-4e72-b894-f8d2c20ca282",
   "metadata": {},
   "outputs": [],
   "source": [
    "import sys\n",
    "input=sys.stdin.readline\n",
    "\n",
    "s, p = map(int, input().split())\n",
    "st = input().rstrip()\n",
    "a, c, g, t = map(int, input().split())\n",
    "#p만큼 하고 거기서 acgt 숫자 각각 카운트 해서 보다 크면 ok 카운팅 -> 반복무 중첩하면 시간초과라서 for문 한번으로 끝낼 수 있게 바꿈\n",
    "check=0\n",
    "ac=0\n",
    "cc=0\n",
    "gc=0\n",
    "tc=0\n",
    "sr=st[:p]\n",
    "for j in range(p):\n",
    "    if sr[j]=='A':\n",
    "        ac+=1\n",
    "    elif sr[j]=='C':\n",
    "        cc+=1\n",
    "    elif sr[j] == 'G':\n",
    "        gc+=1\n",
    "    else:\n",
    "        tc+=1\n",
    "\n",
    "if ac>=a and cc>=c and gc>=g and tc>=t:\n",
    "        check+=1\n",
    "for i in range(1,s-p+1):\n",
    "    if st[i-1]=='A':\n",
    "        ac-=1\n",
    "    elif st[i-1]=='C':\n",
    "        cc-=1\n",
    "    elif st[i-1] == 'G':\n",
    "        gc-=1\n",
    "    else:\n",
    "        tc-=1\n",
    "    if st[i+p-1]=='A':\n",
    "        ac+=1\n",
    "    elif st[i+p-1]=='C':\n",
    "        cc+=1\n",
    "    elif st[i+p-1] == 'G':\n",
    "        gc+=1\n",
    "    else:\n",
    "        tc+=1\n",
    "    if ac>=a and cc>=c and gc>=g and tc>=t:\n",
    "        check+=1\n",
    "\n",
    "print(check)"
   ]
  }
 ],
 "metadata": {
  "kernelspec": {
   "display_name": "Python 3 (ipykernel)",
   "language": "python",
   "name": "python3"
  },
  "language_info": {
   "codemirror_mode": {
    "name": "ipython",
    "version": 3
   },
   "file_extension": ".py",
   "mimetype": "text/x-python",
   "name": "python",
   "nbconvert_exporter": "python",
   "pygments_lexer": "ipython3",
   "version": "3.9.12"
  }
 },
 "nbformat": 4,
 "nbformat_minor": 5
}
