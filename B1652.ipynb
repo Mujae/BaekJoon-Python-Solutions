{
 "cells": [
  {
   "cell_type": "markdown",
   "id": "57499ca2-3e38-4b56-ad81-5029a90ce60f",
   "metadata": {},
   "source": [
    "B1652"
   ]
  },
  {
   "cell_type": "code",
   "execution_count": null,
   "id": "ee8c7ec9-1a6d-4a68-8f68-6e16d8f14dac",
   "metadata": {},
   "outputs": [],
   "source": [
    "n = int(input())\n",
    "\n",
    "li=[]\n",
    "\n",
    "for i in range(n):\n",
    "    li.append(input().rstrip())\n",
    "c=0\n",
    "for i in range(n):\n",
    "    c2=0\n",
    "    for j in range(n):\n",
    "        if li[i][j]=='.':\n",
    "            c2+=1\n",
    "            if j==n-1 and c2>1:\n",
    "                c+=1\n",
    "        else:\n",
    "            if c2>1:\n",
    "                c+=1\n",
    "            c2=0\n",
    "c3=0\n",
    "for i in range(n):\n",
    "    c2=0\n",
    "    for j in range(n):\n",
    "        if li[j][i]=='.':\n",
    "            c2+=1\n",
    "            if j==n-1 and c2>1:\n",
    "                c3+=1\n",
    "        else:\n",
    "            if c2>1:\n",
    "                c3+=1\n",
    "            c2=0\n",
    "print(c, c3)"
   ]
  }
 ],
 "metadata": {
  "kernelspec": {
   "display_name": "Python 3 (ipykernel)",
   "language": "python",
   "name": "python3"
  },
  "language_info": {
   "name": ""
  }
 },
 "nbformat": 4,
 "nbformat_minor": 5
}
