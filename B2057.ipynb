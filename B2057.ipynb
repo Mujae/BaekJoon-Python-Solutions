{
 "cells": [
  {
   "cell_type": "markdown",
   "id": "3d2fd098-17d4-4e9c-9ef0-4fd0555afe62",
   "metadata": {},
   "source": [
    "B2057"
   ]
  },
  {
   "cell_type": "code",
   "execution_count": null,
   "id": "fa4f3944-3b4d-4cfc-8389-dda8d188d001",
   "metadata": {},
   "outputs": [],
   "source": [
    "n= int(input())\n",
    "\n",
    "def f(a):\n",
    "    if a==0:\n",
    "        return 1\n",
    "    else:\n",
    "        return a*(f(a-1))\n",
    "\n",
    "li =[]\n",
    "if n==0:\n",
    "    print(\"NO\")\n",
    "else:\n",
    "    for i in range(21):\n",
    "        li.append(f(i))\n",
    "\n",
    "    for i in range(20, -1,-1):\n",
    "        if n>=li[i]:\n",
    "            n-=li[i]\n",
    "    if n==0:\n",
    "        print(\"YES\")\n",
    "    else:\n",
    "        print(\"NO\")\n"
   ]
  }
 ],
 "metadata": {
  "kernelspec": {
   "display_name": "Python 3 (ipykernel)",
   "language": "python",
   "name": "python3"
  },
  "language_info": {
   "name": ""
  }
 },
 "nbformat": 4,
 "nbformat_minor": 5
}
