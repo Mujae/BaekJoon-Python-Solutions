{
 "cells": [
  {
   "cell_type": "markdown",
   "id": "936bbb06-5cd4-4c3a-8209-c80e7764ad59",
   "metadata": {},
   "source": [
    "B18110"
   ]
  },
  {
   "cell_type": "code",
   "execution_count": null,
   "id": "86294831-b770-475d-9079-e232e4269382",
   "metadata": {},
   "outputs": [],
   "source": [
    "#절단평균을 구하는 문제.  \n",
    "# 오늘 알게 된 점.. -> 파이썬에서 round 내장 함수를 쓰면 홀수면 정상작동하지만 짝수일 때는 .5가 붙으면 내림이 됨.\n",
    "import sys\n",
    "\n",
    "input = sys.stdin.readline\n",
    "def round2(num):\n",
    "    if(num>0):\n",
    "        return int(num+0.5)\n",
    "    return int(num-0.5)\n",
    "\n",
    "t = int(input())\n",
    "if t==0:\n",
    "    print(0)\n",
    "    exit()\n",
    "li=[]\n",
    "for _ in range(t):\n",
    "    li.append(int(input()))\n",
    "li = sorted(li)\n",
    "\n",
    "l = round2(t*0.15)\n",
    "r = t-round2(t*0.15)\n",
    "if l>0:\n",
    "    s=0\n",
    "\n",
    "    for i in range(l,r):\n",
    "        s+=li[i]\n",
    "    print(round2(s/(t-l*2)))\n",
    "else:\n",
    "    print(round2(sum(li)/t))"
   ]
  }
 ],
 "metadata": {
  "kernelspec": {
   "display_name": "Python 3 (ipykernel)",
   "language": "python",
   "name": "python3"
  },
  "language_info": {
   "codemirror_mode": {
    "name": "ipython",
    "version": 3
   },
   "file_extension": ".py",
   "mimetype": "text/x-python",
   "name": "python",
   "nbconvert_exporter": "python",
   "pygments_lexer": "ipython3",
   "version": "3.10.9"
  }
 },
 "nbformat": 4,
 "nbformat_minor": 5
}
