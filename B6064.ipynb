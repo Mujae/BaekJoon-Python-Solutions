{
 "cells": [
  {
   "cell_type": "markdown",
   "id": "2d0fef5c-fdcd-4547-b851-e969fe96ac9e",
   "metadata": {},
   "source": [
    "B6064  \n",
    "카이이잉달력"
   ]
  },
  {
   "cell_type": "code",
   "execution_count": null,
   "id": "ebe09c8f-3c1c-40cb-af28-bcb92e42f8b6",
   "metadata": {},
   "outputs": [],
   "source": [
    "#시간초과\n",
    "import math\n",
    "t = int(input())\n",
    "\n",
    "for _ in range(t):\n",
    "    m, n, x, y = map(int, input().split())\n",
    "    c=0\n",
    "    check=0\n",
    "    s= math.lcm(m, n)\n",
    "    if m==x and n==y:\n",
    "        print(s)\n",
    "        continue\n",
    "    elif m+x == n+y:\n",
    "        print(m+x)\n",
    "        continue\n",
    "    for i in range(1,s+1):\n",
    "        c+=1\n",
    "        if m>=i:\n",
    "            if n>=i:\n",
    "                if i==x and i==y:\n",
    "                    check=1\n",
    "                    break\n",
    "            else:\n",
    "                if i==x and i%n==y:\n",
    "                    check=1\n",
    "                    break\n",
    "        else:\n",
    "            if n>=i:\n",
    "                if i%m==x and i==y:\n",
    "                    check=1\n",
    "                    break\n",
    "            else:\n",
    "                if i%m==x and i%n==y:\n",
    "                    check=1\n",
    "                    break\n",
    "    if check==1:\n",
    "        print(c)\n",
    "    else:\n",
    "        print(-1)\n",
    "    "
   ]
  },
  {
   "cell_type": "code",
   "execution_count": null,
   "id": "9ff8c2da-efa8-4d52-9478-2ae1055d37a7",
   "metadata": {},
   "outputs": [],
   "source": [
    "import math\n",
    "t = int(input())\n",
    "for _ in range(t):\n",
    "    c=0\n",
    "    m, n, x, y = map(int, input().split())\n",
    "    while x<= math.lcm(m,n):\n",
    "        if (x-y)%n==0:\n",
    "            print(x)\n",
    "            c=1\n",
    "            break\n",
    "        x+=m\n",
    "    \n",
    "    if c==0:\n",
    "        print(-1)\n",
    "            "
   ]
  }
 ],
 "metadata": {
  "kernelspec": {
   "display_name": "Python 3 (ipykernel)",
   "language": "python",
   "name": "python3"
  },
  "language_info": {
   "codemirror_mode": {
    "name": "ipython",
    "version": 3
   },
   "file_extension": ".py",
   "mimetype": "text/x-python",
   "name": "python",
   "nbconvert_exporter": "python",
   "pygments_lexer": "ipython3",
   "version": "3.9.12"
  }
 },
 "nbformat": 4,
 "nbformat_minor": 5
}
