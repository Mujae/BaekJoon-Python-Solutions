{
 "cells": [
  {
   "cell_type": "markdown",
   "id": "e8b5eeae-4739-4ad9-a3b6-2d336b8ab3d8",
   "metadata": {},
   "source": [
    "sys없인 못 살아~ 3대 측정 B20299"
   ]
  },
  {
   "cell_type": "code",
   "execution_count": 6,
   "id": "48b4c98a-4931-4f2b-b848-b9ad2c15d9bd",
   "metadata": {},
   "outputs": [
    {
     "ename": "ValueError",
     "evalue": "not enough values to unpack (expected 3, got 0)",
     "output_type": "error",
     "traceback": [
      "\u001b[1;31m---------------------------------------------------------------------------\u001b[0m",
      "\u001b[1;31mValueError\u001b[0m                                Traceback (most recent call last)",
      "Input \u001b[1;32mIn [6]\u001b[0m, in \u001b[0;36m<cell line: 3>\u001b[1;34m()\u001b[0m\n\u001b[0;32m      1\u001b[0m \u001b[38;5;28;01mimport\u001b[39;00m \u001b[38;5;21;01msys\u001b[39;00m\n\u001b[0;32m      2\u001b[0m \u001b[38;5;28minput\u001b[39m\u001b[38;5;241m=\u001b[39msys\u001b[38;5;241m.\u001b[39mstdin\u001b[38;5;241m.\u001b[39mreadline\n\u001b[1;32m----> 3\u001b[0m n, k, l \u001b[38;5;241m=\u001b[39m \u001b[38;5;28mmap\u001b[39m(\u001b[38;5;28mint\u001b[39m, \u001b[38;5;28minput\u001b[39m()\u001b[38;5;241m.\u001b[39msplit())\n\u001b[0;32m      4\u001b[0m w\u001b[38;5;241m=\u001b[39m\u001b[38;5;241m0\u001b[39m\n\u001b[0;32m      5\u001b[0m li\u001b[38;5;241m=\u001b[39m[]\n",
      "\u001b[1;31mValueError\u001b[0m: not enough values to unpack (expected 3, got 0)"
     ]
    }
   ],
   "source": [
    "import sys\n",
    "input=sys.stdin.readline\n",
    "n, k, l = map(int, input().split())\n",
    "w=0\n",
    "li=[]\n",
    "for i in range(n):\n",
    "    a, b, c = map(int, input().split())\n",
    "    if a+b+c>=k and (a>=l and b>=l and c>=l):\n",
    "        w+=1\n",
    "        li.append(a)\n",
    "        li.append(b)\n",
    "        li.append(c)\n",
    "print(w)\n",
    "print(*li)"
   ]
  },
  {
   "cell_type": "markdown",
   "id": "1f574bce-2222-4654-9eb2-5df95581cecc",
   "metadata": {},
   "source": [
    "B25709 1 빼기 (미완)"
   ]
  },
  {
   "cell_type": "code",
   "execution_count": null,
   "id": "9a2c67ad-fa98-49c4-951e-b82ce7b47fc6",
   "metadata": {},
   "outputs": [],
   "source": [
    "n=input().rstrip()\n",
    "s=[]\n",
    "for i in range(len(n)):\n",
    "    s.append(int(n[i]))\n",
    "c=0\n",
    "while True:\n",
    "    for i in range(len(s)):\n",
    "        if s[i]==1:\n",
    "            del s[i]\n",
    "            if i==0:\n",
    "                o=0\n",
    "                while len(s)>o:\n",
    "                    if s[o]>0:\n",
    "                        break\n",
    "                    else:\n",
    "                        del s[o]\n",
    "                    o+=1\n",
    "            c+=1\n",
    "            break\n",
    "    lan=len(s)\n",
    "    if lan==1 and s[-1]<2:\n",
    "        c+=1\n",
    "        break\n",
    "    elif lan>1 and s[-1]>1:\n",
    "        c+=1\n",
    "        s[-1]-=1\n",
    "    if lan>1 and s[-1]==1:\n",
    "        c+=1\n",
    "        del s[-1]\n",
    "print(c)\n"
   ]
  }
 ],
 "metadata": {
  "kernelspec": {
   "display_name": "Python 3 (ipykernel)",
   "language": "python",
   "name": "python3"
  },
  "language_info": {
   "codemirror_mode": {
    "name": "ipython",
    "version": 3
   },
   "file_extension": ".py",
   "mimetype": "text/x-python",
   "name": "python",
   "nbconvert_exporter": "python",
   "pygments_lexer": "ipython3",
   "version": "3.9.12"
  }
 },
 "nbformat": 4,
 "nbformat_minor": 5
}
