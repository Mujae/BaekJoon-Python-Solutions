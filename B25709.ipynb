{
 "cells": [
  {
   "cell_type": "markdown",
   "id": "e8b5eeae-4739-4ad9-a3b6-2d336b8ab3d8",
   "metadata": {},
   "source": [
    "sys없인 못 살아~ 3대 측정 B20299"
   ]
  },
  {
   "cell_type": "code",
   "execution_count": 6,
   "id": "48b4c98a-4931-4f2b-b848-b9ad2c15d9bd",
   "metadata": {},
   "outputs": [
    {
     "ename": "ValueError",
     "evalue": "not enough values to unpack (expected 3, got 0)",
     "output_type": "error",
     "traceback": [
      "\u001b[1;31m---------------------------------------------------------------------------\u001b[0m",
      "\u001b[1;31mValueError\u001b[0m                                Traceback (most recent call last)",
      "Input \u001b[1;32mIn [6]\u001b[0m, in \u001b[0;36m<cell line: 3>\u001b[1;34m()\u001b[0m\n\u001b[0;32m      1\u001b[0m \u001b[38;5;28;01mimport\u001b[39;00m \u001b[38;5;21;01msys\u001b[39;00m\n\u001b[0;32m      2\u001b[0m \u001b[38;5;28minput\u001b[39m\u001b[38;5;241m=\u001b[39msys\u001b[38;5;241m.\u001b[39mstdin\u001b[38;5;241m.\u001b[39mreadline\n\u001b[1;32m----> 3\u001b[0m n, k, l \u001b[38;5;241m=\u001b[39m \u001b[38;5;28mmap\u001b[39m(\u001b[38;5;28mint\u001b[39m, \u001b[38;5;28minput\u001b[39m()\u001b[38;5;241m.\u001b[39msplit())\n\u001b[0;32m      4\u001b[0m w\u001b[38;5;241m=\u001b[39m\u001b[38;5;241m0\u001b[39m\n\u001b[0;32m      5\u001b[0m li\u001b[38;5;241m=\u001b[39m[]\n",
      "\u001b[1;31mValueError\u001b[0m: not enough values to unpack (expected 3, got 0)"
     ]
    }
   ],
   "source": [
    "import sys\n",
    "input=sys.stdin.readline\n",
    "n, k, l = map(int, input().split())\n",
    "w=0\n",
    "li=[]\n",
    "for i in range(n):\n",
    "    a, b, c = map(int, input().split())\n",
    "    if a+b+c>=k and (a>=l and b>=l and c>=l):\n",
    "        w+=1\n",
    "        li.append(a)\n",
    "        li.append(b)\n",
    "        li.append(c)\n",
    "print(w)\n",
    "print(*li)"
   ]
  },
  {
   "cell_type": "markdown",
   "id": "1f574bce-2222-4654-9eb2-5df95581cecc",
   "metadata": {},
   "source": [
    "B25709 1 빼기  \n",
    "N(정수)를 주고 -1을 하거나 숫자 1 하나를 없애고 양쪽에 남은 숫자들을 합칠 수 있는 문제  \n",
    "(참고로 1000은 1을 뺴면 000이라 끝나고 1005 같은 경우는 1005 5 4 3 2 1 이러고 끝난다.)  \n",
    "1이 있으면 1부터 없애주고 없으면 -1 하면서 계속 돌리기 "
   ]
  },
  {
   "cell_type": "code",
   "execution_count": 85,
   "id": "9a2c67ad-fa98-49c4-951e-b82ce7b47fc6",
   "metadata": {},
   "outputs": [
    {
     "name": "stdin",
     "output_type": "stream",
     "text": [
      " 506\n"
     ]
    },
    {
     "name": "stdout",
     "output_type": "stream",
     "text": [
      "20\n"
     ]
    }
   ],
   "source": [
    "from collections import deque\n",
    "n=input().rstrip()\n",
    "l=len(n)#시간초과가 계속 떠서 len 사용을 최대한 줄이기 위해 l 생성 후 계속 추적\n",
    "s=deque()\n",
    "for i in range(l):\n",
    "    s.append(int(n[i]))\n",
    "c=0\n",
    "while s:\n",
    "    k=0 #숫자에 1이 있었나 확인용\n",
    "    for i in range(l): #숫자 1 찾기\n",
    "        if s[i]==1:\n",
    "            k=1\n",
    "            del s[i]\n",
    "            l-=1\n",
    "            if i==0:#10003459, 1493 같이 첫숫자가 1인 경우 0을 지워주기 위한 조건문\n",
    "                w=0\n",
    "                while True:\n",
    "                    if w==l or s[w]>0:\n",
    "                        break\n",
    "                    else:\n",
    "                        s.popleft()\n",
    "                        l-=1\n",
    "            c+=1\n",
    "            break\n",
    "    #지저분한데 그냥 -1해주거나 continue하거나 break하는 부분\n",
    "    if l==0 or (l==1 and s[0]==0):\n",
    "        break\n",
    "    elif k==1:\n",
    "        continue\n",
    "    else:\n",
    "        if s[-1]==0: #마지막자리가 0일 때\n",
    "            if l>1:\n",
    "                if s[-2]>0:#0보다 클 때는 상관없음\n",
    "                    s[-2]-=1\n",
    "                    s[-1]=9\n",
    "                    c+=1\n",
    "                else:# 0이면 9로 바꿔주고 앞의 자리들도 고려해야함\n",
    "                    r=l-2\n",
    "                    while r>0:\n",
    "                        if s[r]==0:\n",
    "                            s[r]=9\n",
    "                        else:\n",
    "                            s[r]-=1\n",
    "                            break\n",
    "                    c+=1\n",
    "            else:\n",
    "                break\n",
    "        else:\n",
    "            s[-1]-=1\n",
    "            c+=1\n",
    "        \n",
    "print(c)\n"
   ]
  },
  {
   "cell_type": "markdown",
   "id": "2af32edd-d821-4ec8-a0a1-0818cd4da733",
   "metadata": {},
   "source": [
    "시간초과 떠서 이것저것 시도해본 문제  \n",
    "더 깔끔하게 풀 수 있을 것 같은데 귀찮음이.."
   ]
  }
 ],
 "metadata": {
  "kernelspec": {
   "display_name": "Python 3 (ipykernel)",
   "language": "python",
   "name": "python3"
  },
  "language_info": {
   "codemirror_mode": {
    "name": "ipython",
    "version": 3
   },
   "file_extension": ".py",
   "mimetype": "text/x-python",
   "name": "python",
   "nbconvert_exporter": "python",
   "pygments_lexer": "ipython3",
   "version": "3.9.12"
  }
 },
 "nbformat": 4,
 "nbformat_minor": 5
}
