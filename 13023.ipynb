{
 "cells": [
  {
   "cell_type": "markdown",
   "id": "cafc8636-9727-47a3-ac82-78cacb9d39dd",
   "metadata": {},
   "source": [
    "B13023 ABCDE  \n",
    "친구관계가 5깊이만큼 되는지, 즉 A는 B와 친구, B는 C와 친구, C는 D와 친구, D는 E와 친구 -> 이런 관계가 되는 것이 있는지 확인하는 문제  \n",
    "즉 DFS로 깊이가 5가 되면 1을 출력하고 그런 것이 한 번도 없으면 0을 출력하면 되는 문제"
   ]
  },
  {
   "cell_type": "code",
   "execution_count": null,
   "id": "61ea44a1-2d3e-442e-b7bd-060e7bf8ac81",
   "metadata": {},
   "outputs": [],
   "source": [
    "import sys\n",
    "input = sys.stdin.readline\n",
    "sys.setrecursionlimit(10**6)\n",
    "n, m = map(int, input().split())\n",
    "\n",
    "\n",
    "li=[[] for _ in range(n)]\n",
    "for i in range(m):\n",
    "    a, b = map(int, input().split())\n",
    "    li[a].append(b)\n",
    "    li[b].append(a)\n",
    "li2=[0]*n\n",
    "c2=0\n",
    "def go(s,t):#s는 탐방할 행, t는 깊이 카운트\n",
    "    global c2\n",
    "    if t==5:\n",
    "        print(1)\n",
    "        exit(0)#오늘 exit 사용법 배워갑니다~\n",
    "    c=0\n",
    "    for i in li[s]:\n",
    "        if li2[i]==0:\n",
    "            li2[i]=1\n",
    "            c+=1\n",
    "            go(i,t+1)\n",
    "            li2[i]=0\n",
    "\n",
    "for j in range(n):\n",
    "    li2[j]=1            \n",
    "    if go(j,1):\n",
    "        break\n",
    "    li2[j]=0\n",
    "print(0)"
   ]
  }
 ],
 "metadata": {
  "kernelspec": {
   "display_name": "Python 3 (ipykernel)",
   "language": "python",
   "name": "python3"
  },
  "language_info": {
   "codemirror_mode": {
    "name": "ipython",
    "version": 3
   },
   "file_extension": ".py",
   "mimetype": "text/x-python",
   "name": "python",
   "nbconvert_exporter": "python",
   "pygments_lexer": "ipython3",
   "version": "3.9.12"
  }
 },
 "nbformat": 4,
 "nbformat_minor": 5
}
