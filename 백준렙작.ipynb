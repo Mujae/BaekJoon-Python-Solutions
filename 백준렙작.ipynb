{
 "cells": [
  {
   "cell_type": "markdown",
   "id": "4d60fb63-ceb5-42d8-baea-de019360a8f4",
   "metadata": {},
   "source": [
    "B1978"
   ]
  },
  {
   "cell_type": "code",
   "execution_count": 2,
   "id": "6bd4259c-567a-43f2-bc82-ac893e91b1a1",
   "metadata": {},
   "outputs": [
    {
     "name": "stdin",
     "output_type": "stream",
     "text": [
      " 3\n",
      " 2 5 7\n"
     ]
    },
    {
     "name": "stdout",
     "output_type": "stream",
     "text": [
      "3\n"
     ]
    }
   ],
   "source": [
    "n=int(input())\n",
    "\n",
    "li=list(map(int, input().split()))\n",
    "stack=[2]\n",
    "for i in range(3,1000):\n",
    "    c=0\n",
    "    for j in stack:\n",
    "        if i%j==0:\n",
    "            c+=1\n",
    "            break\n",
    "    if c==0:\n",
    "        stack.append(i)\n",
    "c=0\n",
    "for i in range(n):\n",
    "    if li[i] in stack:\n",
    "        c+=1\n",
    "print(c)"
   ]
  },
  {
   "cell_type": "markdown",
   "id": "eacb6717-2077-4403-a1e5-b097ee2b8537",
   "metadata": {},
   "source": [
    "B2231"
   ]
  },
  {
   "cell_type": "code",
   "execution_count": 3,
   "id": "521b1de1-5603-481c-a188-d87ed52c23a2",
   "metadata": {},
   "outputs": [
    {
     "name": "stdin",
     "output_type": "stream",
     "text": [
      " 216\n"
     ]
    },
    {
     "name": "stdout",
     "output_type": "stream",
     "text": [
      "198\n"
     ]
    },
    {
     "data": {
      "text/plain": [
       "'\\nn = int(input())\\ni = 0\\nw = n\\nwhile w // 10 > 0:\\n    w //= 10\\n    i += 1\\n    \\ndef check(m):\\n    if m < 10:\\n        return m\\n    else:\\n        return m % 10 + check(m//10)\\n   \\nfor m in range(n-9 * (i+1), n+10):\\n    if m + check(m) == n:\\n        print(m)\\n        break\\n    if m == n+9:\\n        print(0)\\n'"
      ]
     },
     "execution_count": 3,
     "metadata": {},
     "output_type": "execute_result"
    }
   ],
   "source": [
    "\n",
    "n=int(input())\n",
    "c=0\n",
    "for i in range(1,n):\n",
    "    st=str(i)\n",
    "    s=0\n",
    "    for j in range(len(st)):\n",
    "        s+=int(st[j])\n",
    "    s+=i\n",
    "    if s==n:\n",
    "        c=i\n",
    "        break\n",
    "if c==0:\n",
    "    print(0)\n",
    "else:\n",
    "    print(c)\n",
    "'''\n",
    "n = int(input())\n",
    "i = 0\n",
    "w = n\n",
    "while w // 10 > 0:\n",
    "    w //= 10\n",
    "    i += 1\n",
    "    \n",
    "def check(m):\n",
    "    if m < 10:\n",
    "        return m\n",
    "    else:\n",
    "        return m % 10 + check(m//10)\n",
    "   \n",
    "for m in range(n-9 * (i+1), n+10):\n",
    "    if m + check(m) == n:\n",
    "        print(m)\n",
    "        break\n",
    "    if m == n+9:\n",
    "        print(0)\n",
    "'''"
   ]
  },
  {
   "cell_type": "markdown",
   "id": "07f17698-0911-496f-9931-eecc2fdedc60",
   "metadata": {},
   "source": [
    "B15829"
   ]
  },
  {
   "cell_type": "code",
   "execution_count": 5,
   "id": "8984a17c-3585-4290-b2dd-3937b638ced5",
   "metadata": {},
   "outputs": [
    {
     "name": "stdin",
     "output_type": "stream",
     "text": [
      " 5\n",
      " abcde\n"
     ]
    },
    {
     "name": "stdout",
     "output_type": "stream",
     "text": [
      "4739715\n"
     ]
    }
   ],
   "source": [
    "l=int(input())\n",
    "s=input().rstrip()\n",
    "su=0\n",
    "#-96\n",
    "for i in range(l):\n",
    "    su+=(ord(s[i])-96)*31**i\n",
    "print(su%1234567891)"
   ]
  },
  {
   "cell_type": "markdown",
   "id": "a7fd738e-a4b0-4e0e-ae21-709e4afb0a43",
   "metadata": {},
   "source": [
    "B18111"
   ]
  },
  {
   "cell_type": "code",
   "execution_count": null,
   "id": "2c08b631-c214-48ac-9a1b-3c1f8d8cc6a3",
   "metadata": {},
   "outputs": [],
   "source": [
    "import sys\n",
    "input=sys.stdin.readline\n",
    "N,M,B = map(int, input().split())\n",
    "o=0 #시간\n",
    "li=[]\n",
    "for i in range(N):\n",
    "    li.append(list(map(int, input().split())))\n",
    "\n",
    "av=0\n",
    "s=0\n",
    "mm=0#최대\n",
    "mn=max(max(li))#최소\n",
    "x, y, x2, y2=0,0,0,0#좌표\n",
    "for i in range(N):\n",
    "    for j in range(M):\n",
    "        s+=li[i][j]\n",
    "        if mm<li[i][j]:\n",
    "            mm=li[i][j]\n",
    "            x, y = i, j\n",
    "        if mn>li[i][j]:\n",
    "            mn=li[i][j]\n",
    "            x2,y2=i,j\n",
    "if B>0:\n",
    "    av=round(s/(N*M))\n",
    "else:\n",
    "    av=s//(N*M)\n",
    "for _ in range(257):\n",
    "\n",
    "    if B>0:\n",
    "        for i in range(N):\n",
    "            for j in range(M):\n",
    "                if li[i][j]<av and B>0:\n",
    "                    B-=1\n",
    "                    li[i][j]+=1\n",
    "                    o+=1\n",
    "                elif li[i][j]>av:\n",
    "                    o+=2\n",
    "                    B+=1\n",
    "                    li[i][j]-=1\n",
    "    else:\n",
    "        for i in range(N):\n",
    "            for j in range(M):\n",
    "                if li[i][j]<av:\n",
    "                    B-=1\n",
    "                    li[i][j]+=1\n",
    "                    o+=1\n",
    "                elif li[i][j]>av:\n",
    "                    o+=2\n",
    "                    B+=1\n",
    "                    li[i][j]-=1\n",
    "    if li[x][y]==av and li[x2][y2]==av:\n",
    "        break\n",
    "print(o, li[0][0])"
   ]
  }
 ],
 "metadata": {
  "kernelspec": {
   "display_name": "Python 3 (ipykernel)",
   "language": "python",
   "name": "python3"
  },
  "language_info": {
   "codemirror_mode": {
    "name": "ipython",
    "version": 3
   },
   "file_extension": ".py",
   "mimetype": "text/x-python",
   "name": "python",
   "nbconvert_exporter": "python",
   "pygments_lexer": "ipython3",
   "version": "3.9.12"
  }
 },
 "nbformat": 4,
 "nbformat_minor": 5
}
