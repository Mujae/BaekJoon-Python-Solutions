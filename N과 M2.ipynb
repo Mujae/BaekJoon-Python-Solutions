{
 "cells": [
  {
   "cell_type": "markdown",
   "id": "210f4342-0f64-4aa9-88dd-16b4d7a9b63f",
   "metadata": {},
   "source": [
    "B15657  \n",
    "전이랑 달라진 점은 중복 가능 + 다음 숫자가 작으면 안됨"
   ]
  },
  {
   "cell_type": "code",
   "execution_count": null,
   "id": "66c9b5ee-4be1-40dd-9664-9c0a56c0e40e",
   "metadata": {},
   "outputs": [],
   "source": [
    "N, M = map(int, input().split())\n",
    "\n",
    "li=list(map(int, input().split()))\n",
    "li.sort()\n",
    "stack=[]\n",
    "j=-1\n",
    "def dfs():\n",
    "    if len(stack) == M:\n",
    "        for i in stack:\n",
    "            print(li[i], end=\" \")\n",
    "        print()\n",
    "        return\n",
    "    global j\n",
    "    for i in range(0, N):\n",
    "        if i>j:\n",
    "            stack.append(i)\n",
    "            dfs()\n",
    "            stack.pop()\n",
    "            j=i\n",
    "dfs()"
   ]
  },
  {
   "cell_type": "markdown",
   "id": "dd5d6b4c-1f3a-4953-9ba9-abd17a7b2eec",
   "metadata": {},
   "source": [
    "B15663\n",
    "\\중복 잡기"
   ]
  },
  {
   "cell_type": "code",
   "execution_count": 16,
   "id": "d3207c62-c8b0-4596-ad47-81a0718523b5",
   "metadata": {},
   "outputs": [
    {
     "name": "stdin",
     "output_type": "stream",
     "text": [
      " 4 2\n",
      " 9 7 9 1\n"
     ]
    },
    {
     "name": "stdout",
     "output_type": "stream",
     "text": [
      "1 1 \n",
      "1 7 \n",
      "1 9 \n",
      "1 9 \n",
      "7 7 \n",
      "7 9 \n",
      "7 9 \n",
      "9 9 \n",
      "9 9 \n",
      "9 9 \n"
     ]
    }
   ],
   "source": [
    "N, M = map(int, input().split())\n",
    "\n",
    "li=list(map(int, input().split()))\n",
    "li.sort()\n",
    "stack=[]\n",
    "j=-1\n",
    "def dfs():\n",
    "    global j\n",
    "    if len(stack) == M and :\n",
    "        for i in stack:\n",
    "            print(li[i], end=\" \")\n",
    "        print()\n",
    "        return\n",
    "    \n",
    "    for i in range(0, N):\n",
    "        if i>j:\n",
    "            stack.append(i)\n",
    "            dfs()\n",
    "            stack.pop()\n",
    "            j=i\n",
    "dfs()"
   ]
  }
 ],
 "metadata": {
  "kernelspec": {
   "display_name": "Python 3 (ipykernel)",
   "language": "python",
   "name": "python3"
  },
  "language_info": {
   "codemirror_mode": {
    "name": "ipython",
    "version": 3
   },
   "file_extension": ".py",
   "mimetype": "text/x-python",
   "name": "python",
   "nbconvert_exporter": "python",
   "pygments_lexer": "ipython3",
   "version": "3.9.12"
  }
 },
 "nbformat": 4,
 "nbformat_minor": 5
}
