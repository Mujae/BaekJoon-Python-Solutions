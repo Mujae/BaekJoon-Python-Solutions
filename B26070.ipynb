{
 "cells": [
  {
   "cell_type": "markdown",
   "id": "55fa9c45-b248-4425-8c7e-34515d13969a",
   "metadata": {},
   "source": [
    "B26070 곰곰이오ㅏ 학식 (그리디)\n",
    "총총선배가 곰곰이들 학식을 사주려 하는데\n",
    "치킨 먹고싶은 곰곰이는 A마리 피자는 B 햄버거는 C이다.\n",
    "학식당에서는 치킨 식권 3장이면 피자 식권 1장 피자 식권 3장이면 햄버거 식권 1장 햄버거 식권 3장이면 치킨 식권 1장으로 바꿔주는 이벤트 중이다.  \n",
    "총총선배가 X, Y, Z 만큼씩 식권이 있을 때 가장 배불리 먹일 수 있는 식충이 곰곰이들 수는?"
   ]
  },
  {
   "cell_type": "code",
   "execution_count": 11,
   "id": "2d5838ca-63d3-4740-87ca-6eb09e4ef924",
   "metadata": {},
   "outputs": [
    {
     "name": "stdin",
     "output_type": "stream",
     "text": [
      " 10 30 20\n",
      " 6 100 1\n"
     ]
    },
    {
     "name": "stdout",
     "output_type": "stream",
     "text": [
      "57\n"
     ]
    }
   ],
   "source": [
    "A= list(map(int, input().split()))\n",
    "B= list(map(int, input().split()))\n",
    "c=0 #먹을 수 있는 식충이 수\n",
    "\n",
    "while True:\n",
    "    #반복문 종료 조건\n",
    "    w=0\n",
    "    for i in range(3):\n",
    "        if B[i]>2:\n",
    "            w=1\n",
    "            \n",
    "    for i in range(3):\n",
    "        #일단 그리디 하게 처리해\n",
    "        if A[i]>B[i]:\n",
    "            c+=B[i]\n",
    "            A[i]-=B[i]\n",
    "            B[i]=0\n",
    "        else:\n",
    "            B[i]-=A[i]\n",
    "            c+=A[i]\n",
    "            A[i]=0\n",
    "        #남으면 다음으로 이동\n",
    "        if B[i]>=3:\n",
    "            if i==2:\n",
    "                B[0]+=B[i]//3\n",
    "                B[i]=B[i]%3\n",
    "            else:\n",
    "                B[i+1]+=B[i]//3\n",
    "                B[i]=B[i]%3\n",
    "    #반복문 종료 조건 체크\n",
    "    if w==0:\n",
    "        break\n",
    "    elif sum(A)==0:\n",
    "        break\n",
    "print(c)"
   ]
  },
  {
   "cell_type": "markdown",
   "id": "61e18fff-fb3e-4fb2-9308-7047bf856afc",
   "metadata": {},
   "source": [
    "Clear"
   ]
  }
 ],
 "metadata": {
  "kernelspec": {
   "display_name": "Python 3 (ipykernel)",
   "language": "python",
   "name": "python3"
  },
  "language_info": {
   "codemirror_mode": {
    "name": "ipython",
    "version": 3
   },
   "file_extension": ".py",
   "mimetype": "text/x-python",
   "name": "python",
   "nbconvert_exporter": "python",
   "pygments_lexer": "ipython3",
   "version": "3.9.12"
  }
 },
 "nbformat": 4,
 "nbformat_minor": 5
}
