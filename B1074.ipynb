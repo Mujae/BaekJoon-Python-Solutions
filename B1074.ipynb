{
 "cells": [
  {
   "cell_type": "markdown",
   "id": "16da435e-696f-490a-a17b-c2b8ac68cc4e",
   "metadata": {},
   "source": [
    "B1074"
   ]
  },
  {
   "cell_type": "code",
   "execution_count": 1,
   "id": "861b8192-bd47-47d7-b974-ce6289fc96fd",
   "metadata": {},
   "outputs": [
    {
     "name": "stdin",
     "output_type": "stream",
     "text": [
      " 2 3 1\n"
     ]
    },
    {
     "name": "stdout",
     "output_type": "stream",
     "text": [
      "11\n"
     ]
    }
   ],
   "source": [
    "import sys\n",
    "\n",
    "s= 0\n",
    "\n",
    "\n",
    "def go(n, x, y):\n",
    "    global s\n",
    "    if x == r and y == c:\n",
    "        print(int(s))\n",
    "        exit(0)\n",
    "\n",
    "    if n == 1:\n",
    "        s += 1\n",
    "        return\n",
    "\n",
    "    if not (x <= r < x + n and y <= c < y + n):\n",
    "        s += n * n\n",
    "        return\n",
    "    go(n / 2, x, y)\n",
    "    go(n / 2, x, y + n / 2)\n",
    "    go(n / 2, x + n / 2, y)\n",
    "    go(n / 2, x + n / 2, y + n / 2)\n",
    "\n",
    "\n",
    "n, r, c = map(int, input().split())\n",
    "go(2 ** n, 0, 0)"
   ]
  }
 ],
 "metadata": {
  "kernelspec": {
   "display_name": "Python 3 (ipykernel)",
   "language": "python",
   "name": "python3"
  },
  "language_info": {
   "codemirror_mode": {
    "name": "ipython",
    "version": 3
   },
   "file_extension": ".py",
   "mimetype": "text/x-python",
   "name": "python",
   "nbconvert_exporter": "python",
   "pygments_lexer": "ipython3",
   "version": "3.9.12"
  }
 },
 "nbformat": 4,
 "nbformat_minor": 5
}
