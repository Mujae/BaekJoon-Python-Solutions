{
 "cells": [
  {
   "cell_type": "markdown",
   "id": "c5f91241-9b1e-4558-b4f6-1931a8bd2113",
   "metadata": {},
   "source": [
    "B1485  \n",
    "정사각형 판별 문제  \n",
    "나처럼 대각선 길이 두 개가 같고 나머지 선분들이 같은지 봐도 되고  \n",
    "대각선의 길이가 같고(가장 긴 두 선분) 각도가 90도 인지 볼 수도 있음"
   ]
  },
  {
   "cell_type": "code",
   "execution_count": null,
   "id": "5605398d-c888-49aa-91f3-67214799ea9b",
   "metadata": {},
   "outputs": [],
   "source": [
    "import math\n",
    "\n",
    "t = int(input())\n",
    "\n",
    "for _ in range(t):\n",
    "    a = list(map(int,input().split()))\n",
    "    b = list(map(int,input().split()))\n",
    "    c = list(map(int,input().split()))\n",
    "    d = list(map(int,input().split()))\n",
    "\n",
    "    l1 = math.sqrt((a[0]-b[0])**2 + (a[1]-b[1])**2)\n",
    "    l2 = math.sqrt((a[0]-c[0])**2 + (a[1]-c[1])**2)\n",
    "    l3 = math.sqrt((a[0]-d[0])**2 + (a[1]-d[1])**2)\n",
    "    l4 = math.sqrt((b[0]-c[0])**2 + (b[1]-c[1])**2)\n",
    "    l5 = math.sqrt((b[0]-d[0])**2 + (b[1]-d[1])**2)\n",
    "    l6 = math.sqrt((c[0]-d[0])**2 + (c[1]-d[1])**2)\n",
    "    li = sorted([l1, l2, l3, l4, l5, l6])\n",
    "    if li[5]==li[4] and li[4]>li[0] and sum(li[:4]) == li[0]*4:\n",
    "        print(1)\n",
    "    else:\n",
    "        print(0)\n"
   ]
  }
 ],
 "metadata": {
  "kernelspec": {
   "display_name": "Python 3 (ipykernel)",
   "language": "python",
   "name": "python3"
  },
  "language_info": {
   "codemirror_mode": {
    "name": "ipython",
    "version": 3
   },
   "file_extension": ".py",
   "mimetype": "text/x-python",
   "name": "python",
   "nbconvert_exporter": "python",
   "pygments_lexer": "ipython3",
   "version": "3.9.12"
  }
 },
 "nbformat": 4,
 "nbformat_minor": 5
}
