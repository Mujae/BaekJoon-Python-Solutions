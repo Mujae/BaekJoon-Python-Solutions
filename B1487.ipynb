{
 "cells": [
  {
   "cell_type": "markdown",
   "id": "71bfecdb-5611-4a8b-9462-2e868478fded",
   "metadata": {},
   "source": [
    "B1487  \n",
    "세준이가 빵을 파는 상황이고 n명의 고객이 대기중이다.  \n",
    "고객들은 각각 가격상한선이 있고 세준이는 제일 큰 이득을 원하는 상황이다.  \n",
    "이때 배송비란 개념도 추가되는데 배송비까지 따졌을 때 얼마에 팔면 가장 이득일지를 구하는 문제다."
   ]
  },
  {
   "cell_type": "code",
   "execution_count": null,
   "id": "0bb733b5-3aca-4cc3-990f-2310cb60be72",
   "metadata": {},
   "outputs": [],
   "source": [
    "import sys\n",
    "input = sys.stdin.readline\n",
    "\n",
    "n = int(input())\n",
    "li=[]#고객들이 원하는 가격 정보\n",
    "c=0#문제에서 이득이 되는 고객이 없으면 0을 출력하라고 해서 한 사람이라도 해당되나 체크하는 용도\n",
    "\n",
    "for i in range(n):\n",
    "    li.append(list(map(int, input().split())))\n",
    "    if li[-1][0]>li[-1][1]:\n",
    "        c+=1\n",
    "        \n",
    "li=sorted(li)#문제 조건 중에 똑같은 값어치를 갖는 가격이 있다면 낮은 가격을 출력하라고 해서 정렬을 먼저 때려버림\n",
    "\n",
    "li2=[]#제일 큰 값의 인덱스를 저장할 공간\n",
    "m=0#최댓값\n",
    "\n",
    "for i in range(n):#브루트포스\n",
    "    s=0\n",
    "    for j in range(n):\n",
    "        if li[i][0]<=li[j][0]:\n",
    "            if li[i][0]-li[j][1]>0:\n",
    "                s+=li[i][0]-li[j][1]\n",
    "    if m<s:\n",
    "        m=s\n",
    "        li2.append(i)\n",
    "\n",
    "if c>0:\n",
    "    for i in range(n):\n",
    "        if li[i][0]==li[li2[-1]][0]:\n",
    "            print(li[i][0])\n",
    "            break\n",
    "else:\n",
    "    print(0)\n",
    "\n",
    "    \n"
   ]
  }
 ],
 "metadata": {
  "kernelspec": {
   "display_name": "Python 3 (ipykernel)",
   "language": "python",
   "name": "python3"
  },
  "language_info": {
   "codemirror_mode": {
    "name": "ipython",
    "version": 3
   },
   "file_extension": ".py",
   "mimetype": "text/x-python",
   "name": "python",
   "nbconvert_exporter": "python",
   "pygments_lexer": "ipython3",
   "version": "3.9.12"
  }
 },
 "nbformat": 4,
 "nbformat_minor": 5
}
