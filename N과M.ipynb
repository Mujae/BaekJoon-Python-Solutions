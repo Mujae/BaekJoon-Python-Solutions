{
 "cells": [
  {
   "cell_type": "markdown",
   "id": "6558b4d6-bea2-4477-8657-0529ccd4d74d",
   "metadata": {},
   "source": [
    "B15654 N과 M(5)"
   ]
  },
  {
   "cell_type": "code",
   "execution_count": 2,
   "id": "83c85f09-a77c-4c4a-b54a-1b7930d1c3ff",
   "metadata": {},
   "outputs": [
    {
     "name": "stdin",
     "output_type": "stream",
     "text": [
      " 4 4\n",
      " 1231 1232 1233 1234\n"
     ]
    },
    {
     "name": "stdout",
     "output_type": "stream",
     "text": [
      "1231 1232 1233 1234 \n",
      "1231 1232 1234 1233 \n",
      "1231 1233 1232 1234 \n",
      "1231 1233 1234 1232 \n",
      "1231 1234 1232 1233 \n",
      "1231 1234 1233 1232 \n",
      "1232 1231 1233 1234 \n",
      "1232 1231 1234 1233 \n",
      "1232 1233 1231 1234 \n",
      "1232 1233 1234 1231 \n",
      "1232 1234 1231 1233 \n",
      "1232 1234 1233 1231 \n",
      "1233 1231 1232 1234 \n",
      "1233 1231 1234 1232 \n",
      "1233 1232 1231 1234 \n",
      "1233 1232 1234 1231 \n",
      "1233 1234 1231 1232 \n",
      "1233 1234 1232 1231 \n",
      "1234 1231 1232 1233 \n",
      "1234 1231 1233 1232 \n",
      "1234 1232 1231 1233 \n",
      "1234 1232 1233 1231 \n",
      "1234 1233 1231 1232 \n",
      "1234 1233 1232 1231 \n"
     ]
    }
   ],
   "source": [
    "N, M = map(int, input().split())\n",
    "\n",
    "li=list(map(int, input().split()))\n",
    "li.sort()\n",
    "stack=[]\n",
    "def dfs():\n",
    "    if len(stack) == M:\n",
    "        for i in stack:\n",
    "            print(li[i], end=\" \")\n",
    "        print()\n",
    "        return\n",
    "    for i in range(0, N):\n",
    "        if i not in stack:\n",
    "            stack.append(i)\n",
    "            dfs()\n",
    "            stack.pop()\n",
    "dfs()"
   ]
  },
  {
   "cell_type": "markdown",
   "id": "7faa765e-d0c7-414e-8175-9180fa65fae6",
   "metadata": {},
   "source": [
    "B15655 N과 M(6)"
   ]
  },
  {
   "cell_type": "code",
   "execution_count": 1,
   "id": "42ceb4c9-ca6e-430f-b3ca-529c6340501d",
   "metadata": {},
   "outputs": [
    {
     "name": "stdin",
     "output_type": "stream",
     "text": [
      " 4 4\n",
      " 1231 1232 1233 1234\n"
     ]
    },
    {
     "name": "stdout",
     "output_type": "stream",
     "text": [
      "1231 1232 1233 1234 \n"
     ]
    }
   ],
   "source": [
    "N, M = map(int, input().split())\n",
    "\n",
    "li=list(map(int, input().split()))\n",
    "li.sort()\n",
    "stack=[]\n",
    "def dfs():\n",
    "    if len(stack) == M and check():\n",
    "        for i in stack:\n",
    "            print(li[i], end=\" \")\n",
    "        print()\n",
    "        return\n",
    "    for i in range(0, N):\n",
    "        if i not in stack:\n",
    "            stack.append(i)\n",
    "            dfs()\n",
    "            stack.pop()\n",
    "def check():\n",
    "    for i in range(1,len(stack)):\n",
    "        if li[stack[i-1]]>li[stack[i]]:\n",
    "            return False\n",
    "\n",
    "    return True\n",
    "dfs()"
   ]
  },
  {
   "cell_type": "code",
   "execution_count": null,
   "id": "31381e90-8759-4016-b640-48a2b1b1bd0c",
   "metadata": {},
   "outputs": [],
   "source": []
  }
 ],
 "metadata": {
  "kernelspec": {
   "display_name": "Python 3 (ipykernel)",
   "language": "python",
   "name": "python3"
  },
  "language_info": {
   "codemirror_mode": {
    "name": "ipython",
    "version": 3
   },
   "file_extension": ".py",
   "mimetype": "text/x-python",
   "name": "python",
   "nbconvert_exporter": "python",
   "pygments_lexer": "ipython3",
   "version": "3.9.12"
  }
 },
 "nbformat": 4,
 "nbformat_minor": 5
}
