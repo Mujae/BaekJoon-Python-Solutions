{
 "cells": [
  {
   "cell_type": "markdown",
   "id": "eead66ea-f74d-4f9e-840c-15137858ee86",
   "metadata": {},
   "source": [
    "B16953 A->B\n",
    "A에서 B를 만드는 최솟값에 1을 더해서 출력하는 문제  \n",
    "A에서 B를 만들 수 있는 방법은 2를 곱하거나 맨뒤에 1을 추가하는 것.  \n",
    "못 만들면 -1 출력  \n",
    "-> 반대로 반복문을 통해 B에서 A로 만들고 이 과정에서  뒷자리가 1이 아닌 홀수면 바로 -1을 출력해주면 되겠구나"
   ]
  },
  {
   "cell_type": "code",
   "execution_count": 3,
   "id": "1d82496e-ef35-4e6e-b98e-bb6799efacd5",
   "metadata": {},
   "outputs": [
    {
     "name": "stdin",
     "output_type": "stream",
     "text": [
      " 4 42\n"
     ]
    },
    {
     "name": "stdout",
     "output_type": "stream",
     "text": [
      "-1\n"
     ]
    }
   ],
   "source": [
    "A, B = map(int, input().split())\n",
    "c=0 #count\n",
    "while B>A: \n",
    "    st=str(B)\n",
    "    if st[-1]=='1':#젤 뒤의 숫자가 1인지 확인\n",
    "        c+=1\n",
    "        B=int(st[:-1])\n",
    "    elif B%2==0:\n",
    "        c+=1\n",
    "        B=B//2\n",
    "    else:\n",
    "        break\n",
    "    if A==B:\n",
    "        break\n",
    "        \n",
    "if A==B:\n",
    "    print(c+1)\n",
    "else:\n",
    "    print(-1)"
   ]
  },
  {
   "cell_type": "code",
   "execution_count": null,
   "id": "1d1f632d-8870-4094-a825-6568ce5e4086",
   "metadata": {},
   "outputs": [],
   "source": []
  }
 ],
 "metadata": {
  "kernelspec": {
   "display_name": "Python 3 (ipykernel)",
   "language": "python",
   "name": "python3"
  },
  "language_info": {
   "codemirror_mode": {
    "name": "ipython",
    "version": 3
   },
   "file_extension": ".py",
   "mimetype": "text/x-python",
   "name": "python",
   "nbconvert_exporter": "python",
   "pygments_lexer": "ipython3",
   "version": "3.9.12"
  }
 },
 "nbformat": 4,
 "nbformat_minor": 5
}
