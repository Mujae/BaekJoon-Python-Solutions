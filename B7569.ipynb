{
 "cells": [
  {
   "cell_type": "markdown",
   "id": "e45f5cdf-9760-43c8-9aff-009ba9e4274f",
   "metadata": {},
   "source": [
    "# B7569 또 다른 토마토 문제  \n",
    "바뀐점: 0(안익은 토마토)이 없으면 바로 0 출력 + 한 차원 늘려서 생각(z방향(위, 아래) 고려해주기)"
   ]
  },
  {
   "cell_type": "code",
   "execution_count": 1,
   "id": "5a0a406c-e2b3-462e-b630-2d08bbfea632",
   "metadata": {},
   "outputs": [
    {
     "name": "stdin",
     "output_type": "stream",
     "text": [
      " 5 3 1\n",
      " 0 -1 0 0 0\n",
      " -1 -1 0 1 1\n",
      " 0 0 0 1 1\n"
     ]
    },
    {
     "name": "stdout",
     "output_type": "stream",
     "text": [
      "-1\n"
     ]
    }
   ],
   "source": [
    "from collections import deque\n",
    "import sys\n",
    "sys.setrecursionlimit(10**7)\n",
    "\n",
    "x,y=0,0\n",
    "m,n,h = map(int, input().split())\n",
    "d=0#일수(꾼)\n",
    "start=[]#시작 점을 몇 개 줄 지 몰라서\n",
    "que=deque()#bfs를 위한 덱\n",
    "tmap=[]#그래프\n",
    "ch=0#0이 있나 없나 체크\n",
    "for k in range(h):\n",
    "    ttmap=[]\n",
    "    for i in range(n):\n",
    "        ttmap.append(list(map(int, input().split())))\n",
    "        for j in range(m):\n",
    "            if ttmap[i][j]==1:\n",
    "                start.append((i,j,k))\n",
    "            if ttmap[i][j]==0:\n",
    "                ch=1\n",
    "    tmap.append(ttmap)\n",
    "\n",
    "if ch==0:\n",
    "    print(0)\n",
    "else:\n",
    "    #전에 하던거 그대로 하려고 수정 안했는데 아예 (1,0,0), (0,1,0) 이런식으로 튜플 배열 만드는 것도 괜찮을듯\n",
    "    xd=[-1,1,0,0,0,0]\n",
    "    yd=[0,0,-1,1,0,0]\n",
    "    zd=[0,0,0,0,-1,1]\n",
    "    box=deque()#하루 지날 때마다 1 주변에 있는 토마토들이 익는 상황이라 day 조절을 위한 새로운 덱\n",
    "    def sol ():#bfs를 따로 만들고 while문으로 처리해도 됐을듯 내거는 약간 어거지 느낌\n",
    "        global d\n",
    "\n",
    "        while que:#bfs 부분\n",
    "            x, y, z = que.pop()\n",
    "            for i in range(6):\n",
    "                nx=x+xd[i]\n",
    "                ny=y+yd[i]\n",
    "                nz=z+zd[i]\n",
    "                if nx<0 or nx>=n or ny<0 or ny>=m or nz<0 or nz>=h:\n",
    "                    continue\n",
    "                if tmap[nz][nx][ny]==-1 or tmap[nz][nx][ny]==1 :\n",
    "                    continue\n",
    "                if tmap[nz][nx][ny]==0:\n",
    "                    tmap[nz][nx][ny]=1\n",
    "                    box.append((nx,ny,nz))\n",
    "        d+=1\n",
    "        #여기서 d+=1하고 밑에서 box 전체를 que로 이동시키는 순으로 가야 날짜가 맞음\n",
    "        for i in range(len(box)):\n",
    "            que.append(box.pop())\n",
    "        if que:\n",
    "            sol()\n",
    "        else:\n",
    "            d-=1\n",
    "    for i in range(len(start)):#처음에 문제를 제대로 이해하지 못했었는데 모든 1에서 토마토가 익기 시작\n",
    "        x,y,z=start[i]\n",
    "        que.append((x,y,z))\n",
    "\n",
    "    sol()\n",
    "\n",
    "    c=0\n",
    "    #전체적으로 한바퀴 돌리는 for문으로 바꾸면 아래문장 필요 없음. 근데 크기가 진짜 커지는거 아니면 비슷할듯\n",
    "    for k in range(h):\n",
    "        for i in range(n):#안 익은 토마토가 있나 체크\n",
    "            for j in range(m):\n",
    "                if tmap[k][i][j]==0:\n",
    "                    c+=1\n",
    "                    break\n",
    "    if c==0:\n",
    "        print(d)\n",
    "    else:\n",
    "        print(-1)\n"
   ]
  }
 ],
 "metadata": {
  "kernelspec": {
   "display_name": "Python 3 (ipykernel)",
   "language": "python",
   "name": "python3"
  },
  "language_info": {
   "codemirror_mode": {
    "name": "ipython",
    "version": 3
   },
   "file_extension": ".py",
   "mimetype": "text/x-python",
   "name": "python",
   "nbconvert_exporter": "python",
   "pygments_lexer": "ipython3",
   "version": "3.9.12"
  }
 },
 "nbformat": 4,
 "nbformat_minor": 5
}
