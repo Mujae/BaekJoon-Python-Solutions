{
 "cells": [
  {
   "cell_type": "markdown",
   "id": "5ec5d5c3-df3d-41c8-969e-da704b64e5fc",
   "metadata": {},
   "source": [
    "B2580"
   ]
  },
  {
   "cell_type": "code",
   "execution_count": null,
   "id": "22e4fcbb-37a1-47a5-887a-faf9ea21367a",
   "metadata": {},
   "outputs": [],
   "source": [
    "import sys\n",
    "\n",
    "def gogo(s1,x,y):\n",
    "    global li\n",
    "    \n",
    "    if s1==405:\n",
    "        for w in range(9):\n",
    "            for m in range(9):\n",
    "                print(li[w][m], end=\" \")\n",
    "            print()\n",
    "        exit()\n",
    "    c=0\n",
    "    for i in range(x,9):\n",
    "        for j in range(9):\n",
    "            if li[i][j]==0:\n",
    "\n",
    "                x=i\n",
    "                y=j\n",
    "                c+=1\n",
    "                break\n",
    "        if c==1:\n",
    "            break\n",
    "    li2=[1,0,0,0,0,0,0,0,0,0]\n",
    "    for k in range(9):\n",
    "        li2[li[x][k]]=1\n",
    "\n",
    "    for k in range(9):\n",
    "        li2[li[k][y]]=1\n",
    "    x1=(x//3)*3\n",
    "    y1=(y//3)*3\n",
    "    for k in range(x1,x1+3):\n",
    "        for t in range(y1,y1+3):\n",
    "            li2[li[k][t]]=1\n",
    "\n",
    "    for k in range(1,10):\n",
    "        if li2[k]==0:\n",
    "            li[x][y]=k\n",
    "            gogo(s1+k,x,y)\n",
    "            li[x][y]=0\n",
    "            \n",
    "input = sys.stdin.readline\n",
    "\n",
    "li=[]\n",
    "s=0\n",
    "for _ in range(9):\n",
    "    li.append(list(map(int, input().split())))\n",
    "    s+=sum(li[-1])\n",
    "\n",
    "gogo(s,0,0)\n"
   ]
  }
 ],
 "metadata": {
  "kernelspec": {
   "display_name": "Python 3 (ipykernel)",
   "language": "python",
   "name": "python3"
  },
  "language_info": {
   "codemirror_mode": {
    "name": "ipython",
    "version": 3
   },
   "file_extension": ".py",
   "mimetype": "text/x-python",
   "name": "python",
   "nbconvert_exporter": "python",
   "pygments_lexer": "ipython3",
   "version": "3.9.12"
  }
 },
 "nbformat": 4,
 "nbformat_minor": 5
}
