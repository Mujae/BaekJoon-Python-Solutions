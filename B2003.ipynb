{
 "cells": [
  {
   "cell_type": "markdown",
   "id": "b5855873-2304-4b98-a968-82fb09e03ade",
   "metadata": {},
   "source": [
    "B2003"
   ]
  },
  {
   "cell_type": "code",
   "execution_count": null,
   "id": "78524be8-2403-4bb9-a7b1-755c2f9caef5",
   "metadata": {},
   "outputs": [],
   "source": [
    "n, m = map(int, input().split())\n",
    "li = list(map(int, input().split()))\n",
    "\n",
    "c = 0\n",
    "s = 0\n",
    "end = 0\n",
    "\n",
    "for i in range(n):\n",
    "    while s < m and end < n:\n",
    "        s += li[end]\n",
    "        end += 1\n",
    "    if s == m:\n",
    "        c += 1\n",
    "    s -= li[i] \n",
    "print(c)"
   ]
  }
 ],
 "metadata": {
  "kernelspec": {
   "display_name": "Python 3 (ipykernel)",
   "language": "python",
   "name": "python3"
  },
  "language_info": {
   "name": ""
  }
 },
 "nbformat": 4,
 "nbformat_minor": 5
}
