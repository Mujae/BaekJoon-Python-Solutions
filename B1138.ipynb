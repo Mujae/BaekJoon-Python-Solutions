{
 "cells": [
  {
   "cell_type": "markdown",
   "id": "7fbf7e3b-67b9-43aa-b833-65589da7ab08",
   "metadata": {},
   "source": [
    "B1138"
   ]
  },
  {
   "cell_type": "code",
   "execution_count": null,
   "id": "a3deb37b-a17f-4448-9516-f173fa4a19f5",
   "metadata": {},
   "outputs": [],
   "source": [
    "import sys\n",
    "input = sys.stdin.readline\n",
    "\n",
    "n = int(input())\n",
    "li = list(map(int,input().split()))\n",
    "li2=list()\n",
    "for i in range(n):\n",
    "    li2.insert(li[n-i-1], n-i)\n",
    "print(*li2)"
   ]
  }
 ],
 "metadata": {
  "kernelspec": {
   "display_name": "Python 3 (ipykernel)",
   "language": "python",
   "name": "python3"
  },
  "language_info": {
   "codemirror_mode": {
    "name": "ipython",
    "version": 3
   },
   "file_extension": ".py",
   "mimetype": "text/x-python",
   "name": "python",
   "nbconvert_exporter": "python",
   "pygments_lexer": "ipython3",
   "version": "3.9.12"
  }
 },
 "nbformat": 4,
 "nbformat_minor": 5
}
