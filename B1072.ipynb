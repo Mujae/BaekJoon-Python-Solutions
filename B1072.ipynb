{
 "cells": [
  {
   "cell_type": "markdown",
   "id": "f4dbd783-af25-472b-952b-c709b1360eb9",
   "metadata": {},
   "source": [
    "B1072 게임  \n",
    "이분 탐색 문제인데 수학적으로 풀 수 있고 나보다 깔끔한 풀이가 있어서 살짝 뺏겨봄"
   ]
  },
  {
   "cell_type": "code",
   "execution_count": null,
   "id": "df719b14-4d71-45e2-984d-6588c8229441",
   "metadata": {},
   "outputs": [],
   "source": [
    "import math\n",
    "from decimal import Decimal\n",
    "x, y = map(int,input().split())\n",
    "z=math.floor(Decimal(str(y/x))*100)\n",
    "if z>=99:\n",
    "    print(-1)\n",
    "else:\n",
    "    print(math.ceil((x*(z+1)-100*y)/(99-z)))"
   ]
  }
 ],
 "metadata": {
  "kernelspec": {
   "display_name": "Python 3 (ipykernel)",
   "language": "python",
   "name": "python3"
  },
  "language_info": {
   "codemirror_mode": {
    "name": "ipython",
    "version": 3
   },
   "file_extension": ".py",
   "mimetype": "text/x-python",
   "name": "python",
   "nbconvert_exporter": "python",
   "pygments_lexer": "ipython3",
   "version": "3.9.12"
  }
 },
 "nbformat": 4,
 "nbformat_minor": 5
}
