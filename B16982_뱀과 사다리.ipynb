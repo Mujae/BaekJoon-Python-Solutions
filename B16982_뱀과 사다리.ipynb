{
 "cells": [
  {
   "cell_type": "markdown",
   "id": "5f88c19b-9029-4658-922b-15b7d236cf55",
   "metadata": {},
   "source": [
    "예제는 잘 되는데 9%에서 틀림  \n",
    "아마 경우의 수 몇 개 놓치는거 같은데 담에 마저 해봄"
   ]
  },
  {
   "cell_type": "code",
   "execution_count": null,
   "id": "2154c1da-4538-403b-ab9b-441174a45f94",
   "metadata": {},
   "outputs": [],
   "source": [
    "n, m = map(int, input().split())\n",
    "li=[[0]*10 for _ in range(10)]\n",
    "v=[[0]*10 for _ in range(10)]\n",
    "for i in range(n+m):\n",
    "    s1, s2 = map(int, input().split())\n",
    "    if i>m-1:\n",
    "        v[s1//10][s1%10-1]=s2\n",
    "    li[s1//10][s1%10-1] = s2\n",
    "stack=[]\n",
    "\n",
    "def go(d, c): #d는 현재 위치\n",
    "    c+=1\n",
    "    d1=d\n",
    "    for _ in range(6):\n",
    "\n",
    "        d1+=1\n",
    "        if d1==100:\n",
    "            stack.append(c)\n",
    "            return\n",
    "        else:\n",
    "            if li[d1//10][d1%10-1]==0:\n",
    "                pred=d1\n",
    "            elif li[d1//10][d1%10-1]-d1>0:\n",
    "                go(li[d1//10][d1%10-1], c)\n",
    "\n",
    "            else:\n",
    "                if v[d1//10][d1%10-1]==0:\n",
    "                    v[d1//10][d1%10-1]=1\n",
    "                    go(li[d1//10][d1%10-1],c)\n",
    "            \n",
    "    go(pred, c)\n",
    "go(1,0)\n",
    "print(min(stack))"
   ]
  }
 ],
 "metadata": {
  "kernelspec": {
   "display_name": "Python 3 (ipykernel)",
   "language": "python",
   "name": "python3"
  },
  "language_info": {
   "codemirror_mode": {
    "name": "ipython",
    "version": 3
   },
   "file_extension": ".py",
   "mimetype": "text/x-python",
   "name": "python",
   "nbconvert_exporter": "python",
   "pygments_lexer": "ipython3",
   "version": "3.9.12"
  }
 },
 "nbformat": 4,
 "nbformat_minor": 5
}
