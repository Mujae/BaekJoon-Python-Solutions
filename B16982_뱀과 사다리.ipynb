{
 "cells": [
  {
   "cell_type": "markdown",
   "id": "3082cd39-a143-4e3b-b60c-69db5b95c34d",
   "metadata": {},
   "source": [
    "B16982 뱀과 사다리  \n",
    "가로10 세로10 판에서 사다리와 뱀이 있는데 사다리는 위로 올로가는 워프고  \n",
    "뱀은 밑으로 떨어지는 워프.  \n",
    "100(종점)에 도착했을 때 가장 적게 주사위를 굴린 횟수는?"
   ]
  },
  {
   "cell_type": "markdown",
   "id": "5f88c19b-9029-4658-922b-15b7d236cf55",
   "metadata": {},
   "source": [
    "예제는 잘 되는데 9%에서 틀림  \n",
    "아마 경우의 수 몇 개 놓치는거 같은데 담에 마저 해봄"
   ]
  },
  {
   "cell_type": "code",
   "execution_count": null,
   "id": "2154c1da-4538-403b-ab9b-441174a45f94",
   "metadata": {},
   "outputs": [],
   "source": [
    "n, m = map(int, input().split())\n",
    "li=[[0]*10 for _ in range(10)]\n",
    "v=[[0]*10 for _ in range(10)]\n",
    "for i in range(n+m):\n",
    "    s1, s2 = map(int, input().split())\n",
    "    if i>m-1:\n",
    "        v[s1//10][s1%10-1]=s2\n",
    "    li[s1//10][s1%10-1] = s2\n",
    "stack=[]\n",
    "\n",
    "def go(d, c): #d는 현재 위치\n",
    "    c+=1\n",
    "    d1=d\n",
    "    for _ in range(6):\n",
    "\n",
    "        d1+=1\n",
    "        if d1==100:\n",
    "            stack.append(c)\n",
    "            return\n",
    "        else:\n",
    "            if li[d1//10][d1%10-1]==0:\n",
    "                pred=d1\n",
    "            elif li[d1//10][d1%10-1]-d1>0:\n",
    "                go(li[d1//10][d1%10-1], c)\n",
    "\n",
    "            else:\n",
    "                if v[d1//10][d1%10-1]==0:\n",
    "                    v[d1//10][d1%10-1]=1\n",
    "                    go(li[d1//10][d1%10-1],c)\n",
    "            \n",
    "    go(pred, c)\n",
    "go(1,0)\n",
    "print(min(stack))"
   ]
  },
  {
   "cell_type": "markdown",
   "id": "0d49e10e-c11f-42da-a86b-147dfbf3d7b7",
   "metadata": {},
   "source": [
    "BFS 응용해서 하고 굳이 리스트 안만들어도 됨을 깨달음.  \n",
    "visit도 그냥 101개의 배열로 해결함"
   ]
  },
  {
   "cell_type": "code",
   "execution_count": null,
   "id": "1e9d9035-e881-4214-b534-b814bac32d20",
   "metadata": {},
   "outputs": [],
   "source": [
    "from collections import deque\n",
    "import sys\n",
    "input = sys.stdin.readline\n",
    "\n",
    "n, m = map(int, input().split())\n",
    "go={}#사다리와 뱀.\n",
    "for i in range(n+m):\n",
    "    s1, s2 = map(int, input().split())\n",
    "    go[s1]=s2\n",
    "\n",
    "que=deque([(1,0)])\n",
    "v=[0]*101\n",
    "while que:\n",
    "    x, c = que.popleft()\n",
    "    if x==100:#가장 먼저 100에 도착한 경우가 주사위를 가장 적게 굴렸을 때이니 바로 break\n",
    "        print(c)\n",
    "        break\n",
    "    for i in range(1,7):\n",
    "        d = x+i\n",
    "        if d>100:#도중에 100 넘어가면 break\n",
    "            break\n",
    "        if v[d]:#이미 방문했었으면 continue\n",
    "            continue\n",
    "        if go.get(d):#사다리 값이 있다면 go\n",
    "            d=go[d]\n",
    "        #위에서 d의 값이 바뀌었으면 바뀐거고 아니면 자동으로 1만 추가되는 \n",
    "        v[d]=1\n",
    "        que.append((d,c+1))"
   ]
  }
 ],
 "metadata": {
  "kernelspec": {
   "display_name": "Python 3 (ipykernel)",
   "language": "python",
   "name": "python3"
  },
  "language_info": {
   "codemirror_mode": {
    "name": "ipython",
    "version": 3
   },
   "file_extension": ".py",
   "mimetype": "text/x-python",
   "name": "python",
   "nbconvert_exporter": "python",
   "pygments_lexer": "ipython3",
   "version": "3.9.12"
  }
 },
 "nbformat": 4,
 "nbformat_minor": 5
}
