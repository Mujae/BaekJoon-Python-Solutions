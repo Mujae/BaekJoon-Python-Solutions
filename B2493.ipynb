{
 "cells": [
  {
   "cell_type": "markdown",
   "id": "f5a87b03-9e7b-4e94-9ce8-70156313f655",
   "metadata": {},
   "source": [
    "B2493 탑  \n",
    "stack을 활용하는 문제  "
   ]
  },
  {
   "cell_type": "code",
   "execution_count": 1,
   "id": "de61b0bd-2cfc-4716-85e5-ad424ce31c90",
   "metadata": {},
   "outputs": [
    {
     "name": "stdin",
     "output_type": "stream",
     "text": [
      " 5\n",
      " 6 9 5 7 4\n"
     ]
    },
    {
     "name": "stdout",
     "output_type": "stream",
     "text": [
      "0 0 2 2 4\n"
     ]
    }
   ],
   "source": [
    "n=int(input())\n",
    "st = list(map(int, input().split()))\n",
    "stack=[] \n",
    "li=[0]*n#답 리스트\n",
    "\n",
    "for i in range(n):\n",
    "    while stack:\n",
    "        #남아있는 거랑 비교하고 뒤에 작은 것이 있으면 해당 인덱스에 현재 비교하고 있는 값의 인덱스 젖장\n",
    "        if stack[-1][1] > st[i]:\n",
    "            li[i]=stack[-1][0] + 1\n",
    "            break\n",
    "        else:#작아지면 pop\n",
    "            stack.pop()\n",
    "    stack.append([i,st[i]])#추가\n",
    "    \n",
    "print(*li)"
   ]
  }
 ],
 "metadata": {
  "kernelspec": {
   "display_name": "Python 3 (ipykernel)",
   "language": "python",
   "name": "python3"
  },
  "language_info": {
   "codemirror_mode": {
    "name": "ipython",
    "version": 3
   },
   "file_extension": ".py",
   "mimetype": "text/x-python",
   "name": "python",
   "nbconvert_exporter": "python",
   "pygments_lexer": "ipython3",
   "version": "3.9.12"
  }
 },
 "nbformat": 4,
 "nbformat_minor": 5
}
