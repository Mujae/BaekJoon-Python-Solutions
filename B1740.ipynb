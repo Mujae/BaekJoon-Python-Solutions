{
 "cells": [
  {
   "cell_type": "markdown",
   "id": "f30a4816-9f88-44a1-87d6-ca60b693a6c0",
   "metadata": {},
   "source": [
    "B1740"
   ]
  },
  {
   "cell_type": "code",
   "execution_count": null,
   "id": "46b321f9-33f4-44ec-9164-a133ca681e9c",
   "metadata": {},
   "outputs": [],
   "source": [
    "n = int(input())\n",
    "li = []\n",
    "c=0\n",
    "\n",
    "while n > 0:\n",
    "    li.append(n % 2)\n",
    "    n //= 2\n",
    "    \n",
    "for i in range(len(li)):\n",
    "    if li[i] == 1:\n",
    "        c += 3 ** i\n",
    "print(c)"
   ]
  }
 ],
 "metadata": {
  "kernelspec": {
   "display_name": "Python 3 (ipykernel)",
   "language": "python",
   "name": "python3"
  },
  "language_info": {
   "name": ""
  }
 },
 "nbformat": 4,
 "nbformat_minor": 5
}
