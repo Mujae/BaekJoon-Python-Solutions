{
 "cells": [
  {
   "cell_type": "markdown",
   "id": "a6152302-9a21-459c-89d9-7f9d63e48be3",
   "metadata": {},
   "source": [
    "B1063 킹!"
   ]
  },
  {
   "cell_type": "code",
   "execution_count": null,
   "id": "aa750daa-f5d9-4308-b4b9-10068c724bac",
   "metadata": {},
   "outputs": [],
   "source": [
    "import sys\n",
    "input = sys.stdin.readline\n",
    "x, y, n = map(str, input().rstrip().split())\n",
    "n = int(n)\n",
    "\n",
    "li1=[[0]*8 for _ in range(8)]#킹은 1 돌은 2로 할거임\n",
    "li1[abs(8-int(x[1]))][ord(x[0])-97]=1\n",
    "li2[abs(8-int(y[1]))][ord(y[0])-97]=2\n",
    "a=list(abs(8-int(x[1])), ord(x[0])-97)\n",
    "b = list(abs(8-int(y[1])), ord(y[0])-97)\n",
    "\n",
    "for i in range(n):\n",
    "    s = input().rstrip()\n",
    "    if s == 'R':\n",
    "        if a[1]+1 == 8:\n",
    "            a[1]==0\n",
    "        else:\n",
    "            a[1]+=1\n",
    "        if a==b:\n",
    "            if b[1]+1==8:\n",
    "                b[1]==0\n",
    "            else:\n",
    "                b[1]+=1\n",
    "        li1[a[0]][a[1]]=1\n",
    "        li1[b[0]][b[1]]=2\n",
    "    elif s=='L':\n",
    "        if a[1]-1 == 0:\n",
    "            a[1]==7\n",
    "        else:\n",
    "            a[1]-=1\n",
    "        if a==b:\n",
    "            if b[1]-1==0:\n",
    "                b[1]==7\n",
    "            else:\n",
    "                b[1]-=1\n",
    "        li1[a[0]][a[1]]=1\n",
    "        li1[b[0]][b[1]]=2\n",
    "    elif s=='B':\n",
    "        \n",
    "    elif s=='T':\n",
    "\n",
    "    elif s=='RT':\n",
    "\n",
    "    elif s=='LT':\n",
    "\n",
    "    elif s=='RB':\n",
    "\n",
    "    else:\n",
    "        \n",
    "    \n"
   ]
  }
 ],
 "metadata": {
  "kernelspec": {
   "display_name": "Python 3 (ipykernel)",
   "language": "python",
   "name": "python3"
  },
  "language_info": {
   "name": ""
  }
 },
 "nbformat": 4,
 "nbformat_minor": 5
}
