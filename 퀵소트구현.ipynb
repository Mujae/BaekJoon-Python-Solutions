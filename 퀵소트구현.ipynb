{
 "cells": [
  {
   "cell_type": "markdown",
   "id": "2115d7df-e674-4467-afbb-65f0c0d6fd63",
   "metadata": {},
   "source": [
    "퀵소트 구현"
   ]
  },
  {
   "cell_type": "code",
   "execution_count": null,
   "id": "19f6cb71-19c6-42ff-9868-726a4b0f64f2",
   "metadata": {},
   "outputs": [],
   "source": [
    "\n",
    "def qSort(li,l1,l2):\n",
    "    print(*li)\n",
    "    if l1>=l2:\n",
    "        return \n",
    "    t=l1 # 피봇(기준)\n",
    "    a=l1+1\n",
    "    b=l2\n",
    "    while a<=b:\n",
    "        while a<=l2 and li[a]<=li[t]:\n",
    "            a+=1\n",
    "        while b>l1 and li[b]>=li[t]:\n",
    "            b-=1\n",
    "        if a>b:# 이식 덕분에 피봇이 제 자리를 찾아감.\n",
    "            li[b], li[t] = li[t], li[b]\n",
    "        else:\n",
    "            li[b], li[a] = li[a], li[b]\n",
    "    qSort(li,l1,b-1)\n",
    "    qSort(li,b+1,l2)\n",
    "li=[3,2,5,4,7]\n",
    "l=len(li)\n",
    "qSort(li,0,l-1)\n",
    "print(*li)\n"
   ]
  }
 ],
 "metadata": {
  "kernelspec": {
   "display_name": "Python 3 (ipykernel)",
   "language": "python",
   "name": "python3"
  },
  "language_info": {
   "codemirror_mode": {
    "name": "ipython",
    "version": 3
   },
   "file_extension": ".py",
   "mimetype": "text/x-python",
   "name": "python",
   "nbconvert_exporter": "python",
   "pygments_lexer": "ipython3",
   "version": "3.9.12"
  }
 },
 "nbformat": 4,
 "nbformat_minor": 5
}
