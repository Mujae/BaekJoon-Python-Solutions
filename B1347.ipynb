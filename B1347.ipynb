{
 "cells": [
  {
   "cell_type": "markdown",
   "id": "e29bb1cd-c7fd-4bde-8013-7ceb8137b85d",
   "metadata": {},
   "source": [
    "B1347 미로 만들기"
   ]
  },
  {
   "cell_type": "code",
   "execution_count": null,
   "id": "7a4a0de0-55cd-458a-8929-4491d144669d",
   "metadata": {},
   "outputs": [],
   "source": [
    "n = int(input())\n",
    "moves = input()\n",
    "\n",
    "# 초기 위치와 방향 설정\n",
    "x, y = 0, 0\n",
    "dx, dy = 0, 1\n",
    "\n",
    "# 각 좌표를 리스트에 저장하고 마지막에 그림을 그릴 때 사용\n",
    "coords = [(0,0)]\n",
    "for move in moves:\n",
    "    if move == 'R':\n",
    "        dx, dy = dy, -dx  # 오른쪽으로 회전\n",
    "    elif move == 'L':\n",
    "        dx, dy = -dy, dx  # 왼쪽으로 회전\n",
    "    else:\n",
    "        x += dx\n",
    "        y += dy\n",
    "        coords.append((x,y))  # 현재 위치를 리스트에 추가\n",
    "\n",
    "# 좌표를 모두 저장한 후 그림을 그리기 위해 최소 x,y,최대 x,y 좌표를 찾음\n",
    "min_x, max_x = min(coord[0] for coord in coords), max(coord[0] for coord in coords)\n",
    "min_y, max_y = min(coord[1] for coord in coords), max(coord[1] for coord in coords)\n",
    "\n",
    "# 좌표를 2차원 배열로 표현하고 '.'로 초기화\n",
    "maze = [['.'] * (max_y - min_y + 1) for _ in range(max_x - min_x + 1)]\n",
    "\n",
    "# 좌표를 이용해 미로를 그림\n",
    "for coord in coords:\n",
    "    x, y = coord[0] - min_x, coord[1] - min_y\n",
    "    maze[x][y] = '#'\n",
    "\n",
    "# 미로 출력\n",
    "for row in maze:\n",
    "    print(''.join(row))\n"
   ]
  }
 ],
 "metadata": {
  "kernelspec": {
   "display_name": "Python 3 (ipykernel)",
   "language": "python",
   "name": "python3"
  },
  "language_info": {
   "name": ""
  }
 },
 "nbformat": 4,
 "nbformat_minor": 5
}
