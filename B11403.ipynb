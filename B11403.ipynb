{
 "cells": [
  {
   "cell_type": "markdown",
   "id": "e54663a0-763c-416e-8834-bf109b2acf06",
   "metadata": {},
   "source": [
    "B11403 경로 찾기"
   ]
  },
  {
   "cell_type": "code",
   "execution_count": 6,
   "id": "989cf8ea-ab19-4d62-ab06-d3b71844915b",
   "metadata": {},
   "outputs": [
    {
     "name": "stdin",
     "output_type": "stream",
     "text": [
      " 3\n",
      " 0 1 0\n",
      " 0 0 1\n",
      " 1 0 0\n"
     ]
    },
    {
     "name": "stdout",
     "output_type": "stream",
     "text": [
      "1 1 1\n",
      "1 1 1\n",
      "1 1 1\n"
     ]
    }
   ],
   "source": [
    "n =int(input())\n",
    "\n",
    "li=[]\n",
    "for i in range(n):\n",
    "    li.append(list(map(int, input().split())))\n",
    "\n",
    "#플로이드 워샬\n",
    "for i in range(n):\n",
    "    for j in range(n):\n",
    "        if li[j][i]==1:\n",
    "            for k in range(n):\n",
    "                if li[i][k]==1:\n",
    "                    li[j][k]=1\n",
    "                    \n",
    "            \n",
    "for i in range(n):\n",
    "    print(*li[i])"
   ]
  },
  {
   "cell_type": "code",
   "execution_count": null,
   "id": "8fbdd971-0f37-4d4c-b6f2-a5973a91d7d3",
   "metadata": {},
   "outputs": [],
   "source": []
  }
 ],
 "metadata": {
  "kernelspec": {
   "display_name": "Python 3 (ipykernel)",
   "language": "python",
   "name": "python3"
  },
  "language_info": {
   "codemirror_mode": {
    "name": "ipython",
    "version": 3
   },
   "file_extension": ".py",
   "mimetype": "text/x-python",
   "name": "python",
   "nbconvert_exporter": "python",
   "pygments_lexer": "ipython3",
   "version": "3.9.12"
  }
 },
 "nbformat": 4,
 "nbformat_minor": 5
}
