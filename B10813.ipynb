{
 "cells": [
  {
   "cell_type": "markdown",
   "id": "89555bc4-7fa6-465e-89da-a8044b8386ba",
   "metadata": {},
   "source": [
    "B10813"
   ]
  },
  {
   "cell_type": "code",
   "execution_count": null,
   "id": "467e041e-91ef-43b6-bbc4-946adc3c390b",
   "metadata": {},
   "outputs": [],
   "source": [
    "n, m = map(int,input().split())\n",
    "li=list(range(1,n+1))\n",
    "for i in range(m):\n",
    "    a, b= map(int, input().split())\n",
    "    s=li[a-1]\n",
    "    li[a-1]=li[b-1]\n",
    "    li[b-1]=s\n",
    "print(*li)"
   ]
  }
 ],
 "metadata": {
  "kernelspec": {
   "display_name": "Python 3 (ipykernel)",
   "language": "python",
   "name": "python3"
  },
  "language_info": {
   "name": ""
  }
 },
 "nbformat": 4,
 "nbformat_minor": 5
}
