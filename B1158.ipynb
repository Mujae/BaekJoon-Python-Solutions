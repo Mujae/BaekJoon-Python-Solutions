{
 "cells": [
  {
   "cell_type": "markdown",
   "id": "d1c59262-3166-4f0d-8237-2ad252dda1c5",
   "metadata": {},
   "source": [
    "B1158 요세푸우스스스스  \n",
    "deque에서 rotate 기능을 지원하는 것을 처음 알게 됨 양수는 시계 음수는 반시계로 회카이"
   ]
  },
  {
   "cell_type": "code",
   "execution_count": 1,
   "id": "1918e369-69b1-443a-bc33-b6c1e1523c80",
   "metadata": {},
   "outputs": [
    {
     "name": "stdin",
     "output_type": "stream",
     "text": [
      " 7 3\n"
     ]
    },
    {
     "name": "stdout",
     "output_type": "stream",
     "text": [
      "<3, 6, 2, 7, 5, 1, 4>"
     ]
    }
   ],
   "source": [
    "from collections import deque\n",
    "n,m =map(int,input().split())\n",
    "\n",
    "li=deque(i+1 for i in range(n))\n",
    "li2=[]\n",
    "m=m-1\n",
    "while li:\n",
    "    li.rotate(-m)\n",
    "    li2.append(li.popleft())\n",
    "\n",
    "print('<', end='')\n",
    "for j in range(n):\n",
    "    if j!=n-1:\n",
    "        print(li2[j], end=', ')\n",
    "    else:\n",
    "        print(li2[j], end='')\n",
    "print('>', end='')"
   ]
  }
 ],
 "metadata": {
  "kernelspec": {
   "display_name": "Python 3 (ipykernel)",
   "language": "python",
   "name": "python3"
  },
  "language_info": {
   "codemirror_mode": {
    "name": "ipython",
    "version": 3
   },
   "file_extension": ".py",
   "mimetype": "text/x-python",
   "name": "python",
   "nbconvert_exporter": "python",
   "pygments_lexer": "ipython3",
   "version": "3.9.12"
  }
 },
 "nbformat": 4,
 "nbformat_minor": 5
}
