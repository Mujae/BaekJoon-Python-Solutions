{
 "cells": [
  {
   "cell_type": "markdown",
   "id": "f3b72dd1-4274-406f-a0fe-9c864c58bc47",
   "metadata": {},
   "source": [
    "B1094 막대기"
   ]
  },
  {
   "cell_type": "code",
   "execution_count": null,
   "id": "bb14ca88-217a-43fe-b4c1-5500beb97e61",
   "metadata": {},
   "outputs": [],
   "source": [
    "n=int(input())\n",
    "i=64\n",
    "c=0\n",
    "while i>0:\n",
    "    if i<=n:\n",
    "        n-=i\n",
    "        c+=1\n",
    "    if n==0:\n",
    "        break\n",
    "    i=i//2\n",
    "print(c)"
   ]
  }
 ],
 "metadata": {
  "kernelspec": {
   "display_name": "Python 3 (ipykernel)",
   "language": "python",
   "name": "python3"
  },
  "language_info": {
   "name": ""
  }
 },
 "nbformat": 4,
 "nbformat_minor": 5
}
