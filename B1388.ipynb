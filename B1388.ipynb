{
 "cells": [
  {
   "cell_type": "markdown",
   "id": "570c0d72-a94d-40a8-92f2-4c949ce57bb9",
   "metadata": {},
   "source": [
    "B1388"
   ]
  },
  {
   "cell_type": "code",
   "execution_count": null,
   "id": "3c3ea2a0-4268-480d-a5f6-7bc518fc4d86",
   "metadata": {},
   "outputs": [],
   "source": [
    "n,m = map(int,input().split())\n",
    "li=[]\n",
    "for _ in range(n):\n",
    "    li.append(input().rstrip())\n",
    "\n",
    "v=[[0]*m for _ in range(n)]\n",
    "c=0\n",
    "for i in range(n):\n",
    "    for j in range(m):\n",
    "        if v[i][j]==1:\n",
    "            continue\n",
    "        if li[i][j]=='-':\n",
    "            k=j+1\n",
    "            while k<m:\n",
    "                if li[i][k]=='|':\n",
    "                    \n",
    "                    break\n",
    "                v[i][k]=1\n",
    "                k+=1\n",
    "        else:\n",
    "            k=i+1\n",
    "            while k<n:\n",
    "                if li[k][j]=='-':\n",
    "                    break\n",
    "                v[k][j]=1\n",
    "                k+=1\n",
    "        c+=1\n",
    "print(c)\n"
   ]
  }
 ],
 "metadata": {
  "kernelspec": {
   "display_name": "Python 3 (ipykernel)",
   "language": "python",
   "name": "python3"
  },
  "language_info": {
   "name": ""
  }
 },
 "nbformat": 4,
 "nbformat_minor": 5
}
