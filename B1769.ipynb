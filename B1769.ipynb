{
 "cells": [
  {
   "cell_type": "markdown",
   "id": "ab254d55-5b79-4d8e-881c-2cbf7a21e611",
   "metadata": {},
   "source": [
    "B1769"
   ]
  },
  {
   "cell_type": "code",
   "execution_count": null,
   "id": "1039882a-89e2-45d9-9332-dff56a568fe5",
   "metadata": {},
   "outputs": [],
   "source": [
    "n = input()\n",
    "c = 0\n",
    "while len(n) > 1:\n",
    "    c += 1\n",
    "    sum = 0\n",
    "    for i in n:\n",
    "        sum += int(i)\n",
    "    n = str(sum)\n",
    "\n",
    "print(c)\n",
    "if int(n) % 3 == 0:\n",
    "    print(\"YES\")\n",
    "else:\n",
    "    print(\"NO\")"
   ]
  }
 ],
 "metadata": {
  "kernelspec": {
   "display_name": "Python 3 (ipykernel)",
   "language": "python",
   "name": "python3"
  },
  "language_info": {
   "name": ""
  }
 },
 "nbformat": 4,
 "nbformat_minor": 5
}
