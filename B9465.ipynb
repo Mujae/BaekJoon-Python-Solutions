{
  "nbformat": 4,
  "nbformat_minor": 0,
  "metadata": {
    "colab": {
      "provenance": []
    },
    "kernelspec": {
      "name": "python3",
      "display_name": "Python 3"
    },
    "language_info": {
      "name": "python"
    }
  },
  "cells": [
    {
      "cell_type": "markdown",
      "source": [
        "잘만 되는데 뭐가 틀린지 모르겠다.. 슈벌"
      ],
      "metadata": {
        "id": "7lnG6f5tt-2B"
      }
    },
    {
      "cell_type": "code",
      "execution_count": 1,
      "metadata": {
        "colab": {
          "base_uri": "https://localhost:8080/"
        },
        "id": "UzllzqRRtxkt",
        "outputId": "31617941-8e3a-480e-b565-645855739c46"
      },
      "outputs": [
        {
          "output_type": "stream",
          "name": "stdout",
          "text": [
            "2\n",
            "5\n",
            "50 10 100 20 40\n",
            "30 50 70 10 60\n",
            "260\n",
            "7\n",
            "10 30 10 50 100 20 40\n",
            "20 40 30 50 60 20 80\n",
            "290\n"
          ]
        }
      ],
      "source": [
        "T = int(input())\n",
        "\n",
        "for _ in range(T):\n",
        "    n = int(input())\n",
        "    li=[]\n",
        "    li.append(list(map(int, input().split())))\n",
        "    li.append(list(map(int, input().split())))\n",
        "    s=0\n",
        "    arr1=[li[0][0], li[0][0]+li[1][1]]#위시작\n",
        "    arr2=[li[1][0], li[1][0]+li[0][1]]#아래시작\n",
        "    c=0#체크 0 or 1 (전 위치)\n",
        "    for i in range(2,n):\n",
        "        if i%2==0:\n",
        "            arr1.append(arr1[i-1]+li[0][i])\n",
        "            arr2.append(arr2[i-1]+li[1][i])\n",
        "        else:\n",
        "            arr1.append(arr1[i-1]+li[1][i])\n",
        "            arr2.append(arr2[i-1]+li[0][i])\n",
        "    s=arr1[1]\n",
        "    for i in range(2,n):\n",
        "        if c==0:\n",
        "            m = max(s+li[1][i],arr1[i-2]+li[0][i],arr2[i],arr1[i], s-li[c][i-1]+li[0][i])\n",
        "            if m==s+li[1][i]:\n",
        "                c=1\n",
        "            else:\n",
        "                c=0\n",
        "        else:\n",
        "            m = max(s+li[0][i], s-li[c][i-1]+li[1][i],arr2[i-2]+li[1][i],arr1[i],arr2[i])\n",
        "            if m==s+li[0][i]:\n",
        "                c=0\n",
        "            else:\n",
        "                c=1\n",
        "        s=m\n",
        "    print(s)\n"
      ]
    }
  ]
}