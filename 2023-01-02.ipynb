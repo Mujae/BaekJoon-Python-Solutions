{
 "cells": [
  {
   "cell_type": "markdown",
   "id": "7401bcfe-3c3a-4e4c-8746-fea29db4bf47",
   "metadata": {},
   "source": [
    "### 최근에 백준을 제대로 푼 적이 없어서 동프중에서도 쉬운 타일 문제를 풀어봄."
   ]
  },
  {
   "cell_type": "code",
   "execution_count": 3,
   "id": "b73d5972-1dc2-41ea-8b62-6bd56d239a71",
   "metadata": {},
   "outputs": [
    {
     "name": "stdin",
     "output_type": "stream",
     "text": [
      " 9\n"
     ]
    },
    {
     "name": "stdout",
     "output_type": "stream",
     "text": [
      "55\n"
     ]
    }
   ],
   "source": [
    "#2*n타일링\n",
    "n=int(input())\n",
    "if n<4:\n",
    "    print(n)\n",
    "else:\n",
    "    l=[0]*(n+1)\n",
    "    l[1]=1\n",
    "    l[2]=2\n",
    "    for i in range(3,n+1):\n",
    "        l[i]=l[i-1]+l[i-2]\n",
    "    print(l[-1]%10007)"
   ]
  },
  {
   "cell_type": "code",
   "execution_count": 7,
   "id": "aee7cb6f-3b63-41f7-bb44-86da26a48e5b",
   "metadata": {},
   "outputs": [
    {
     "name": "stdin",
     "output_type": "stream",
     "text": [
      " 12\n"
     ]
    },
    {
     "name": "stdout",
     "output_type": "stream",
     "text": [
      "2731\n"
     ]
    }
   ],
   "source": [
    "#2*n타일링2 2*2 타일을 쓸 수 있는 문제 -> 홀, 짝에 따라 계산값 달라짐\n",
    "n=int(input())\n",
    "l=[0]*(n+1)\n",
    "l[1]=1\n",
    "for i in range(2,n+1):\n",
    "    if i%2==0:\n",
    "        l[i]=l[i-1]*2+1\n",
    "    else:\n",
    "        l[i]=l[i-1]*2-1\n",
    "print(l[-1]%10007)"
   ]
  }
 ],
 "metadata": {
  "kernelspec": {
   "display_name": "Python 3 (ipykernel)",
   "language": "python",
   "name": "python3"
  },
  "language_info": {
   "codemirror_mode": {
    "name": "ipython",
    "version": 3
   },
   "file_extension": ".py",
   "mimetype": "text/x-python",
   "name": "python",
   "nbconvert_exporter": "python",
   "pygments_lexer": "ipython3",
   "version": "3.9.12"
  }
 },
 "nbformat": 4,
 "nbformat_minor": 5
}
