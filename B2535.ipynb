{
 "cells": [
  {
   "cell_type": "markdown",
   "id": "d8a150df-840e-4859-93b9-22ded7661c70",
   "metadata": {},
   "source": [
    "B2535"
   ]
  },
  {
   "cell_type": "code",
   "execution_count": null,
   "id": "958b95a0-045d-4266-a332-14cb9d322e10",
   "metadata": {},
   "outputs": [],
   "source": [
    "n = int(input())\n",
    "li=[]\n",
    "for i in range(n):\n",
    "    li.append(list(map(int,input().split())))\n",
    "\n",
    "li=sorted(li, key = lambda x: x[2], reverse=True)\n",
    "v=[0]*100\n",
    "\n",
    "j=0\n",
    "c=0\n",
    "\n",
    "while True:\n",
    "    if v[li[j][0]]<2:\n",
    "        v[li[j][0]]+=1\n",
    "        c+=1\n",
    "        print(li[j][0], li[j][1])\n",
    "        j+=1\n",
    "    else:\n",
    "        j+=1\n",
    "    if c==3:\n",
    "        break\n"
   ]
  }
 ],
 "metadata": {
  "kernelspec": {
   "display_name": "Python 3 (ipykernel)",
   "language": "python",
   "name": "python3"
  },
  "language_info": {
   "name": ""
  }
 },
 "nbformat": 4,
 "nbformat_minor": 5
}
