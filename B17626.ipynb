{
 "cells": [
  {
   "cell_type": "markdown",
   "id": "0b64d1f2-bcab-4c67-83ef-0079b08111f5",
   "metadata": {},
   "source": [
    "B17626"
   ]
  },
  {
   "cell_type": "code",
   "execution_count": 1,
   "id": "247586d7-8a7e-4728-abf2-ef5bfb69a814",
   "metadata": {},
   "outputs": [
    {
     "name": "stdin",
     "output_type": "stream",
     "text": [
      " 25\n"
     ]
    },
    {
     "name": "stdout",
     "output_type": "stream",
     "text": [
      "1\n"
     ]
    }
   ],
   "source": [
    "import math\n",
    "\n",
    "n=int(input())\n",
    "sqn=int(math.sqrt(n))\n",
    "li=[0]*225\n",
    "li2=[]\n",
    "for i in range(225):\n",
    "    li[i]=i*i\n",
    "i=sqn\n",
    "sq=n\n",
    "j=0\n",
    "while i>0:\n",
    "    c=0\n",
    "    while c<5:\n",
    "        if li[i]==sq:\n",
    "            c+=1\n",
    "            sq-=li[i]\n",
    "            break\n",
    "        elif li[i]<sq:\n",
    "            c+=1\n",
    "            sq-=li[i]\n",
    "        elif i==0 and c<4:\n",
    "            i+=2\n",
    "        if c==4:\n",
    "            break\n",
    "        i-=1\n",
    "    if sq!=0:\n",
    "        j+=1\n",
    "        sq=n\n",
    "        i=sqn-j\n",
    "    else:\n",
    "        li2.append(c)\n",
    "        j+=1\n",
    "        sq=n\n",
    "        i=sqn-j\n",
    "print(min(li2))"
   ]
  },
  {
   "cell_type": "code",
   "execution_count": null,
   "id": "d638759c-5349-4b35-bdc9-93072a65bc19",
   "metadata": {},
   "outputs": [],
   "source": []
  }
 ],
 "metadata": {
  "kernelspec": {
   "display_name": "Python 3 (ipykernel)",
   "language": "python",
   "name": "python3"
  },
  "language_info": {
   "codemirror_mode": {
    "name": "ipython",
    "version": 3
   },
   "file_extension": ".py",
   "mimetype": "text/x-python",
   "name": "python",
   "nbconvert_exporter": "python",
   "pygments_lexer": "ipython3",
   "version": "3.9.12"
  }
 },
 "nbformat": 4,
 "nbformat_minor": 5
}
