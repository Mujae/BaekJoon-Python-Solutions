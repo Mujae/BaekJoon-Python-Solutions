{
 "cells": [
  {
   "cell_type": "markdown",
   "id": "49b690e5-9f7b-455a-a47e-cc0a7cf65c42",
   "metadata": {},
   "source": [
    "B1302"
   ]
  },
  {
   "cell_type": "code",
   "execution_count": null,
   "id": "6ba46b88-fe44-44ce-a345-1b495451c6e0",
   "metadata": {},
   "outputs": [],
   "source": [
    "d = dict()\n",
    "\n",
    "for _ in range(int(input())):\n",
    "    a = input()\n",
    "    if a not in d:\n",
    "        d[a] = 1\n",
    "    elif a in d:\n",
    "        d[a] += 1\n",
    "\n",
    "\n",
    "li = []\n",
    "\n",
    "for i,j in d.items():\n",
    "    li.append([i,j])\n",
    "\n",
    "li.sort()\n",
    "\n",
    "li.sort(key = lambda x : x[1], reverse=True)\n",
    "\n",
    "print(li[0][0])\n"
   ]
  }
 ],
 "metadata": {
  "kernelspec": {
   "display_name": "Python 3 (ipykernel)",
   "language": "python",
   "name": "python3"
  },
  "language_info": {
   "name": ""
  }
 },
 "nbformat": 4,
 "nbformat_minor": 5
}
