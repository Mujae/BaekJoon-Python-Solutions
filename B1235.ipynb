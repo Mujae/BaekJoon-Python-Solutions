{
 "cells": [
  {
   "cell_type": "markdown",
   "id": "adfb7d22-7d73-4198-b86c-0ece6e99eb88",
   "metadata": {},
   "source": [
    "B1235 학생번호"
   ]
  },
  {
   "cell_type": "markdown",
   "id": "623e3ce9-048f-43f0-8b76-ea5d4ec12db7",
   "metadata": {},
   "source": [
    "문제에 오류가 있어 정답률이 떨어짐..  \n",
    "분명 세자리 이상으로 만들라 해서 처음 범위설정할 때 세자리부터 시작하게 했는데 계속 틀림  \n",
    "그러다 혹시 몰라서 한자리로도 구분할 수 있게 바꾸니 됨  \n",
    "잘못 만든 문제"
   ]
  },
  {
   "cell_type": "code",
   "execution_count": null,
   "id": "1ed468f8-ed7d-42e2-8ada-4c562519cec8",
   "metadata": {},
   "outputs": [],
   "source": [
    "import sys\n",
    "input = sys.stdin.readline\n",
    "\n",
    "n = int(input())\n",
    "li=[]\n",
    "\n",
    "for i in range(n):\n",
    "    s=input().rstrip()\n",
    "    li.append(s)\n",
    "for i in range(1,101):\n",
    "    a = set()\n",
    "    for j in range(n):\n",
    "        a.add(li[j][-i:])\n",
    "\n",
    "    if len(a)==n:\n",
    "        print(i)\n",
    "        break\n",
    "    \n"
   ]
  }
 ],
 "metadata": {
  "kernelspec": {
   "display_name": "Python 3 (ipykernel)",
   "language": "python",
   "name": "python3"
  },
  "language_info": {
   "codemirror_mode": {
    "name": "ipython",
    "version": 3
   },
   "file_extension": ".py",
   "mimetype": "text/x-python",
   "name": "python",
   "nbconvert_exporter": "python",
   "pygments_lexer": "ipython3",
   "version": "3.9.12"
  }
 },
 "nbformat": 4,
 "nbformat_minor": 5
}
