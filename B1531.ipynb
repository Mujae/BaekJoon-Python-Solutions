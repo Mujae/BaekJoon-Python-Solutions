{
 "cells": [
  {
   "cell_type": "markdown",
   "id": "a87d88ef-67cc-4501-9179-a607f3b0c0e5",
   "metadata": {},
   "source": [
    "B1531"
   ]
  },
  {
   "cell_type": "code",
   "execution_count": null,
   "id": "35e1c559-2015-4fe0-b12d-223d1b9eed9d",
   "metadata": {},
   "outputs": [],
   "source": [
    "N,M = map(int, input().split())\n",
    "li=[[0]*100 for _ in range(100)]\n",
    "c=0\n",
    "for i in range(N):\n",
    "    x1, y1, x2, y2 = map(int, input().split())\n",
    "    for j in range(x1-1, x2):\n",
    "        for k in range(y1-1, y2):\n",
    "            li[j][k]+=1\n",
    "for i in range(100):\n",
    "    for j in range(100):\n",
    "        if li[i][j]>M:\n",
    "            c+=1\n",
    "print(c)"
   ]
  }
 ],
 "metadata": {
  "kernelspec": {
   "display_name": "Python 3 (ipykernel)",
   "language": "python",
   "name": "python3"
  },
  "language_info": {
   "codemirror_mode": {
    "name": "ipython",
    "version": 3
   },
   "file_extension": ".py",
   "mimetype": "text/x-python",
   "name": "python",
   "nbconvert_exporter": "python",
   "pygments_lexer": "ipython3",
   "version": "3.9.12"
  }
 },
 "nbformat": 4,
 "nbformat_minor": 5
}
