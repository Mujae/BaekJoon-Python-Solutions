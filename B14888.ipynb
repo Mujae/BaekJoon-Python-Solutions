{
 "cells": [
  {
   "cell_type": "markdown",
   "id": "0928f25b-e6d8-4d2a-b165-c0ace0300948",
   "metadata": {},
   "source": [
    "B14888"
   ]
  },
  {
   "cell_type": "code",
   "execution_count": null,
   "id": "b9d91f74-51cf-46b9-8099-91e656300872",
   "metadata": {},
   "outputs": [],
   "source": [
    "n=int(input())\n",
    "li=list(input().rstrip().split())\n",
    "li2=list(map(int,input().split()))\n",
    "li3=[]#스택 저장공간\n",
    "li4=[]#값 저장\n",
    "def dfs():\n",
    "    if len(li3)==n-1:\n",
    "        s=eval(li[0]+li3[0]+li[1])\n",
    "\n",
    "        for i in range(1,n-1):\n",
    "            s=eval(str(s)+li3[i]+li[i+1])\n",
    "        li4.append(s)\n",
    "    for i in range(4):\n",
    "        if li2[i]>0:\n",
    "            li2[i]-=1\n",
    "            if i==0:    \n",
    "                li3.append('+')\n",
    "            elif i==1:\n",
    "                li3.append('-')\n",
    "            elif i==2:\n",
    "                li3.append('*')\n",
    "            else:\n",
    "                li3.append('//')\n",
    "            dfs()\n",
    "            li3.pop()\n",
    "            li2[i]+=1\n",
    "dfs()\n",
    "print(max(li4))\n",
    "print(min(li4))\n",
    "        \n"
   ]
  },
  {
   "cell_type": "markdown",
   "id": "40b3daea-365f-4e96-8f6f-6b3a5e41e30c",
   "metadata": {},
   "source": [
    "오늘은 풀었으"
   ]
  },
  {
   "cell_type": "code",
   "execution_count": null,
   "id": "4568110a-36fa-4eba-bcf0-79ddfc49f93a",
   "metadata": {},
   "outputs": [],
   "source": [
    "n=int(input())\n",
    "li=list(input().rstrip().split())\n",
    "li2=list(map(int,input().split()))\n",
    "li3=[]#스택 저장공간\n",
    "li4=[]\n",
    "def dfs():\n",
    "    global max_v\n",
    "    global min_v\n",
    "    if len(li3)==n-1:\n",
    "        s=eval(li[0]+li3[0]+li[1])\n",
    "\n",
    "        for i in range(1,n-1):\n",
    "            if li3[i]=='//':\n",
    "                if s<0:\n",
    "                    s=-(-s//int(li[i+1]))#문제 제대로 안 읽어서 이부분에서 계속 틀림\n",
    "                else:\n",
    "                    s=eval(str(s)+li3[i]+li[i+1])\n",
    "            else:\n",
    "                s=eval(str(s)+li3[i]+li[i+1])\n",
    "        li4.append(s)\n",
    "        return\n",
    "    for i in range(4):\n",
    "        if li2[i]>0:\n",
    "            li2[i]-=1\n",
    "            if i==0:    \n",
    "                li3.append('+')\n",
    "            elif i==1:\n",
    "                li3.append('-')\n",
    "            elif i==2:\n",
    "                li3.append('*')\n",
    "            else:\n",
    "                li3.append('//')\n",
    "            dfs()\n",
    "            li3.pop()\n",
    "            li2[i]+=1\n",
    "dfs()\n",
    "print(max(li4))\n",
    "print(min(li4))\n"
   ]
  },
  {
   "cell_type": "markdown",
   "id": "fd4a9006-911d-4a54-b0b3-dc0e097ce438",
   "metadata": {},
   "source": [
    "불필요한 함수 빼면 시간단축 가능"
   ]
  }
 ],
 "metadata": {
  "kernelspec": {
   "display_name": "Python 3 (ipykernel)",
   "language": "python",
   "name": "python3"
  },
  "language_info": {
   "codemirror_mode": {
    "name": "ipython",
    "version": 3
   },
   "file_extension": ".py",
   "mimetype": "text/x-python",
   "name": "python",
   "nbconvert_exporter": "python",
   "pygments_lexer": "ipython3",
   "version": "3.9.12"
  }
 },
 "nbformat": 4,
 "nbformat_minor": 5
}
