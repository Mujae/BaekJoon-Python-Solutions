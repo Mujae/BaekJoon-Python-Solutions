{
 "cells": [
  {
   "cell_type": "markdown",
   "id": "0928f25b-e6d8-4d2a-b165-c0ace0300948",
   "metadata": {},
   "source": [
    "B14888"
   ]
  },
  {
   "cell_type": "code",
   "execution_count": null,
   "id": "b9d91f74-51cf-46b9-8099-91e656300872",
   "metadata": {},
   "outputs": [],
   "source": [
    "n=int(input())\n",
    "li=list(input().rstrip().split())\n",
    "li2=list(map(int,input().split()))\n",
    "li3=[]#스택 저장공간\n",
    "li4=[]#값 저장\n",
    "def dfs():\n",
    "    if len(li3)==n-1:\n",
    "        s=eval(li[0]+li3[0]+li[1])\n",
    "\n",
    "        for i in range(1,n-1):\n",
    "            s=eval(str(s)+li3[i]+li[i+1])\n",
    "        li4.append(s)\n",
    "    for i in range(4):\n",
    "        if li2[i]>0:\n",
    "            li2[i]-=1\n",
    "            if i==0:    \n",
    "                li3.append('+')\n",
    "            elif i==1:\n",
    "                li3.append('-')\n",
    "            elif i==2:\n",
    "                li3.append('*')\n",
    "            else:\n",
    "                li3.append('//')\n",
    "            dfs()\n",
    "            li3.pop()\n",
    "            li2[i]+=1\n",
    "dfs()\n",
    "print(max(li4))\n",
    "print(min(li4))\n",
    "        \n"
   ]
  }
 ],
 "metadata": {
  "kernelspec": {
   "display_name": "Python 3 (ipykernel)",
   "language": "python",
   "name": "python3"
  },
  "language_info": {
   "name": ""
  }
 },
 "nbformat": 4,
 "nbformat_minor": 5
}
