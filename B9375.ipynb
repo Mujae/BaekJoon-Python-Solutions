{
 "cells": [
  {
   "cell_type": "markdown",
   "id": "aba9231b-5f66-4c3b-999c-afe8a7e06beb",
   "metadata": {},
   "source": [
    "B9375"
   ]
  },
  {
   "cell_type": "code",
   "execution_count": null,
   "id": "96a2673b-ce64-4735-a0b6-94f84184a78d",
   "metadata": {},
   "outputs": [
    {
     "name": "stdin",
     "output_type": "stream",
     "text": [
      " 2\n",
      " 3\n",
      " hat headgear\n",
      " sunglasses eyewear\n",
      " turban headgear\n"
     ]
    },
    {
     "name": "stdout",
     "output_type": "stream",
     "text": [
      "5\n"
     ]
    }
   ],
   "source": [
    "k = int(input())\n",
    "# 두\n",
    "for _ in range(k):\n",
    "    n=int(input())\n",
    "    li={}\n",
    "    c=1\n",
    "    for i in range(n):\n",
    "        s1, s2=input().rstrip().split()\n",
    "        li2=list(li.keys())\n",
    "        if s2 not in li2 or not li[s2] :#없으면 1 있으면 1씩 추가\n",
    "            li[s2]=1\n",
    "        else:\n",
    "            li[s2]+=1\n",
    "    r = list(li.values())#여기부터 각 값들 받아서 곱해줌\n",
    "    for i in r:\n",
    "        c*=i+1\n",
    "    print(c-1)# 맨몸 컷\n",
    "    "
   ]
  },
  {
   "cell_type": "code",
   "execution_count": null,
   "id": "9e9921f0-ba02-4565-885b-db02286e5929",
   "metadata": {},
   "outputs": [],
   "source": []
  }
 ],
 "metadata": {
  "kernelspec": {
   "display_name": "Python 3 (ipykernel)",
   "language": "python",
   "name": "python3"
  },
  "language_info": {
   "codemirror_mode": {
    "name": "ipython",
    "version": 3
   },
   "file_extension": ".py",
   "mimetype": "text/x-python",
   "name": "python",
   "nbconvert_exporter": "python",
   "pygments_lexer": "ipython3",
   "version": "3.9.12"
  }
 },
 "nbformat": 4,
 "nbformat_minor": 5
}
