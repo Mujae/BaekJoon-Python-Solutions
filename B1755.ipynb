{
 "cells": [
  {
   "cell_type": "markdown",
   "id": "fb328d9e-1ad5-481a-b521-328c02d9ecb9",
   "metadata": {},
   "source": [
    "B1755  \n",
    "풀고나서 인터넷 검색해봤는데 다른 사람들도 비슷한 방식으로 풀었길래 기분 좋아짐ㅋㅋ"
   ]
  },
  {
   "cell_type": "code",
   "execution_count": null,
   "id": "0b4d3d1c-3489-43b0-9cd8-5c386ca779f4",
   "metadata": {},
   "outputs": [],
   "source": [
    "n, m = map(int,input().split())\n",
    "\n",
    "li=[]\n",
    "ali=[\"zero\", \"one\", \"two\", \"three\", \"four\", \"five\", \"six\", \"seven\", \"eight\", \"nine\"]\n",
    "for i in range(n,m+1):\n",
    "    s=\"\"\n",
    "    o=str(i)\n",
    "    for j in range(len(o)):\n",
    "        s+=ali[int(o[j])]\n",
    "    li.append((i,s))\n",
    "li = sorted(li, key=lambda i: i[1])#key에 lambda 넣고 변수 설정하고 그 변수 중에 뭐 쓸지 골라주기\n",
    "\n",
    "for i in range(len(li)):\n",
    "    print(li[i][0], end= \" \")\n",
    "    if i%10==9:\n",
    "        print()"
   ]
  }
 ],
 "metadata": {
  "kernelspec": {
   "display_name": "Python 3 (ipykernel)",
   "language": "python",
   "name": "python3"
  },
  "language_info": {
   "codemirror_mode": {
    "name": "ipython",
    "version": 3
   },
   "file_extension": ".py",
   "mimetype": "text/x-python",
   "name": "python",
   "nbconvert_exporter": "python",
   "pygments_lexer": "ipython3",
   "version": "3.9.12"
  }
 },
 "nbformat": 4,
 "nbformat_minor": 5
}
