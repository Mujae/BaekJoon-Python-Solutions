{
 "cells": [
  {
   "cell_type": "markdown",
   "id": "7dd3c03d-ea5c-4a68-a1c0-2061d9eeab1a",
   "metadata": {},
   "source": [
    "B2161"
   ]
  },
  {
   "cell_type": "code",
   "execution_count": null,
   "id": "bb9ffb9f-eb26-4c44-9f10-16c9b3335d07",
   "metadata": {},
   "outputs": [],
   "source": [
    "from collections import deque\n",
    "n = int(input())\n",
    "\n",
    "li=deque(range(1,n+1))\n",
    "li2=[]\n",
    "#마지막에 없을 때 탈출\n",
    "while li:\n",
    "    li2.append(li.popleft())\n",
    "    if li:\n",
    "        li.append(li.popleft())\n",
    "print(*li2)\n",
    "        \n"
   ]
  }
 ],
 "metadata": {
  "kernelspec": {
   "display_name": "Python 3 (ipykernel)",
   "language": "python",
   "name": "python3"
  },
  "language_info": {
   "name": ""
  }
 },
 "nbformat": 4,
 "nbformat_minor": 5
}
