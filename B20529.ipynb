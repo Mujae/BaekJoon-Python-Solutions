{
 "cells": [
  {
   "cell_type": "markdown",
   "id": "467b95e8-008f-4beb-a367-6e4f9c68a397",
   "metadata": {},
   "source": [
    "B20529  \n",
    "부르트포스 문제"
   ]
  },
  {
   "cell_type": "code",
   "execution_count": null,
   "id": "a8dab1ba-7727-44ad-b1e9-a7457af0351e",
   "metadata": {},
   "outputs": [],
   "source": [
    "#브루트포스 알고리즘 3중 for문 시간초과 -> 숫자 부여 후 비교로 변경, 거리 비교 부분에서 시간복잡도 줄이기 가능 \n",
    "import sys\n",
    "from itertools import permutations\n",
    "\n",
    "input = sys.stdin.readline\n",
    "T = int(input())\n",
    "\n",
    "for _ in range(T):\n",
    "    n = int(input())\n",
    "    li= list(input().rstrip().split())\n",
    "    li2=[]\n",
    "    for i in range(len(li)):\n",
    "        s=[]\n",
    "        if li[i][0]=='E':\n",
    "            s.append(0)\n",
    "        else:\n",
    "            s.append(1)\n",
    "        if li[i][1]=='S':\n",
    "            s.append(0)\n",
    "        else:\n",
    "            s.append(1)\n",
    "        if li[i][2]=='T':\n",
    "            s.append(0)\n",
    "        else:\n",
    "            s.append(1)\n",
    "        if li[i][3]=='J':\n",
    "            s.append(0)\n",
    "        else:\n",
    "            s.append(1)\n",
    "        li2.append(s)\n",
    "    li3=[]\n",
    "    for i in permutations(li2,3):\n",
    "        a=0\n",
    "        for j in range(4):\n",
    "            a+=abs(i[0][j]-i[1][j])\n",
    "            a+=abs(i[0][j]-i[2][j])\n",
    "            a+=abs(i[1][j]-i[2][j])\n",
    "        li3.append(a)\n",
    "        if a==0:\n",
    "            break\n",
    "        \n",
    "        \n",
    "        \n",
    "    print(min(li3))\n",
    "           \n"
   ]
  }
 ],
 "metadata": {
  "kernelspec": {
   "display_name": "Python 3 (ipykernel)",
   "language": "python",
   "name": "python3"
  },
  "language_info": {
   "codemirror_mode": {
    "name": "ipython",
    "version": 3
   },
   "file_extension": ".py",
   "mimetype": "text/x-python",
   "name": "python",
   "nbconvert_exporter": "python",
   "pygments_lexer": "ipython3",
   "version": "3.10.9"
  }
 },
 "nbformat": 4,
 "nbformat_minor": 5
}
