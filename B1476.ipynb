{
 "cells": [
  {
   "cell_type": "markdown",
   "id": "b50699e2-e0f7-46e6-94ec-1ee4b65f552a",
   "metadata": {},
   "source": [
    "B1476"
   ]
  },
  {
   "cell_type": "code",
   "execution_count": null,
   "id": "6a1d552f-e5f6-40c4-a414-4c74dfc7677f",
   "metadata": {},
   "outputs": [],
   "source": [
    "e, s, m  =map(int,input().split())\n",
    "\n",
    "c=0\n",
    "\n",
    "while True:\n",
    "    e-=1\n",
    "    s-=1\n",
    "    m-=1\n",
    "    c+=1\n",
    "    if e==0 and s==0 and m==0:\n",
    "        print(c)\n",
    "        break\n",
    "    if e==0:\n",
    "        e=15\n",
    "    if s==0:\n",
    "        s=28\n",
    "    if m==0:\n",
    "        m=19\n",
    "    \n"
   ]
  }
 ],
 "metadata": {
  "kernelspec": {
   "display_name": "Python 3 (ipykernel)",
   "language": "python",
   "name": "python3"
  },
  "language_info": {
   "name": ""
  }
 },
 "nbformat": 4,
 "nbformat_minor": 5
}
