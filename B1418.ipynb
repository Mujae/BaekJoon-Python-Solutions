{
 "cells": [
  {
   "cell_type": "markdown",
   "id": "0c902dc0-38d3-4c7b-9bf8-123a922d9575",
   "metadata": {},
   "source": [
    "B1418"
   ]
  },
  {
   "cell_type": "code",
   "execution_count": null,
   "id": "f6662a99-b474-44d8-ad46-3d3f76ea3d68",
   "metadata": {},
   "outputs": [],
   "source": [
    "import sys\n",
    "\n",
    "input=sys.stdin.readline\n",
    "n = int(input())\n",
    "m = int(input())\n",
    "\n",
    "s = [0 for i in range(n+1)]\n",
    "for i in range(2,n+1):\n",
    "    if s[i] == 0:\n",
    "        for t in range(i,n+1,i):\n",
    "            if t%i == 0:\n",
    "                s[t] = max(s[t],i)\n",
    "ans = 0\n",
    "for i in s:\n",
    "    if i <= m:\n",
    "        ans += 1\n",
    "print(ans-1)"
   ]
  }
 ],
 "metadata": {
  "kernelspec": {
   "display_name": "Python 3 (ipykernel)",
   "language": "python",
   "name": "python3"
  },
  "language_info": {
   "name": ""
  }
 },
 "nbformat": 4,
 "nbformat_minor": 5
}
