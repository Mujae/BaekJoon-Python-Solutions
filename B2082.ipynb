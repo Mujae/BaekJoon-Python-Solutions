{
 "cells": [
  {
   "cell_type": "markdown",
   "id": "d3ab6514-7f32-4d0c-8323-d22b9eb4410d",
   "metadata": {},
   "source": [
    "B2082"
   ]
  },
  {
   "cell_type": "code",
   "execution_count": null,
   "id": "77c5e66b-cee4-4403-9a11-4df8f1912021",
   "metadata": {},
   "outputs": [],
   "source": [
    "import sys\n",
    "\n",
    "def one(a,b):\n",
    "    c=0\n",
    "    for i in range(a,5):\n",
    "        for j in range(2):\n",
    "            if li[i][j+b]=='#':\n",
    "                return 0\n",
    "    return 1\n",
    "                \n",
    "\n",
    "input = sys.stdin.readline\n",
    "li= []\n",
    "\n",
    "for _ in range(5):\n",
    "    li.append(input().rstrip())\n",
    "\n",
    "j=0\n",
    "li2=[]\n",
    "for _ in range(4):\n",
    "    if li[1][1+j]=='.' and li[2][1+j]=='.' and li[3][1+j]=='.':\n",
    "        li2.append(0)\n",
    "    elif one(0,j):\n",
    "        li2.append(1)\n",
    "    elif li[1][j]=='.' and li[1][j+1]=='.' and li[3][j+1]=='.' and li[3][j+2]=='.':\n",
    "        li2.append(2)\n",
    "    elif li[1][j]=='.' and li[1][j+1]=='.' and li[3][j]=='.' and li[3][j+1]=='.':\n",
    "        li2.append(3)\n",
    "    elif li[3][j]=='.' and li[3][j+1]=='.' and li[4][j]=='.' and li[4][j+1]=='.' and li[0][j+1]=='.' and li[1][j+1] =='.':\n",
    "        li2.append(4)\n",
    "    elif li[1][j+1]=='.' and li[1][j+2] == '.' and li[3][j]=='.' and li[3][j+1]=='.':\n",
    "        li2.append(5)\n",
    "    elif li[1][j+1]=='.' and li[1][j+2]=='.' and li[3][j+1] =='.':\n",
    "        li2.append(6)\n",
    "    elif one(1,j):\n",
    "        li2.append(7)\n",
    "    elif li[1][j+1]=='.' and li[3][j+1]=='.':\n",
    "        li2.append(8)\n",
    "    else:\n",
    "        li2.append(9)\n",
    "    j+=4\n",
    "print(li2[0], end='')\n",
    "print(li2[1], end=':')\n",
    "print(li2[2], end='')\n",
    "print(li2[3])"
   ]
  }
 ],
 "metadata": {
  "kernelspec": {
   "display_name": "Python 3 (ipykernel)",
   "language": "python",
   "name": "python3"
  },
  "language_info": {
   "name": ""
  }
 },
 "nbformat": 4,
 "nbformat_minor": 5
}
