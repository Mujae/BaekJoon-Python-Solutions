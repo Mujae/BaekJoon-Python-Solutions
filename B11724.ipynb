{
 "cells": [
  {
   "cell_type": "markdown",
   "id": "6991fecf-401b-48f9-b49d-b80cdf3d4f1a",
   "metadata": {},
   "source": [
    "# 공부 넘 재밌다^^  \n",
    "연결 그래프 찾는 문제로 한 개의 연결된 그래프 끝나면 다음으로 넘어가면서 카운트하는 것이 문제의 point"
   ]
  },
  {
   "cell_type": "code",
   "execution_count": 1,
   "id": "e2ee9ad6-f576-4442-a176-031d0bd7a173",
   "metadata": {},
   "outputs": [
    {
     "ename": "ValueError",
     "evalue": "not enough values to unpack (expected 2, got 0)",
     "output_type": "error",
     "traceback": [
      "\u001b[1;31m---------------------------------------------------------------------------\u001b[0m",
      "\u001b[1;31mValueError\u001b[0m                                Traceback (most recent call last)",
      "Input \u001b[1;32mIn [1]\u001b[0m, in \u001b[0;36m<cell line: 5>\u001b[1;34m()\u001b[0m\n\u001b[0;32m      2\u001b[0m \u001b[38;5;28;01mfrom\u001b[39;00m \u001b[38;5;21;01mcollections\u001b[39;00m \u001b[38;5;28;01mimport\u001b[39;00m deque\n\u001b[0;32m      3\u001b[0m \u001b[38;5;28minput\u001b[39m \u001b[38;5;241m=\u001b[39m sys\u001b[38;5;241m.\u001b[39mstdin\u001b[38;5;241m.\u001b[39mreadline\n\u001b[1;32m----> 5\u001b[0m N, M \u001b[38;5;241m=\u001b[39m \u001b[38;5;28mmap\u001b[39m(\u001b[38;5;28mint\u001b[39m, \u001b[38;5;28minput\u001b[39m()\u001b[38;5;241m.\u001b[39msplit())\n\u001b[0;32m      6\u001b[0m c\u001b[38;5;241m=\u001b[39m\u001b[38;5;241m0\u001b[39m\n\u001b[0;32m      7\u001b[0m graph\u001b[38;5;241m=\u001b[39m[[\u001b[38;5;241m0\u001b[39m]\u001b[38;5;241m*\u001b[39m(N\u001b[38;5;241m+\u001b[39m\u001b[38;5;241m1\u001b[39m) \u001b[38;5;28;01mfor\u001b[39;00m _ \u001b[38;5;129;01min\u001b[39;00m \u001b[38;5;28mrange\u001b[39m(N\u001b[38;5;241m+\u001b[39m\u001b[38;5;241m1\u001b[39m)]\n",
      "\u001b[1;31mValueError\u001b[0m: not enough values to unpack (expected 2, got 0)"
     ]
    }
   ],
   "source": [
    "import sys\n",
    "from collections import deque\n",
    "input = sys.stdin.readline\n",
    "\n",
    "N, M = map(int, input().split())\n",
    "c=0\n",
    "graph=[[0]*(N+1) for _ in range(N+1)]\n",
    "visited=[0]*(N+1)\n",
    "que=deque()\n",
    "for i in range(M):\n",
    "    a, b= map(int, input().split())\n",
    "    graph[a][b]=1\n",
    "    graph[b][a]=1\n",
    "w=1#어디를 탐험하고 있는가?\n",
    "visited[0]=1\n",
    "while w<N+1:#bfs느낌\n",
    "    c+=1\n",
    "    visited[w]=1\n",
    "    for i in range(1,N+1):\n",
    "        if graph[w][i]==1:\n",
    "            que.append(i)\n",
    "    while que:\n",
    "        v=que.popleft()\n",
    "        visited[v]=1\n",
    "        for j in range(1,N+1):\n",
    "            if graph[v][j]==1 and visited[j]==0:\n",
    "                visited[j]=1\n",
    "                que.append(j)\n",
    "    check=0\n",
    "    for i in range(1,N+1): #다음 그래프로 슈웅\n",
    "        if visited[i]==0:\n",
    "            check=1\n",
    "            w=i\n",
    "            break\n",
    "    if check==0:\n",
    "        break\n",
    "print(c)\n"
   ]
  },
  {
   "cell_type": "markdown",
   "id": "1f858c3a-beb2-4406-9cfc-dc5a0baddf13",
   "metadata": {},
   "source": [
    "호호호"
   ]
  }
 ],
 "metadata": {
  "kernelspec": {
   "display_name": "Python 3 (ipykernel)",
   "language": "python",
   "name": "python3"
  },
  "language_info": {
   "codemirror_mode": {
    "name": "ipython",
    "version": 3
   },
   "file_extension": ".py",
   "mimetype": "text/x-python",
   "name": "python",
   "nbconvert_exporter": "python",
   "pygments_lexer": "ipython3",
   "version": "3.9.12"
  }
 },
 "nbformat": 4,
 "nbformat_minor": 5
}
