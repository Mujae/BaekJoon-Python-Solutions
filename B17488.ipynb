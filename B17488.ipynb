{
 "cells": [
  {
   "cell_type": "markdown",
   "id": "23a0c09c-0e7d-4106-9f86-7d07d30d56c1",
   "metadata": {},
   "source": [
    "B17488 수강 바구니"
   ]
  },
  {
   "cell_type": "code",
   "execution_count": null,
   "id": "32f388f5-8939-472d-a5af-006e92f02db1",
   "metadata": {},
   "outputs": [],
   "source": [
    "import sys\n",
    "input = sys.stdin.readline\n",
    "N, M = map(int, input().split())\n",
    "li1=list(map(int, input().split()))#수강제한인원 list\n",
    "li2=[]\n",
    "for i in range(N):\n",
    "    s =list(map(int, input().split()))\n",
    "    for j in range(len(s)-1):\n",
    "        if li1[s[j]-1]>-1:\n",
    "            li1[s[j]-1]-=1\n",
    "    li2.append(s[:-1])\n",
    "for i in range(N):\n",
    "    for j in range(len(li2[i])):\n",
    "        if li1[li2[i][j]-1]<0:\n",
    "            li2[i][j]=-1\n",
    "li3=[]\n",
    "for i in range(N):\n",
    "    s = list(map(int,input().split()))\n",
    "    for j in range(len(s)-1):\n",
    "        if li1[s[j]-1]>-1:\n",
    "            li1[s[j]-1]-=1\n",
    "    li3.append(s[:-1])\n",
    "for i in range(N):\n",
    "    for j in range(len(li3[i])):\n",
    "        if li1[li3[i][j]-1]<0:\n",
    "            li3[i][j]=-1\n",
    "for i in range(N):\n",
    "    for j in range(len(li3[i])):\n",
    "        li2[i].append(li3[i][j])\n",
    "for i in range(N):\n",
    "    c=0\n",
    "    for j in range(len(li2[i])):\n",
    "        if li2[i][j]>-1:\n",
    "            print(li2[i][j], end=\" \")\n",
    "            c+=1\n",
    "    if c==0:\n",
    "        print(\"망했어요\")\n",
    "    else:\n",
    "        print()\n"
   ]
  },
  {
   "cell_type": "code",
   "execution_count": null,
   "id": "bcd4d2bf-ec4f-4333-ab45-c71a92c7b1b5",
   "metadata": {},
   "outputs": [],
   "source": [
    "import sys\n",
    "input = sys.stdin.readline\n",
    "N, M = map(int, input().split())\n",
    "li1=list(map(int, input().split()))#수강제한인원 list\n",
    "li2=[]#첫번째 신청인원\n",
    "for i in range(N):\n",
    "    s=list(map(int, input().split()))\n",
    "    for j in range(len(s)-1):\n",
    "        li1[s[j]-1]-=1\n",
    "    li2.append(s[:-1])\n",
    "li3=[[] for _ in range(N)]\n",
    "for i in range(N):\n",
    "    for j in range(len(li2[i])):\n",
    "        if li1[li2[i][j]-1]>-1:\n",
    "            li3[i].append(li2[i][j])\n",
    "\n",
    "li4=[]#두번째\n",
    "for i in range(N):\n",
    "    s = list(map(int, input().split()))\n",
    "    for j in range(len(s)-1):\n",
    "        li1[s[j]-1]-=1\n",
    "    li4.append(s[:-1])\n",
    "for i in range(N):\n",
    "    for j in range(len(li4[i])):\n",
    "        if li1[li4[i][j]-1]>-1:\n",
    "            li3[i].append(li4[i][j])\n",
    "for i in range(N):\n",
    "    if len(li3[i])==0:\n",
    "        print('망했어요')\n",
    "    else:\n",
    "        print(*sorted(li3[i]))\n",
    "\n"
   ]
  },
  {
   "cell_type": "markdown",
   "id": "eed17ab6-4e38-4b2e-8834-32c738062927",
   "metadata": {},
   "source": [
    "또 문제 똑바로 안읽고 마지막에 정렬 안해서 3일 동안 왜 틀렸나 고민하는 멍청이.."
   ]
  }
 ],
 "metadata": {
  "kernelspec": {
   "display_name": "Python 3 (ipykernel)",
   "language": "python",
   "name": "python3"
  },
  "language_info": {
   "codemirror_mode": {
    "name": "ipython",
    "version": 3
   },
   "file_extension": ".py",
   "mimetype": "text/x-python",
   "name": "python",
   "nbconvert_exporter": "python",
   "pygments_lexer": "ipython3",
   "version": "3.9.12"
  }
 },
 "nbformat": 4,
 "nbformat_minor": 5
}
