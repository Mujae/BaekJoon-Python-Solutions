{
 "cells": [
  {
   "cell_type": "markdown",
   "id": "23a0c09c-0e7d-4106-9f86-7d07d30d56c1",
   "metadata": {},
   "source": [
    "B17488 수강 바구니"
   ]
  },
  {
   "cell_type": "code",
   "execution_count": null,
   "id": "32f388f5-8939-472d-a5af-006e92f02db1",
   "metadata": {},
   "outputs": [],
   "source": [
    "## N, M = map(int, input().split())\n",
    "li1=map(int, input().split())#수강제한인원 list\n",
    "li2=[]\n",
    "for i in range(N):\n",
    "    s =list(map(int, input().split()))\n",
    "    for j in range(len(s)-1):\n",
    "        if li1[s[i]-1]>0:\n",
    "            li1[s[i]-1]-=1\n",
    "    li2.append(s)\n",
    "for i in range(N):\n",
    "    s = list(map(int,input().split()))\n",
    "    for j in range(len(s)-1):\n",
    "        if li1[s[i]-1]>0:\n",
    "            li1[s[i]-1]-=1\n",
    "    li2[i].append(s)\n",
    "for i in range(N):\n",
    "    c=0\n",
    "    for j in range(len(li2[i])):\n",
    "        if li1[li2[i][j]-1]>0:\n",
    "            print(li2[i][j], end=\" \")\n",
    "            c+=1\n",
    "    if c==0:\n",
    "        print(\"망했어요\")\n",
    "    else:\n",
    "        print()"
   ]
  }
 ],
 "metadata": {
  "kernelspec": {
   "display_name": "Python 3 (ipykernel)",
   "language": "python",
   "name": "python3"
  },
  "language_info": {
   "codemirror_mode": {
    "name": "ipython",
    "version": 3
   },
   "file_extension": ".py",
   "mimetype": "text/x-python",
   "name": "python",
   "nbconvert_exporter": "python",
   "pygments_lexer": "ipython3",
   "version": "3.9.12"
  }
 },
 "nbformat": 4,
 "nbformat_minor": 5
}
