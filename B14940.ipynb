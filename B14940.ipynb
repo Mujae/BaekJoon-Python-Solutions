{
 "cells": [
  {
   "cell_type": "markdown",
   "id": "66ebe5a1-b1db-45ab-b837-8192bf02e0f9",
   "metadata": {},
   "source": [
    "# B14940 최단 거리 문제  \n",
    "1, 2, 0을 주는데 1은 갈 수 있는 곳, 0은 갈 수 없는 벽, 2는 도착지?  \n",
    "도착지에서 모든 거리를 구하는 것. 다만 벽 때문에 가지 못 한 1 지역은 -1로 출력 (이걸 못 봐서 1시간 더 걸림)"
   ]
  },
  {
   "cell_type": "code",
   "execution_count": null,
   "id": "97bfff2c-b4fa-462b-8c29-19f59dad63ca",
   "metadata": {},
   "outputs": [],
   "source": [
    "import sys\n",
    "from collections import deque\n",
    "from copy import deepcopy\n",
    "\n",
    "input = sys.stdin.readline\n",
    "n, m = map(int, input().split())\n",
    "li=[]#입력 배열\n",
    "li2=li#원본 저장 배열\n",
    "que=deque() #다음방문 관리 큐\n",
    "a, b =0, 0\n",
    "v=[[0]*m for _ in range(n)]#방문 관리배열\n",
    "\n",
    "for i in range(n):\n",
    "    li.append(list(map(int, input().split())))\n",
    "    for j in range(m):\n",
    "        if li[-1][j]==2:\n",
    "            a, b= i, j\n",
    "que.append((a,b,0))\n",
    "li[a][b]=0\n",
    "c=0\n",
    "\n",
    "#bfs 부분\n",
    "while que:\n",
    "    x, y, t = que.popleft()\n",
    "    v[x][y]=1\n",
    "    if  y+1<m:\n",
    "        if li[x][y+1]==1 and v[x][y+1]==0:\n",
    "            que.append((x,y+1,t+1))\n",
    "            li[x][y+1]=t+1\n",
    "        v[x][y+1]=1\n",
    "        \n",
    "    if y>0:\n",
    "        if li[x][y-1]==1 and v[x][y-1]==0:\n",
    "            que.append((x,y-1,t+1))\n",
    "            li[x][y-1]=t+1\n",
    "        v[x][y-1]=1\n",
    "    if x+1<n:\n",
    "        if li[x+1][y]==1 and v[x+1][y]==0:\n",
    "            que.append((x+1,y,t+1))\n",
    "            li[x+1][y]=t+1\n",
    "        v[x+1][y]=1\n",
    "    if x>0:\n",
    "        if li[x-1][y]==1 and v[x-1][y]==0:\n",
    "            que.append((x-1,y,t+1))\n",
    "            li[x-1][y]=t+1\n",
    "        v[x-1][y]=1\n",
    "\n",
    "\n",
    "for i in range(n):\n",
    "    for j in range(m-1):\n",
    "        if v[i][j]==1:\n",
    "            print(li[i][j], end=\" \")\n",
    "        elif v[i][j]==0 and li2[i][j]==1: #방문 가능인데 벽 땜에 방문하지 못 했으면 -1\n",
    "            print(-1, end=\" \")\n",
    "        else:\n",
    "            print(0, end=\" \")\n",
    "    if v[i][-1]==1:\n",
    "        print(li[i][-1])\n",
    "    elif li2[i][-1]==1 and v[i][-1]==0:\n",
    "        print(-1)\n",
    "    else:\n",
    "        print(0)"
   ]
  }
 ],
 "metadata": {
  "kernelspec": {
   "display_name": "Python 3 (ipykernel)",
   "language": "python",
   "name": "python3"
  },
  "language_info": {
   "codemirror_mode": {
    "name": "ipython",
    "version": 3
   },
   "file_extension": ".py",
   "mimetype": "text/x-python",
   "name": "python",
   "nbconvert_exporter": "python",
   "pygments_lexer": "ipython3",
   "version": "3.9.12"
  }
 },
 "nbformat": 4,
 "nbformat_minor": 5
}
