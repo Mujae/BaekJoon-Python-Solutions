{
  "nbformat": 4,
  "nbformat_minor": 0,
  "metadata": {
    "colab": {
      "provenance": []
    },
    "kernelspec": {
      "name": "python3",
      "display_name": "Python 3"
    },
    "language_info": {
      "name": "python"
    }
  },
  "cells": [
    {
      "cell_type": "code",
      "execution_count": 1,
      "metadata": {
        "colab": {
          "base_uri": "https://localhost:8080/",
          "height": 242
        },
        "id": "najjAayTMxbS",
        "outputId": "829898aa-84f0-495b-fe49-5a0e69236aeb"
      },
      "outputs": [
        {
          "output_type": "error",
          "ename": "ValueError",
          "evalue": "ignored",
          "traceback": [
            "\u001b[0;31m---------------------------------------------------------------------------\u001b[0m",
            "\u001b[0;31mValueError\u001b[0m                                Traceback (most recent call last)",
            "\u001b[0;32m<ipython-input-1-59b6cdf1e598>\u001b[0m in \u001b[0;36m<module>\u001b[0;34m\u001b[0m\n\u001b[1;32m     39\u001b[0m         \u001b[0mgal\u001b[0m\u001b[0;34m(\u001b[0m\u001b[0mx\u001b[0m\u001b[0;34m+\u001b[0m\u001b[0;36m2\u001b[0m\u001b[0;34m*\u001b[0m\u001b[0ml\u001b[0m\u001b[0;34m,\u001b[0m \u001b[0my\u001b[0m\u001b[0;34m+\u001b[0m\u001b[0ml\u001b[0m\u001b[0;34m,\u001b[0m\u001b[0ml\u001b[0m\u001b[0;34m)\u001b[0m\u001b[0;34m\u001b[0m\u001b[0;34m\u001b[0m\u001b[0m\n\u001b[1;32m     40\u001b[0m         \u001b[0mgal\u001b[0m\u001b[0;34m(\u001b[0m\u001b[0mx\u001b[0m\u001b[0;34m+\u001b[0m\u001b[0;36m2\u001b[0m\u001b[0;34m*\u001b[0m\u001b[0ml\u001b[0m\u001b[0;34m,\u001b[0m \u001b[0my\u001b[0m\u001b[0;34m+\u001b[0m\u001b[0;36m2\u001b[0m\u001b[0;34m*\u001b[0m\u001b[0ml\u001b[0m\u001b[0;34m,\u001b[0m\u001b[0ml\u001b[0m\u001b[0;34m)\u001b[0m\u001b[0;34m\u001b[0m\u001b[0;34m\u001b[0m\u001b[0m\n\u001b[0;32m---> 41\u001b[0;31m \u001b[0mn\u001b[0m\u001b[0;34m=\u001b[0m \u001b[0mint\u001b[0m\u001b[0;34m(\u001b[0m\u001b[0minput\u001b[0m\u001b[0;34m(\u001b[0m\u001b[0;34m)\u001b[0m\u001b[0;34m)\u001b[0m\u001b[0;34m\u001b[0m\u001b[0;34m\u001b[0m\u001b[0m\n\u001b[0m\u001b[1;32m     42\u001b[0m \u001b[0;32mif\u001b[0m \u001b[0mn\u001b[0m\u001b[0;34m==\u001b[0m\u001b[0;36m1\u001b[0m\u001b[0;34m:\u001b[0m\u001b[0;34m\u001b[0m\u001b[0;34m\u001b[0m\u001b[0m\n\u001b[1;32m     43\u001b[0m     \u001b[0ms\u001b[0m \u001b[0;34m=\u001b[0m \u001b[0mint\u001b[0m\u001b[0;34m(\u001b[0m\u001b[0minput\u001b[0m\u001b[0;34m(\u001b[0m\u001b[0;34m)\u001b[0m\u001b[0;34m)\u001b[0m\u001b[0;34m\u001b[0m\u001b[0;34m\u001b[0m\u001b[0m\n",
            "\u001b[0;31mValueError\u001b[0m: invalid literal for int() with base 10: ''"
          ]
        }
      ],
      "source": [
        "import sys\n",
        "sys.setrecursionlimit(10**9)\n",
        "input = sys.stdin.readline\n",
        "z, o , m = 0,0,0\n",
        "li=[]\n",
        "def gal(x,y,n):\n",
        "    global z, o, m\n",
        "    l=n//3\n",
        "    if n==3:\n",
        "        zc=0#영\n",
        "        oc=0#일\n",
        "        mc=0#마이너스1\n",
        "        for i in range(x,x+n):\n",
        "            for j in range(y,y+n):\n",
        "                if li[i][j]==0:\n",
        "                    zc+=1\n",
        "                elif li[i][j]==1:\n",
        "                    oc+=1\n",
        "                else:\n",
        "                    mc+=1\n",
        "        if zc==9:\n",
        "            z+=1\n",
        "        elif oc==9:\n",
        "            o+=1\n",
        "        elif mc==9:\n",
        "            m+=1\n",
        "        else:\n",
        "            z+=zc\n",
        "            o+=oc\n",
        "            m+=mc\n",
        "    else:\n",
        "        gal(x, y,l)\n",
        "        gal(x, y+l, l)\n",
        "        gal(x, y+2*l, l)\n",
        "        gal(x+l, y, l)\n",
        "        gal(x+l, y+l, l)\n",
        "        gal(x+l, y+2*l,l)\n",
        "        gal(x+2*l, y,l)\n",
        "        gal(x+2*l, y+l,l)\n",
        "        gal(x+2*l, y+2*l,l)\n",
        "n= int(input())\n",
        "if n==1:\n",
        "    s = int(input())\n",
        "    if s==0:\n",
        "        z+=1\n",
        "    elif s==1:\n",
        "        o+=1\n",
        "    else:\n",
        "        m+=1\n",
        "    print(m)\n",
        "    print(z)\n",
        "    print(o)\n",
        "else:\n",
        "    for i in range(n):\n",
        "        li.append(list(map(int,input().split())))\n",
        "    gal(0,0,n)\n",
        "    print(m)\n",
        "    print(z)\n",
        "    print(o)\n"
      ]
    }
  ]
}