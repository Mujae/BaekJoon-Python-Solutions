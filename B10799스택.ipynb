{
 "cells": [
  {
   "cell_type": "markdown",
   "id": "8f8d4cec-0510-4955-92b9-94263e37c357",
   "metadata": {},
   "source": [
    "# 오늘은 할 일이 많기에 쉽고 재밌는 문제인 자료구조(쓰택) 문제를 풀었다.  \n",
    "B10799 쇠막대기\n"
   ]
  },
  {
   "cell_type": "code",
   "execution_count": 14,
   "id": "3c28f61a-36c1-42c1-9d14-9b367073c285",
   "metadata": {},
   "outputs": [
    {
     "name": "stdin",
     "output_type": "stream",
     "text": [
      " (((()(()()))(())()))(()())\n"
     ]
    },
    {
     "name": "stdout",
     "output_type": "stream",
     "text": [
      "24\n"
     ]
    }
   ],
   "source": [
    "a=input()\n",
    "s=list()\n",
    "l=0\n",
    "\n",
    "s.append('(')\n",
    "for i in range(1,len(a)):\n",
    "    if a[i]=='(':\n",
    "        s.append('(')\n",
    "    else:\n",
    "        if a[i-1]=='(':\n",
    "            s.pop()\n",
    "            l+=len(s)\n",
    "        else:\n",
    "            s.pop()\n",
    "            l+=1\n",
    "        \n",
    "print(l)"
   ]
  }
 ],
 "metadata": {
  "kernelspec": {
   "display_name": "Python 3 (ipykernel)",
   "language": "python",
   "name": "python3"
  },
  "language_info": {
   "codemirror_mode": {
    "name": "ipython",
    "version": 3
   },
   "file_extension": ".py",
   "mimetype": "text/x-python",
   "name": "python",
   "nbconvert_exporter": "python",
   "pygments_lexer": "ipython3",
   "version": "3.9.12"
  }
 },
 "nbformat": 4,
 "nbformat_minor": 5
}
