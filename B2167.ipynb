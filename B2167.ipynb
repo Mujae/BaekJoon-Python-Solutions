{
 "cells": [
  {
   "cell_type": "markdown",
   "id": "46eef877-760a-41ff-915b-2575224a695c",
   "metadata": {},
   "source": [
    "B2167"
   ]
  },
  {
   "cell_type": "code",
   "execution_count": null,
   "id": "ab0b8b41-4a95-4330-aba7-662ab11b7902",
   "metadata": {},
   "outputs": [],
   "source": [
    "n, m = map(int, input().split())\n",
    "\n",
    "li = []\n",
    "for i in range(n):\n",
    "    li.append(list(map(int, input().split())))\n",
    "\n",
    "k = int(input())\n",
    "li2=[]\n",
    "for i in range(k):\n",
    "    a, b, c, d=map(int,input().split())\n",
    "    s=0\n",
    "    for j in range(a-1,c):\n",
    "        for w in range(b-1,d):\n",
    "            s+=li[j][w]\n",
    "    li2.append(s)\n",
    "for i in range(k):\n",
    "    print(li2[i])\n"
   ]
  }
 ],
 "metadata": {
  "kernelspec": {
   "display_name": "Python 3 (ipykernel)",
   "language": "python",
   "name": "python3"
  },
  "language_info": {
   "name": ""
  }
 },
 "nbformat": 4,
 "nbformat_minor": 5
}
