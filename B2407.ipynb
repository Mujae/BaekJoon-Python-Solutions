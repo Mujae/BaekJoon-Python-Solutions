{
 "cells": [
  {
   "cell_type": "markdown",
   "id": "c1210ea5-2a98-4416-9f40-200f4cda72b2",
   "metadata": {},
   "source": [
    "B2407  \n",
    "조합(c)를 구하는 문제 범위가 100이라 팩토리얼로 계산. 많거나 케이스가 많은 경우 DP로 계산 후 출력"
   ]
  },
  {
   "cell_type": "code",
   "execution_count": 15,
   "id": "26c0bba7-69cd-4408-be87-7ad5e3a24b07",
   "metadata": {},
   "outputs": [
    {
     "name": "stdin",
     "output_type": "stream",
     "text": [
      " 100 6\n"
     ]
    },
    {
     "name": "stdout",
     "output_type": "stream",
     "text": [
      "1192052400\n"
     ]
    }
   ],
   "source": [
    "def f(n):\n",
    "    num = 1\n",
    "    for i in range(2,n+1):\n",
    "        num*=i\n",
    "    return num\n",
    "\n",
    "n,m = map(int, input().split())\n",
    "print(f(n) // (f(m)*f(n-m)))"
   ]
  }
 ],
 "metadata": {
  "kernelspec": {
   "display_name": "Python 3 (ipykernel)",
   "language": "python",
   "name": "python3"
  },
  "language_info": {
   "codemirror_mode": {
    "name": "ipython",
    "version": 3
   },
   "file_extension": ".py",
   "mimetype": "text/x-python",
   "name": "python",
   "nbconvert_exporter": "python",
   "pygments_lexer": "ipython3",
   "version": "3.9.12"
  }
 },
 "nbformat": 4,
 "nbformat_minor": 5
}
