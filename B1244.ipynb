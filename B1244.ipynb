{
 "cells": [
  {
   "cell_type": "markdown",
   "id": "26859dbf-525f-482e-95ea-58dbbb711b53",
   "metadata": {},
   "source": [
    "B1244 스위치 끄고 켜기"
   ]
  },
  {
   "cell_type": "code",
   "execution_count": null,
   "id": "838b110e-fbfa-4031-b0af-5ce69b01a042",
   "metadata": {},
   "outputs": [],
   "source": [
    "import sys\n",
    "input = sys.stdin.readline\n",
    "\n",
    "def w(o):\n",
    "    global n\n",
    "    if li[o-1]==1:\n",
    "        li[o-1]=0\n",
    "    else:\n",
    "        li[o-1]=1\n",
    "    j=0\n",
    "    o-=1\n",
    "    while True:\n",
    "        j+= 1\n",
    "        if o-j>-1 and o+j<n:\n",
    "            if li[o-j]==li[o+j]:\n",
    "                if li[o-j]==1:\n",
    "                    li[o-j]=0\n",
    "                    li[o+j]=0\n",
    "                else:\n",
    "                    li[o-j]=1\n",
    "                    li[o+j]=1\n",
    "            else:\n",
    "                break\n",
    "        else:\n",
    "            break\n",
    "def m(o):\n",
    "    global n\n",
    "    for i in range(n):\n",
    "        if (i+1)%(o)==0:\n",
    "            if li[i]==0:\n",
    "                li[i]=1\n",
    "            else:\n",
    "                li[i]=0\n",
    "\n",
    "n=int(input())\n",
    "li=list(map(int,input().split()))\n",
    "k=int(input())\n",
    "\n",
    "for _ in range(k):\n",
    "    se, nu = map(int,input().split())\n",
    "    if se==1:\n",
    "        m(nu)\n",
    "    else:\n",
    "        w(nu)\n",
    "\n",
    "for b in range(n):\n",
    "    print(li[b], end=\" \")\n",
    "    if (b+1)%20==0:\n",
    "        print()\n",
    "        \n",
    "        \n"
   ]
  }
 ],
 "metadata": {
  "kernelspec": {
   "display_name": "Python 3 (ipykernel)",
   "language": "python",
   "name": "python3"
  },
  "language_info": {
   "codemirror_mode": {
    "name": "ipython",
    "version": 3
   },
   "file_extension": ".py",
   "mimetype": "text/x-python",
   "name": "python",
   "nbconvert_exporter": "python",
   "pygments_lexer": "ipython3",
   "version": "3.9.12"
  }
 },
 "nbformat": 4,
 "nbformat_minor": 5
}
