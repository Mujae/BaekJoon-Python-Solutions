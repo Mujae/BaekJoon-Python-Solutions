{
 "cells": [
  {
   "cell_type": "markdown",
   "id": "e4e2278d-0168-475c-955d-704d8c8192fb",
   "metadata": {},
   "source": [
    "B1972"
   ]
  },
  {
   "cell_type": "code",
   "execution_count": null,
   "id": "055533e6-3fff-463e-964c-3c3f94070a71",
   "metadata": {},
   "outputs": [],
   "source": [
    "import sys\n",
    "input = sys.stdin.readline\n",
    "\n",
    "while True:\n",
    "    s = input().rstrip()\n",
    "    if s == \"*\":\n",
    "        break\n",
    "    \n",
    "    for i in range(1,len(s)-1):\n",
    "        check = set()\n",
    "        for j in range(len(s)-i):\n",
    "            a = s[j]+s[j+i]\n",
    "            if a in check:\n",
    "                print(s,\"is NOT surprising.\")\n",
    "                break\n",
    "            else:\n",
    "                check.add(a)\n",
    "        else:\n",
    "            continue\n",
    "        break\n",
    "    else:\n",
    "        print(s,\"is surprising.\")"
   ]
  }
 ],
 "metadata": {
  "kernelspec": {
   "display_name": "Python 3 (ipykernel)",
   "language": "python",
   "name": "python3"
  },
  "language_info": {
   "name": ""
  }
 },
 "nbformat": 4,
 "nbformat_minor": 5
}
