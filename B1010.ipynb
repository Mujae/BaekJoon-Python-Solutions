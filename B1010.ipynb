{
 "cells": [
  {
   "cell_type": "markdown",
   "id": "afce654f-1087-4141-81eb-88c1a9d9ab86",
   "metadata": {},
   "source": [
    "B1010 조합문제"
   ]
  },
  {
   "cell_type": "code",
   "execution_count": 16,
   "id": "577ae8bc-9dc6-4a7e-8411-8668f44ad176",
   "metadata": {},
   "outputs": [
    {
     "name": "stdin",
     "output_type": "stream",
     "text": [
      " 3\n",
      " 2 2\n",
      " 1 5\n",
      " 13 29\n"
     ]
    },
    {
     "name": "stdout",
     "output_type": "stream",
     "text": [
      "1\n",
      "5\n",
      "67863915\n"
     ]
    }
   ],
   "source": [
    "n=int(input())\n",
    "li=[]\n",
    "m=0\n",
    "for i in range(n):\n",
    "    li.append(list(map(int, input().split())))\n",
    "    m=max(li[-1][0], li[-1][1])\n",
    "\n",
    "arr=[[0]*(m+1) for _ in range(m+1)]\n",
    "for i in range(1, m+1):\n",
    "    for j in range(1, m+1):\n",
    "        if i==1:\n",
    "            arr[i][j]=j\n",
    "\n",
    "        elif j>i:\n",
    "            arr[i][j]=arr[i][j-1]+arr[i-1][j-1]\n",
    "            \n",
    "        elif j==i:\n",
    "            arr[i][j]=1\n",
    "for i in range(n):\n",
    "    print(arr[li[i][0]][li[i][1]])"
   ]
  }
 ],
 "metadata": {
  "kernelspec": {
   "display_name": "Python 3 (ipykernel)",
   "language": "python",
   "name": "python3"
  },
  "language_info": {
   "codemirror_mode": {
    "name": "ipython",
    "version": 3
   },
   "file_extension": ".py",
   "mimetype": "text/x-python",
   "name": "python",
   "nbconvert_exporter": "python",
   "pygments_lexer": "ipython3",
   "version": "3.9.12"
  }
 },
 "nbformat": 4,
 "nbformat_minor": 5
}
