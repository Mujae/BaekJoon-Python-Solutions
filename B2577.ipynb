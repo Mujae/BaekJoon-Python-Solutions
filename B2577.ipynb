{
 "cells": [
  {
   "cell_type": "markdown",
   "id": "16f6404c-549e-4800-9425-3d166c12c0cc",
   "metadata": {},
   "source": [
    "B2577 브론즈 문제  \n",
    "그러나 count함수를 상기할 수 있었어서 좋았음"
   ]
  },
  {
   "cell_type": "code",
   "execution_count": 1,
   "id": "4381ceb0-609b-477d-afdb-d124f42f4588",
   "metadata": {},
   "outputs": [
    {
     "name": "stdin",
     "output_type": "stream",
     "text": [
      " 150\n",
      " 266\n",
      " 427\n"
     ]
    },
    {
     "name": "stdout",
     "output_type": "stream",
     "text": [
      "3\n",
      "1\n",
      "0\n",
      "2\n",
      "0\n",
      "0\n",
      "0\n",
      "2\n",
      "0\n",
      "0\n"
     ]
    }
   ],
   "source": [
    "a = int(input())\n",
    "b = int(input())\n",
    "c = int(input())\n",
    "\n",
    "s=str(a*b*c)\n",
    "\n",
    "for i in range(10):\n",
    "    print(s.count(str(i)))"
   ]
  }
 ],
 "metadata": {
  "kernelspec": {
   "display_name": "Python 3 (ipykernel)",
   "language": "python",
   "name": "python3"
  },
  "language_info": {
   "codemirror_mode": {
    "name": "ipython",
    "version": 3
   },
   "file_extension": ".py",
   "mimetype": "text/x-python",
   "name": "python",
   "nbconvert_exporter": "python",
   "pygments_lexer": "ipython3",
   "version": "3.9.12"
  }
 },
 "nbformat": 4,
 "nbformat_minor": 5
}
