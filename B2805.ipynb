{
 "cells": [
  {
   "cell_type": "markdown",
   "id": "3e8460f9-9ff9-491a-8ae9-cf69a53cf1ce",
   "metadata": {},
   "source": [
    "# 나무 자르기 (이분탐색) 문제"
   ]
  },
  {
   "cell_type": "code",
   "execution_count": 22,
   "id": "fd361258-349e-4563-a721-af0a1382bd03",
   "metadata": {},
   "outputs": [
    {
     "name": "stdin",
     "output_type": "stream",
     "text": [
      " 4 7\n",
      " 20 15 10 17\n"
     ]
    },
    {
     "name": "stdout",
     "output_type": "stream",
     "text": [
      "15\n"
     ]
    }
   ],
   "source": [
    "N, M = map(int, input().split())\n",
    "\n",
    "t=tuple(map(int, input().split()))\n",
    "start=0#절단기 높이 시작\n",
    "end=max(t)#절단기 높이(제일 큰 수)\n",
    "\n",
    "#start를 출력하기 위해 start+1이 end보다 커지면 멈추는 것으로 설정 아래 조건을 바꾸거나 mid or end를 출력하고 싶으면이 조건도 변경 가능\n",
    "while start+1<end:\n",
    "    mid=(start+end)//2\n",
    "    check=0\n",
    "    for i in t:\n",
    "        if i>mid:#절단하고 남는 것이 있으면 합에 추가\n",
    "            check+=i-mid\n",
    "    if check>=M:#합이 원하는 것보다 크거나 같으면 start를 mid 만큼 올림\n",
    "        start=mid\n",
    "    else:#end도 낮춰야 시간을 효율적으로 씀\n",
    "        end=mid\n",
    "print(start)"
   ]
  }
 ],
 "metadata": {
  "kernelspec": {
   "display_name": "Python 3 (ipykernel)",
   "language": "python",
   "name": "python3"
  },
  "language_info": {
   "codemirror_mode": {
    "name": "ipython",
    "version": 3
   },
   "file_extension": ".py",
   "mimetype": "text/x-python",
   "name": "python",
   "nbconvert_exporter": "python",
   "pygments_lexer": "ipython3",
   "version": "3.9.12"
  }
 },
 "nbformat": 4,
 "nbformat_minor": 5
}
