{
 "cells": [
  {
   "cell_type": "markdown",
   "id": "9f1ef2d3-53f8-4bb8-90ee-e75407253cbe",
   "metadata": {},
   "source": [
    "B14500 테트로미노  \n",
    "브루트포스문제"
   ]
  },
  {
   "cell_type": "code",
   "execution_count": null,
   "id": "6b1ddbaa-239c-4e43-99ab-7a994f3ea854",
   "metadata": {},
   "outputs": [],
   "source": [
    "import sys\n",
    "input = sys.stdin.readline\n",
    "\n",
    "n, m = map(int, input().split())\n",
    "li=[]\n",
    "\n",
    "for _ in range(n):\n",
    "    li.append(list(map(int,input().split())))\n",
    "s=0\n",
    "for i in range(n):\n",
    "    for j in range(m):\n",
    "        #4개짜리 짝대기\n",
    "        if j+3<m: \n",
    "            s=max(sum(li[i][j:j+4]),s)\n",
    "        if i+3<n:\n",
    "            s=max(li[i][j]+li[i+1][j]+li[i+2][j]+li[i+3][j],s)\n",
    "        #정사각형\n",
    "        if j+1<m and i+1<n:\n",
    "            s=max(s,li[i][j]+li[i+1][j]+li[i][j+1]+li[i+1][j+1])\n",
    "        #ㄹ, ㄴ, ㅗ모양\n",
    "        if i+2<n:\n",
    "            a=li[i][j]+li[i+1][j]+li[i+2][j]\n",
    "            if j>0:\n",
    "                s=max(a+li[i+1][j-1],s,a+li[i][j-1], a+li[i+2][j-1], a-li[i+2][j]+li[i+1][j-1]+li[i+2][j-1],a+li[i+2][j-1])\n",
    "            if j+1<m:\n",
    "                s=max(a+li[i+1][j+1],s,a+li[i][j+1], a+li[i+2][j+1],a-li[i+2][j]+li[i+1][j+1]+li[i+2][j+1],a+li[i+2][j+1])\n",
    "        if j+2<m:\n",
    "            b=sum(li[i][j:j+3])\n",
    "            if i>0:\n",
    "                s=max(s, li[i][j]+li[i][j+1]+li[i-1][j+1]+li[i-1][j+2],b+li[i-1][j+1],b+li[i-1][j],b+li[i-1][j+2])\n",
    "            if i+1<n:\n",
    "                s=max(s, li[i][j]+li[i][j+1]+li[i+1][j+1]+li[i+1][j+2],b+li[i+1][j+1],b+li[i+1][j],b+li[i+1][j+2])\n",
    "    \n",
    "print(s)\n",
    "                \n",
    "    \n"
   ]
  }
 ],
 "metadata": {
  "kernelspec": {
   "display_name": "Python 3 (ipykernel)",
   "language": "python",
   "name": "python3"
  },
  "language_info": {
   "codemirror_mode": {
    "name": "ipython",
    "version": 3
   },
   "file_extension": ".py",
   "mimetype": "text/x-python",
   "name": "python",
   "nbconvert_exporter": "python",
   "pygments_lexer": "ipython3",
   "version": "3.9.12"
  }
 },
 "nbformat": 4,
 "nbformat_minor": 5
}
