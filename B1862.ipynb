{
 "cells": [
  {
   "cell_type": "markdown",
   "id": "c6ab7268-b6fb-4a72-b148-2178036f7224",
   "metadata": {},
   "source": [
    "B1862"
   ]
  },
  {
   "cell_type": "code",
   "execution_count": null,
   "id": "b7814dc9-016c-46ff-87bd-65e225936601",
   "metadata": {},
   "outputs": [],
   "source": [
    "n= int(input())\n",
    "\n",
    "s=str(n)\n",
    "\n",
    "l=len(s)\n",
    "c=0\n",
    "for i in range(l):\n",
    "    w=int(s[i])\n",
    "    if w>4:\n",
    "        c+=(w-1)*(9**(l-i-1))\n",
    "    else:\n",
    "        c+=w*(9**(l-i-1))\n",
    "\n",
    "print(c)\n"
   ]
  }
 ],
 "metadata": {
  "kernelspec": {
   "display_name": "Python 3 (ipykernel)",
   "language": "python",
   "name": "python3"
  },
  "language_info": {
   "name": ""
  }
 },
 "nbformat": 4,
 "nbformat_minor": 5
}
