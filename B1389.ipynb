{
 "cells": [
  {
   "cell_type": "markdown",
   "id": "1d4ec3a2-31d0-4a10-8aa2-8fa6c9c58948",
   "metadata": {},
   "source": [
    "B1389 케빈 머시기  \n",
    "원래 플로이드 워샬 말고 BFS로 하려다가 좀 걸릴 것 같아서  \n",
    "알고리즘 교과서 보고 플로이드워샬 따라함"
   ]
  },
  {
   "cell_type": "code",
   "execution_count": 4,
   "id": "3d2a100f-7424-48d5-9ced-07b00597247a",
   "metadata": {},
   "outputs": [
    {
     "name": "stdin",
     "output_type": "stream",
     "text": [
      " 5 5\n",
      " 1 3\n",
      " 1 4\n",
      " 4 5\n",
      " 4 3\n",
      " 3 2\n"
     ]
    },
    {
     "name": "stdout",
     "output_type": "stream",
     "text": [
      "3\n"
     ]
    }
   ],
   "source": [
    "n, m = map(int, input().split())\n",
    "\n",
    "li=[[101]*(n+1) for _ in range(n+1)]#n의 최대값이 100이라 101로\n",
    "for i in range(m):\n",
    "    x, y = map(int, input().split())\n",
    "    li[x][y]=1\n",
    "    li[y][x]=1\n",
    "\n",
    "#플로이드 워샬\n",
    "for i in range(1,n+1):\n",
    "    li[i][i]=0\n",
    "    for j in range(1,n+1):\n",
    "        for k in range(1, n+1):\n",
    "            li[j][k] = min(li[j][k], li[j][i] + li[i][k])\n",
    "\n",
    "m=101#n의 최대값이 100이라 101로\n",
    "t=0\n",
    "for i in range(1,n+1):\n",
    "    su = sum(li[i][1:])\n",
    "    if m>su:\n",
    "        m=su\n",
    "        t=i\n",
    "print(t)"
   ]
  }
 ],
 "metadata": {
  "kernelspec": {
   "display_name": "Python 3 (ipykernel)",
   "language": "python",
   "name": "python3"
  },
  "language_info": {
   "codemirror_mode": {
    "name": "ipython",
    "version": 3
   },
   "file_extension": ".py",
   "mimetype": "text/x-python",
   "name": "python",
   "nbconvert_exporter": "python",
   "pygments_lexer": "ipython3",
   "version": "3.9.12"
  }
 },
 "nbformat": 4,
 "nbformat_minor": 5
}
