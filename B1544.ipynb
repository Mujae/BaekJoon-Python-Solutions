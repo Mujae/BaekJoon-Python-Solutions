{
 "cells": [
  {
   "cell_type": "markdown",
   "id": "08c2ee6b-d8ac-4d05-abda-8ffa99b31478",
   "metadata": {},
   "source": [
    "B1544"
   ]
  },
  {
   "cell_type": "code",
   "execution_count": null,
   "id": "8098aa95-6743-43ea-9b5a-27dba11501ec",
   "metadata": {},
   "outputs": [],
   "source": [
    "n = int(input())\n",
    "li=[]\n",
    "\n",
    "\n",
    "for _ in range(n):\n",
    "    li.append(input().rstrip())\n",
    "g=0\n",
    "#우선 길이가 같으면 검사를 해\n",
    "for i in range(n):\n",
    "    s=li[i]\n",
    "    for j in range(n):\n",
    "        if i!=j and len(s)==len(li[j]):\n",
    "            for k in range(len(li[j])):\n",
    "                if s[0]==li[j][k]:\n",
    "                    w=k\n",
    "                    c=0\n",
    "                    l=len(s)\n",
    "                    u=0\n",
    "                    while u<l:\n",
    "                        if w<l:\n",
    "\n",
    "                            if s[u]==li[j][w]:\n",
    "                                c+=1\n",
    "                                w+=1\n",
    "                                u+=1\n",
    "                            else:\n",
    "                                break\n",
    "                        else:\n",
    "                            w=0\n",
    "                            if s[u]==li[j][w]:\n",
    "                                c+=1\n",
    "                                w+=1\n",
    "                                u+=1\n",
    "                            else:\n",
    "                                break\n",
    "                        if c==l:\n",
    "                            li[j]=li[i]\n",
    "print(len(set(li)))\n"
   ]
  }
 ],
 "metadata": {
  "kernelspec": {
   "display_name": "Python 3 (ipykernel)",
   "language": "python",
   "name": "python3"
  },
  "language_info": {
   "name": ""
  }
 },
 "nbformat": 4,
 "nbformat_minor": 5
}
