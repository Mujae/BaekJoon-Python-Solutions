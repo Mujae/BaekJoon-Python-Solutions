{
 "cells": [
  {
   "cell_type": "markdown",
   "id": "93eeb13f-e6b4-4092-90c6-f2b91fe26dae",
   "metadata": {},
   "source": [
    "## 오늘은 토마토가 먹고싶어서 B7576 토마토(그래프) 문제를 풀었다."
   ]
  },
  {
   "cell_type": "code",
   "execution_count": null,
   "id": "f85fcf9f-5c1c-408f-aed0-fa559204ae3c",
   "metadata": {},
   "outputs": [],
   "source": [
    "\n",
    "from collections import deque\n",
    "import sys\n",
    "sys.setrecursionlimit(10**7)\n",
    "input= sys.stdin.readline\n",
    "\n",
    "x,y=0,0\n",
    "m,n = map(int, input().split())\n",
    "\n",
    "d=0\n",
    "start=[]#시작 점을 몇 개 줄 지 몰라서\n",
    "que=deque()#bfs를 위한 덱\n",
    "tmap=[]#그래프\n",
    "\n",
    "for i in range(n):\n",
    "    tmap.append(list(map(int, input().split())))\n",
    "    for j in range(m):\n",
    "        if tmap[i][j]==1:\n",
    "            start.append((i,j))\n",
    "            \n",
    "xd=[-1,1,0,0]\n",
    "yd=[0,0,-1,1]\n",
    "box=deque()#하루 지날 때마다 1 주변에 있는 토마토들이 익는 상황이라 day 조절을 위한 새로운 덱\n",
    "def sol ():#bfs를 따로 만들고 while문으로 처리해도 됐을듯 내거는 약간 어거지 느낌\n",
    "    global d\n",
    "    \n",
    "    while que:#bfs 부분\n",
    "        x, y = que.pop()\n",
    "        for i in range(4):\n",
    "            nx=x+xd[i]\n",
    "            ny=y+yd[i]\n",
    "            if nx<0 or nx>=n or ny<0 or ny>=m:\n",
    "                continue\n",
    "            if tmap[nx][ny]==-1 or tmap[nx][ny]==1:\n",
    "                continue\n",
    "            if tmap[nx][ny]==0:\n",
    "                tmap[nx][ny]=1\n",
    "                box.append((nx,ny))\n",
    "    d+=1\n",
    "    #여기서 d+=1하고 밑에서 box 전체를 que로 이동시키는 순으로 가야 날짜가 맞음\n",
    "    for i in range(len(box)):\n",
    "        que.append(box.pop())\n",
    "    if que:\n",
    "        sol()\n",
    "    else:\n",
    "        d-=1\n",
    "for i in range(len(start)):#처음에 문제를 제대로 이해하지 못했었는데 모든 1에서 토마토가 익기 시작\n",
    "    x,y=start[i]\n",
    "    que.append((x,y))\n",
    "    \n",
    "sol()\n",
    "\n",
    "c=0\n",
    "for i in range(n):#안 익은 토마토가 있나 체크\n",
    "    for j in range(m):\n",
    "        if tmap[i][j]==0:\n",
    "            c+=1\n",
    "            break\n",
    "if c==0:\n",
    "    print(d)\n",
    "else:\n",
    "    print(-1)\n"
   ]
  }
 ],
 "metadata": {
  "kernelspec": {
   "display_name": "Python 3 (ipykernel)",
   "language": "python",
   "name": "python3"
  },
  "language_info": {
   "codemirror_mode": {
    "name": "ipython",
    "version": 3
   },
   "file_extension": ".py",
   "mimetype": "text/x-python",
   "name": "python",
   "nbconvert_exporter": "python",
   "pygments_lexer": "ipython3",
   "version": "3.9.12"
  }
 },
 "nbformat": 4,
 "nbformat_minor": 5
}
